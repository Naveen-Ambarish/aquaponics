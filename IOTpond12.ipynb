{
  "nbformat": 4,
  "nbformat_minor": 0,
  "metadata": {
    "colab": {
      "provenance": []
    },
    "kernelspec": {
      "name": "python3",
      "display_name": "Python 3"
    },
    "language_info": {
      "name": "python"
    }
  },
  "cells": [
    {
      "cell_type": "markdown",
      "source": [
        "As the initial step, import the required libraries that we require to perform the tasks like preprocessing, training our model and predicting the accuracy score of our model"
      ],
      "metadata": {
        "id": "W9Bhl9p5CvzL"
      }
    },
    {
      "cell_type": "code",
      "execution_count": 1,
      "metadata": {
        "id": "uts8VpuQCh-9"
      },
      "outputs": [],
      "source": [
        "import pandas as pd\n",
        "import numpy as np\n",
        "import matplotlib.pyplot as plt\n",
        "import seaborn as sns\n",
        "from sklearn.model_selection import train_test_split\n",
        "from sklearn.discriminant_analysis import LinearDiscriminantAnalysis\n",
        "from sklearn.linear_model import LogisticRegression\n",
        "from sklearn.tree import DecisionTreeClassifier\n",
        "from sklearn.neighbors import KNeighborsClassifier\n",
        "from sklearn.svm import SVC\n",
        "from sklearn.ensemble import AdaBoostClassifier\n",
        "from sklearn.ensemble import ExtraTreesClassifier\n",
        "from sklearn.ensemble import GradientBoostingClassifier\n",
        "from sklearn.naive_bayes import MultinomialNB\n",
        "from sklearn.ensemble import RandomForestClassifier\n",
        "from sklearn.preprocessing import MinMaxScaler\n",
        "from sklearn.metrics import accuracy_score,confusion_matrix,classification_report,precision_score,recall_score,f1_score"
      ]
    },
    {
      "cell_type": "markdown",
      "source": [
        "Import the dataset to the simulation software and to view the first 5 rows of our dataset we used head function in pandas dataframe"
      ],
      "metadata": {
        "id": "2sE_l-eQC6kH"
      }
    },
    {
      "cell_type": "code",
      "source": [
        "df=pd.read_csv(\"/content/drive/MyDrive/aquaponics/IoTPond12.csv\")\n",
        "df.head()"
      ],
      "metadata": {
        "id": "UtzhQ40BC0gQ"
      },
      "execution_count": null,
      "outputs": []
    },
    {
      "cell_type": "code",
      "source": [
        "df.describe()"
      ],
      "metadata": {
        "id": "uDjrfshQC8KZ"
      },
      "execution_count": null,
      "outputs": []
    },
    {
      "cell_type": "markdown",
      "source": [
        "To check for the null values present in our dataset we use isnull() function\n"
      ],
      "metadata": {
        "id": "-XrQUTs8DFC1"
      }
    },
    {
      "cell_type": "code",
      "source": [
        "df.isnull().sum()"
      ],
      "metadata": {
        "colab": {
          "base_uri": "https://localhost:8080/"
        },
        "id": "n7xPz-E8DAre",
        "outputId": "6dbfbf90-3335-4598-862c-3b901ee3505c"
      },
      "execution_count": null,
      "outputs": [
        {
          "output_type": "execute_result",
          "data": {
            "text/plain": [
              "created_at         0\n",
              "entry_id           0\n",
              "TEMPERATURE        0\n",
              "TURBIDITY          0\n",
              "DISOLVED OXYGEN    0\n",
              "pH                 0\n",
              "AMMONIA            1\n",
              "NITRATE            0\n",
              "Population         0\n",
              "Lenght             0\n",
              "Weight             0\n",
              "dtype: int64"
            ]
          },
          "metadata": {},
          "execution_count": 4
        }
      ]
    },
    {
      "cell_type": "markdown",
      "source": [
        "Null Values to be filled with mean values"
      ],
      "metadata": {
        "id": "iQeogR7F3tXC"
      }
    },
    {
      "cell_type": "code",
      "source": [
        "df=df.fillna(df.mean())"
      ],
      "metadata": {
        "colab": {
          "base_uri": "https://localhost:8080/"
        },
        "id": "IV3eDjPd3nP8",
        "outputId": "4438f316-e546-4a25-ea9e-583b406504b3"
      },
      "execution_count": 3,
      "outputs": [
        {
          "output_type": "stream",
          "name": "stderr",
          "text": [
            "<ipython-input-3-6f8c6f28e805>:1: FutureWarning: Dropping of nuisance columns in DataFrame reductions (with 'numeric_only=None') is deprecated; in a future version this will raise TypeError.  Select only valid columns before calling the reduction.\n",
            "  df=df.fillna(df.mean())\n"
          ]
        }
      ]
    },
    {
      "cell_type": "markdown",
      "source": [
        "Checking if the numbers are within limits are having infinite"
      ],
      "metadata": {
        "id": "z987y-9PDPcw"
      }
    },
    {
      "cell_type": "code",
      "source": [
        "df.isin([np.inf,-np.inf]).sum()"
      ],
      "metadata": {
        "colab": {
          "base_uri": "https://localhost:8080/"
        },
        "id": "7hLWooWXDUwU",
        "outputId": "2ee0e0cd-d5b2-46d8-dfed-c718b8b50a15"
      },
      "execution_count": 4,
      "outputs": [
        {
          "output_type": "execute_result",
          "data": {
            "text/plain": [
              "created_at         0\n",
              "entry_id           0\n",
              "TEMPERATURE        0\n",
              "TURBIDITY          0\n",
              "DISOLVED OXYGEN    0\n",
              "pH                 0\n",
              "AMMONIA            0\n",
              "NITRATE            0\n",
              "Population         0\n",
              "Length             0\n",
              "Weight             0\n",
              "dtype: int64"
            ]
          },
          "metadata": {},
          "execution_count": 4
        }
      ]
    },
    {
      "cell_type": "markdown",
      "source": [
        "Drop all the unnecessary columns from the dataset"
      ],
      "metadata": {
        "id": "jlsv0OvUDlLy"
      }
    },
    {
      "cell_type": "code",
      "source": [
        "df=df.drop(columns='entry_id')\n",
        "df=df.drop(columns='Population')\n",
        "df=df.drop(columns='created_at')"
      ],
      "metadata": {
        "id": "Q4Oy05QIDgnX"
      },
      "execution_count": 5,
      "outputs": []
    },
    {
      "cell_type": "markdown",
      "source": [
        "Check the datatype of each columns in our dataset"
      ],
      "metadata": {
        "id": "aA14fn9FDqct"
      }
    },
    {
      "cell_type": "code",
      "source": [
        "df.info()"
      ],
      "metadata": {
        "colab": {
          "base_uri": "https://localhost:8080/"
        },
        "id": "oBQyX6qHDnwh",
        "outputId": "ab8e5041-0ccb-47e1-ca46-4ca54675236b"
      },
      "execution_count": 6,
      "outputs": [
        {
          "output_type": "stream",
          "name": "stdout",
          "text": [
            "<class 'pandas.core.frame.DataFrame'>\n",
            "RangeIndex: 3590 entries, 0 to 3589\n",
            "Data columns (total 8 columns):\n",
            " #   Column           Non-Null Count  Dtype  \n",
            "---  ------           --------------  -----  \n",
            " 0   TEMPERATURE      3590 non-null   float64\n",
            " 1   TURBIDITY        3590 non-null   int64  \n",
            " 2   DISOLVED OXYGEN  3590 non-null   float64\n",
            " 3   pH               3590 non-null   float64\n",
            " 4   AMMONIA          3590 non-null   float64\n",
            " 5   NITRATE          3590 non-null   int64  \n",
            " 6   Length           3590 non-null   float64\n",
            " 7   Weight           3590 non-null   float64\n",
            "dtypes: float64(6), int64(2)\n",
            "memory usage: 224.5 KB\n"
          ]
        }
      ]
    },
    {
      "cell_type": "markdown",
      "source": [
        "We see that our classifications labels fish_length and fish_weight are in float variables and we need to convert them to string."
      ],
      "metadata": {
        "id": "CNexjVIhDwdj"
      }
    },
    {
      "cell_type": "code",
      "source": [
        "df=df.astype({\"Length\":'str',\"Weight\":'str'})"
      ],
      "metadata": {
        "id": "daz76ZYIDtwb"
      },
      "execution_count": 7,
      "outputs": []
    },
    {
      "cell_type": "markdown",
      "source": [
        "To find the corelation between the input variables"
      ],
      "metadata": {
        "id": "HrBd5tGKDzRd"
      }
    },
    {
      "cell_type": "code",
      "source": [
        "df.corr()"
      ],
      "metadata": {
        "colab": {
          "base_uri": "https://localhost:8080/",
          "height": 237
        },
        "id": "2klcWpS7D2VE",
        "outputId": "5498147d-147b-4e8d-ca15-bec3fbd8d914"
      },
      "execution_count": 8,
      "outputs": [
        {
          "output_type": "execute_result",
          "data": {
            "text/plain": [
              "                 TEMPERATURE  TURBIDITY  DISOLVED OXYGEN        pH   AMMONIA  \\\n",
              "TEMPERATURE         1.000000  -0.079386        -0.033957  0.073850  0.001629   \n",
              "TURBIDITY          -0.079386   1.000000        -0.349424  0.004841 -0.002956   \n",
              "DISOLVED OXYGEN    -0.033957  -0.349424         1.000000 -0.531587  0.009256   \n",
              "pH                  0.073850   0.004841        -0.531587  1.000000 -0.003798   \n",
              "AMMONIA             0.001629  -0.002956         0.009256 -0.003798  1.000000   \n",
              "NITRATE            -0.044413  -0.452604         0.584013 -0.592720  0.001413   \n",
              "\n",
              "                  NITRATE  \n",
              "TEMPERATURE     -0.044413  \n",
              "TURBIDITY       -0.452604  \n",
              "DISOLVED OXYGEN  0.584013  \n",
              "pH              -0.592720  \n",
              "AMMONIA          0.001413  \n",
              "NITRATE          1.000000  "
            ],
            "text/html": [
              "\n",
              "  <div id=\"df-91f00a1b-dee8-4efe-903c-7f333e49c662\">\n",
              "    <div class=\"colab-df-container\">\n",
              "      <div>\n",
              "<style scoped>\n",
              "    .dataframe tbody tr th:only-of-type {\n",
              "        vertical-align: middle;\n",
              "    }\n",
              "\n",
              "    .dataframe tbody tr th {\n",
              "        vertical-align: top;\n",
              "    }\n",
              "\n",
              "    .dataframe thead th {\n",
              "        text-align: right;\n",
              "    }\n",
              "</style>\n",
              "<table border=\"1\" class=\"dataframe\">\n",
              "  <thead>\n",
              "    <tr style=\"text-align: right;\">\n",
              "      <th></th>\n",
              "      <th>TEMPERATURE</th>\n",
              "      <th>TURBIDITY</th>\n",
              "      <th>DISOLVED OXYGEN</th>\n",
              "      <th>pH</th>\n",
              "      <th>AMMONIA</th>\n",
              "      <th>NITRATE</th>\n",
              "    </tr>\n",
              "  </thead>\n",
              "  <tbody>\n",
              "    <tr>\n",
              "      <th>TEMPERATURE</th>\n",
              "      <td>1.000000</td>\n",
              "      <td>-0.079386</td>\n",
              "      <td>-0.033957</td>\n",
              "      <td>0.073850</td>\n",
              "      <td>0.001629</td>\n",
              "      <td>-0.044413</td>\n",
              "    </tr>\n",
              "    <tr>\n",
              "      <th>TURBIDITY</th>\n",
              "      <td>-0.079386</td>\n",
              "      <td>1.000000</td>\n",
              "      <td>-0.349424</td>\n",
              "      <td>0.004841</td>\n",
              "      <td>-0.002956</td>\n",
              "      <td>-0.452604</td>\n",
              "    </tr>\n",
              "    <tr>\n",
              "      <th>DISOLVED OXYGEN</th>\n",
              "      <td>-0.033957</td>\n",
              "      <td>-0.349424</td>\n",
              "      <td>1.000000</td>\n",
              "      <td>-0.531587</td>\n",
              "      <td>0.009256</td>\n",
              "      <td>0.584013</td>\n",
              "    </tr>\n",
              "    <tr>\n",
              "      <th>pH</th>\n",
              "      <td>0.073850</td>\n",
              "      <td>0.004841</td>\n",
              "      <td>-0.531587</td>\n",
              "      <td>1.000000</td>\n",
              "      <td>-0.003798</td>\n",
              "      <td>-0.592720</td>\n",
              "    </tr>\n",
              "    <tr>\n",
              "      <th>AMMONIA</th>\n",
              "      <td>0.001629</td>\n",
              "      <td>-0.002956</td>\n",
              "      <td>0.009256</td>\n",
              "      <td>-0.003798</td>\n",
              "      <td>1.000000</td>\n",
              "      <td>0.001413</td>\n",
              "    </tr>\n",
              "    <tr>\n",
              "      <th>NITRATE</th>\n",
              "      <td>-0.044413</td>\n",
              "      <td>-0.452604</td>\n",
              "      <td>0.584013</td>\n",
              "      <td>-0.592720</td>\n",
              "      <td>0.001413</td>\n",
              "      <td>1.000000</td>\n",
              "    </tr>\n",
              "  </tbody>\n",
              "</table>\n",
              "</div>\n",
              "      <button class=\"colab-df-convert\" onclick=\"convertToInteractive('df-91f00a1b-dee8-4efe-903c-7f333e49c662')\"\n",
              "              title=\"Convert this dataframe to an interactive table.\"\n",
              "              style=\"display:none;\">\n",
              "        \n",
              "  <svg xmlns=\"http://www.w3.org/2000/svg\" height=\"24px\"viewBox=\"0 0 24 24\"\n",
              "       width=\"24px\">\n",
              "    <path d=\"M0 0h24v24H0V0z\" fill=\"none\"/>\n",
              "    <path d=\"M18.56 5.44l.94 2.06.94-2.06 2.06-.94-2.06-.94-.94-2.06-.94 2.06-2.06.94zm-11 1L8.5 8.5l.94-2.06 2.06-.94-2.06-.94L8.5 2.5l-.94 2.06-2.06.94zm10 10l.94 2.06.94-2.06 2.06-.94-2.06-.94-.94-2.06-.94 2.06-2.06.94z\"/><path d=\"M17.41 7.96l-1.37-1.37c-.4-.4-.92-.59-1.43-.59-.52 0-1.04.2-1.43.59L10.3 9.45l-7.72 7.72c-.78.78-.78 2.05 0 2.83L4 21.41c.39.39.9.59 1.41.59.51 0 1.02-.2 1.41-.59l7.78-7.78 2.81-2.81c.8-.78.8-2.07 0-2.86zM5.41 20L4 18.59l7.72-7.72 1.47 1.35L5.41 20z\"/>\n",
              "  </svg>\n",
              "      </button>\n",
              "      \n",
              "  <style>\n",
              "    .colab-df-container {\n",
              "      display:flex;\n",
              "      flex-wrap:wrap;\n",
              "      gap: 12px;\n",
              "    }\n",
              "\n",
              "    .colab-df-convert {\n",
              "      background-color: #E8F0FE;\n",
              "      border: none;\n",
              "      border-radius: 50%;\n",
              "      cursor: pointer;\n",
              "      display: none;\n",
              "      fill: #1967D2;\n",
              "      height: 32px;\n",
              "      padding: 0 0 0 0;\n",
              "      width: 32px;\n",
              "    }\n",
              "\n",
              "    .colab-df-convert:hover {\n",
              "      background-color: #E2EBFA;\n",
              "      box-shadow: 0px 1px 2px rgba(60, 64, 67, 0.3), 0px 1px 3px 1px rgba(60, 64, 67, 0.15);\n",
              "      fill: #174EA6;\n",
              "    }\n",
              "\n",
              "    [theme=dark] .colab-df-convert {\n",
              "      background-color: #3B4455;\n",
              "      fill: #D2E3FC;\n",
              "    }\n",
              "\n",
              "    [theme=dark] .colab-df-convert:hover {\n",
              "      background-color: #434B5C;\n",
              "      box-shadow: 0px 1px 3px 1px rgba(0, 0, 0, 0.15);\n",
              "      filter: drop-shadow(0px 1px 2px rgba(0, 0, 0, 0.3));\n",
              "      fill: #FFFFFF;\n",
              "    }\n",
              "  </style>\n",
              "\n",
              "      <script>\n",
              "        const buttonEl =\n",
              "          document.querySelector('#df-91f00a1b-dee8-4efe-903c-7f333e49c662 button.colab-df-convert');\n",
              "        buttonEl.style.display =\n",
              "          google.colab.kernel.accessAllowed ? 'block' : 'none';\n",
              "\n",
              "        async function convertToInteractive(key) {\n",
              "          const element = document.querySelector('#df-91f00a1b-dee8-4efe-903c-7f333e49c662');\n",
              "          const dataTable =\n",
              "            await google.colab.kernel.invokeFunction('convertToInteractive',\n",
              "                                                     [key], {});\n",
              "          if (!dataTable) return;\n",
              "\n",
              "          const docLinkHtml = 'Like what you see? Visit the ' +\n",
              "            '<a target=\"_blank\" href=https://colab.research.google.com/notebooks/data_table.ipynb>data table notebook</a>'\n",
              "            + ' to learn more about interactive tables.';\n",
              "          element.innerHTML = '';\n",
              "          dataTable['output_type'] = 'display_data';\n",
              "          await google.colab.output.renderOutput(dataTable, element);\n",
              "          const docLink = document.createElement('div');\n",
              "          docLink.innerHTML = docLinkHtml;\n",
              "          element.appendChild(docLink);\n",
              "        }\n",
              "      </script>\n",
              "    </div>\n",
              "  </div>\n",
              "  "
            ]
          },
          "metadata": {},
          "execution_count": 8
        }
      ]
    },
    {
      "cell_type": "code",
      "source": [
        "x=df.drop(columns=['Length','Weight'])\n",
        "y=df.drop(columns=['TEMPERATURE','TURBIDITY','DISOLVED OXYGEN','pH','AMMONIA','NITRATE'])\n",
        "y1=y['Length']\n",
        "y2=y['Weight']"
      ],
      "metadata": {
        "id": "Im3Q57HSD6t3"
      },
      "execution_count": 10,
      "outputs": []
    },
    {
      "cell_type": "markdown",
      "source": [
        "Y1 corresponds to the model for fish length label and Y2 corresponds to the model for fish weight label. Splitting the data for training and testing\n"
      ],
      "metadata": {
        "id": "vedO5lboECJd"
      }
    },
    {
      "cell_type": "code",
      "source": [
        "X_train,X_test,Y1_train,Y1_test=train_test_split(x,y1,test_size=0.2,random_state=0)\n",
        "X_train,X_test,Y2_train,Y2_test=train_test_split(x,y2,test_size=0.2,random_state=0)"
      ],
      "metadata": {
        "id": "nSBcYsclD7Tg"
      },
      "execution_count": 11,
      "outputs": []
    },
    {
      "cell_type": "markdown",
      "source": [
        "Saling of input data"
      ],
      "metadata": {
        "id": "6DWWdLOkYiNm"
      }
    },
    {
      "cell_type": "code",
      "source": [
        "scaler = MinMaxScaler()\n",
        "X_train = scaler.fit_transform(X_train)\n",
        "X_test = scaler.transform(X_test)"
      ],
      "metadata": {
        "id": "ErkZ9mlqYf2t"
      },
      "execution_count": 12,
      "outputs": []
    },
    {
      "cell_type": "markdown",
      "source": [
        "1) Logistic Regression"
      ],
      "metadata": {
        "id": "-Jj7h1mCEIoS"
      }
    },
    {
      "cell_type": "code",
      "source": [
        "model=LogisticRegression(multi_class='multinomial')\n",
        "data=model.fit(X_train,Y1_train)\n",
        "Y1_predict=data.predict(X_test)\n",
        "print(\"The classification report for Fish Length is:\",classification_report(Y1_test,Y1_predict))\n",
        "print(\"The confusion matrix for Fish Length is:\",confusion_matrix(Y1_test,Y1_predict))\n",
        "data=model.fit(X_train,Y2_train)\n",
        "Y2_predict=data.predict(X_test)\n",
        "print(\"The classification report for Fish Weight is:\",classification_report(Y2_test,Y2_predict))\n",
        "print(\"The confusion matrix for Fish Weight is:\",confusion_matrix(Y2_test,Y2_predict))"
      ],
      "metadata": {
        "colab": {
          "base_uri": "https://localhost:8080/"
        },
        "id": "LVEN164pEGLB",
        "outputId": "301add95-162d-4939-cafc-412381f61fba"
      },
      "execution_count": 13,
      "outputs": [
        {
          "output_type": "stream",
          "name": "stderr",
          "text": [
            "/usr/local/lib/python3.8/dist-packages/sklearn/linear_model/_logistic.py:814: ConvergenceWarning: lbfgs failed to converge (status=1):\n",
            "STOP: TOTAL NO. of ITERATIONS REACHED LIMIT.\n",
            "\n",
            "Increase the number of iterations (max_iter) or scale the data as shown in:\n",
            "    https://scikit-learn.org/stable/modules/preprocessing.html\n",
            "Please also refer to the documentation for alternative solver options:\n",
            "    https://scikit-learn.org/stable/modules/linear_model.html#logistic-regression\n",
            "  n_iter_i = _check_optimize_result(\n",
            "/usr/local/lib/python3.8/dist-packages/sklearn/metrics/_classification.py:1318: UndefinedMetricWarning: Precision and F-score are ill-defined and being set to 0.0 in labels with no predicted samples. Use `zero_division` parameter to control this behavior.\n",
            "  _warn_prf(average, modifier, msg_start, len(result))\n",
            "/usr/local/lib/python3.8/dist-packages/sklearn/metrics/_classification.py:1318: UndefinedMetricWarning: Precision and F-score are ill-defined and being set to 0.0 in labels with no predicted samples. Use `zero_division` parameter to control this behavior.\n",
            "  _warn_prf(average, modifier, msg_start, len(result))\n",
            "/usr/local/lib/python3.8/dist-packages/sklearn/metrics/_classification.py:1318: UndefinedMetricWarning: Precision and F-score are ill-defined and being set to 0.0 in labels with no predicted samples. Use `zero_division` parameter to control this behavior.\n",
            "  _warn_prf(average, modifier, msg_start, len(result))\n"
          ]
        },
        {
          "output_type": "stream",
          "name": "stdout",
          "text": [
            "The classification report for Fish Length is:               precision    recall  f1-score   support\n",
            "\n",
            "       14.64       0.00      0.00      0.00         8\n",
            "       32.01       0.42      1.00      0.59         5\n",
            "    32.58643       0.81      0.71      0.76       124\n",
            "    39.95929       0.47      0.85      0.61       110\n",
            "    40.06857       0.00      0.00      0.00        10\n",
            "    40.73571       0.66      0.62      0.64        81\n",
            "    41.00142       0.00      0.00      0.00        33\n",
            "   41.267134       1.00      0.01      0.02       100\n",
            "    41.39642       0.16      0.06      0.08       105\n",
            "    41.66213       0.42      0.85      0.57       142\n",
            "\n",
            "    accuracy                           0.51       718\n",
            "   macro avg       0.39      0.41      0.33       718\n",
            "weighted avg       0.54      0.51      0.43       718\n",
            "\n",
            "The confusion matrix for Fish Length is: [[  0   7   1   0   0   0   0   0   0   0]\n",
            " [  0   5   0   0   0   0   0   0   0   0]\n",
            " [  0   0  88  33   0   0   0   0   1   2]\n",
            " [  0   0  10  93   0   3   0   0   4   0]\n",
            " [  0   0   3   2   0   5   0   0   0   0]\n",
            " [  0   0   2  27   0  50   0   0   1   1]\n",
            " [  0   0   1  13   0   8   0   0  11   0]\n",
            " [  0   0   3   6   0   0   0   1  11  79]\n",
            " [  0   0   0   7   0  10   0   0   6  82]\n",
            " [  0   0   1  16   0   0   0   0   4 121]]\n",
            "The classification report for Fish Weight is:               precision    recall  f1-score   support\n",
            "\n",
            "       275.9       0.42      1.00      0.59         5\n",
            "        28.6       0.00      0.00      0.00         8\n",
            "    296.0429       0.81      0.71      0.76       124\n",
            "    559.1929       0.00      0.00      0.00        10\n",
            "    576.4286       0.47      0.85      0.61       110\n",
            "    589.7857       0.66      0.62      0.64        81\n",
            "    597.5714       0.00      0.00      0.00        33\n",
            "  605.357114       1.00      0.01      0.02       100\n",
            "    613.1428       0.16      0.06      0.08       105\n",
            "    620.9285       0.42      0.85      0.57       142\n",
            "\n",
            "    accuracy                           0.51       718\n",
            "   macro avg       0.39      0.41      0.33       718\n",
            "weighted avg       0.54      0.51      0.43       718\n",
            "\n",
            "The confusion matrix for Fish Weight is: [[  5   0   0   0   0   0   0   0   0   0]\n",
            " [  7   0   1   0   0   0   0   0   0   0]\n",
            " [  0   0  88   0  33   0   0   0   1   2]\n",
            " [  0   0   3   0   2   5   0   0   0   0]\n",
            " [  0   0  10   0  93   3   0   0   4   0]\n",
            " [  0   0   2   0  27  50   0   0   1   1]\n",
            " [  0   0   1   0  13   8   0   0  11   0]\n",
            " [  0   0   3   0   6   0   0   1  11  79]\n",
            " [  0   0   0   0   7  10   0   0   6  82]\n",
            " [  0   0   1   0  16   0   0   0   4 121]]\n"
          ]
        },
        {
          "output_type": "stream",
          "name": "stderr",
          "text": [
            "/usr/local/lib/python3.8/dist-packages/sklearn/linear_model/_logistic.py:814: ConvergenceWarning: lbfgs failed to converge (status=1):\n",
            "STOP: TOTAL NO. of ITERATIONS REACHED LIMIT.\n",
            "\n",
            "Increase the number of iterations (max_iter) or scale the data as shown in:\n",
            "    https://scikit-learn.org/stable/modules/preprocessing.html\n",
            "Please also refer to the documentation for alternative solver options:\n",
            "    https://scikit-learn.org/stable/modules/linear_model.html#logistic-regression\n",
            "  n_iter_i = _check_optimize_result(\n",
            "/usr/local/lib/python3.8/dist-packages/sklearn/metrics/_classification.py:1318: UndefinedMetricWarning: Precision and F-score are ill-defined and being set to 0.0 in labels with no predicted samples. Use `zero_division` parameter to control this behavior.\n",
            "  _warn_prf(average, modifier, msg_start, len(result))\n",
            "/usr/local/lib/python3.8/dist-packages/sklearn/metrics/_classification.py:1318: UndefinedMetricWarning: Precision and F-score are ill-defined and being set to 0.0 in labels with no predicted samples. Use `zero_division` parameter to control this behavior.\n",
            "  _warn_prf(average, modifier, msg_start, len(result))\n",
            "/usr/local/lib/python3.8/dist-packages/sklearn/metrics/_classification.py:1318: UndefinedMetricWarning: Precision and F-score are ill-defined and being set to 0.0 in labels with no predicted samples. Use `zero_division` parameter to control this behavior.\n",
            "  _warn_prf(average, modifier, msg_start, len(result))\n"
          ]
        }
      ]
    },
    {
      "cell_type": "markdown",
      "source": [
        "2) Decision Tree Classifier"
      ],
      "metadata": {
        "id": "0lgjS9lLEM36"
      }
    },
    {
      "cell_type": "code",
      "source": [
        "model=DecisionTreeClassifier()\n",
        "data=model.fit(X_train,Y1_train)\n",
        "Y1_predict=data.predict(X_test)\n",
        "print(\"The classification report for Fish Length is:\",classification_report(Y1_test,Y1_predict))\n",
        "print(\"The confusion matrix for Fish Length is:\",confusion_matrix(Y1_test,Y1_predict))\n",
        "data=model.fit(X_train,Y2_train)\n",
        "Y2_predict=data.predict(X_test)\n",
        "print(\"The classification report for Fish Weight is:\",classification_report(Y2_test,Y2_predict))\n",
        "print(\"The confusion matrix for Fish Weight is:\",confusion_matrix(Y2_test,Y2_predict))"
      ],
      "metadata": {
        "colab": {
          "base_uri": "https://localhost:8080/"
        },
        "id": "KQ1ZuNlAEMfo",
        "outputId": "fad1698d-3600-4d1e-b220-9b21daaf3c16"
      },
      "execution_count": 14,
      "outputs": [
        {
          "output_type": "stream",
          "name": "stdout",
          "text": [
            "The classification report for Fish Length is:               precision    recall  f1-score   support\n",
            "\n",
            "       14.64       0.20      0.12      0.15         8\n",
            "       32.01       0.12      0.20      0.15         5\n",
            "    32.58643       0.99      1.00      1.00       124\n",
            "    39.95929       0.90      0.85      0.88       110\n",
            "    40.06857       0.89      0.80      0.84        10\n",
            "    40.73571       0.90      0.85      0.87        81\n",
            "    41.00142       0.82      0.82      0.82        33\n",
            "   41.267134       0.94      0.99      0.97       100\n",
            "    41.39642       0.90      0.91      0.91       105\n",
            "    41.66213       0.92      0.94      0.93       142\n",
            "\n",
            "    accuracy                           0.91       718\n",
            "   macro avg       0.76      0.75      0.75       718\n",
            "weighted avg       0.91      0.91      0.91       718\n",
            "\n",
            "The confusion matrix for Fish Length is: [[  1   7   0   0   0   0   0   0   0   0]\n",
            " [  4   1   0   0   0   0   0   0   0   0]\n",
            " [  0   0 124   0   0   0   0   0   0   0]\n",
            " [  0   0   0  94   0   7   4   2   1   2]\n",
            " [  0   0   0   1   8   0   1   0   0   0]\n",
            " [  0   0   0   5   1  69   1   0   2   3]\n",
            " [  0   0   0   3   0   0  27   3   0   0]\n",
            " [  0   0   0   0   0   0   0  99   0   1]\n",
            " [  0   0   1   0   0   1   0   1  96   6]\n",
            " [  0   0   0   1   0   0   0   0   8 133]]\n",
            "The classification report for Fish Weight is:               precision    recall  f1-score   support\n",
            "\n",
            "       275.9       0.20      0.40      0.27         5\n",
            "        28.6       0.00      0.00      0.00         8\n",
            "    296.0429       0.98      1.00      0.99       124\n",
            "    559.1929       0.89      0.80      0.84        10\n",
            "    576.4286       0.91      0.87      0.89       110\n",
            "    589.7857       0.90      0.86      0.88        81\n",
            "    597.5714       0.82      0.85      0.84        33\n",
            "  605.357114       0.94      0.99      0.97       100\n",
            "    613.1428       0.91      0.91      0.91       105\n",
            "    620.9285       0.94      0.95      0.95       142\n",
            "\n",
            "    accuracy                           0.92       718\n",
            "   macro avg       0.75      0.76      0.75       718\n",
            "weighted avg       0.91      0.92      0.92       718\n",
            "\n",
            "The confusion matrix for Fish Weight is: [[  2   3   0   0   0   0   0   0   0   0]\n",
            " [  8   0   0   0   0   0   0   0   0   0]\n",
            " [  0   0 124   0   0   0   0   0   0   0]\n",
            " [  0   0   0   8   1   0   1   0   0   0]\n",
            " [  0   0   0   0  96   6   4   2   0   2]\n",
            " [  0   0   0   1   4  70   1   0   3   2]\n",
            " [  0   0   0   0   2   0  28   3   0   0]\n",
            " [  0   0   0   0   0   1   0  99   0   0]\n",
            " [  0   0   2   0   1   1   0   1  96   4]\n",
            " [  0   0   0   0   1   0   0   0   6 135]]\n"
          ]
        }
      ]
    },
    {
      "cell_type": "markdown",
      "source": [
        "3) Support Vector Machine"
      ],
      "metadata": {
        "id": "7oXUyizgETVi"
      }
    },
    {
      "cell_type": "code",
      "source": [
        "model=SVC()\n",
        "data=model.fit(X_train,Y1_train)\n",
        "Y1_predict=data.predict(X_test)\n",
        "print(\"The classification report for Fish Length is:\",classification_report(Y1_test,Y1_predict))\n",
        "print(\"The confusion matrix for Fish Length is:\",confusion_matrix(Y1_test,Y1_predict))\n",
        "data=model.fit(X_train,Y2_train)\n",
        "Y2_predict=data.predict(X_test)\n",
        "print(\"The classification report for Fish Weight is:\",classification_report(Y2_test,Y2_predict))\n",
        "print(\"The confusion matrix for Fish Weight is:\",confusion_matrix(Y2_test,Y2_predict))"
      ],
      "metadata": {
        "colab": {
          "base_uri": "https://localhost:8080/"
        },
        "id": "S3vtXKR0EaI3",
        "outputId": "6782bb91-9bec-4b9e-fc0a-b8acc0df17aa"
      },
      "execution_count": 15,
      "outputs": [
        {
          "output_type": "stream",
          "name": "stderr",
          "text": [
            "/usr/local/lib/python3.8/dist-packages/sklearn/metrics/_classification.py:1318: UndefinedMetricWarning: Precision and F-score are ill-defined and being set to 0.0 in labels with no predicted samples. Use `zero_division` parameter to control this behavior.\n",
            "  _warn_prf(average, modifier, msg_start, len(result))\n",
            "/usr/local/lib/python3.8/dist-packages/sklearn/metrics/_classification.py:1318: UndefinedMetricWarning: Precision and F-score are ill-defined and being set to 0.0 in labels with no predicted samples. Use `zero_division` parameter to control this behavior.\n",
            "  _warn_prf(average, modifier, msg_start, len(result))\n",
            "/usr/local/lib/python3.8/dist-packages/sklearn/metrics/_classification.py:1318: UndefinedMetricWarning: Precision and F-score are ill-defined and being set to 0.0 in labels with no predicted samples. Use `zero_division` parameter to control this behavior.\n",
            "  _warn_prf(average, modifier, msg_start, len(result))\n"
          ]
        },
        {
          "output_type": "stream",
          "name": "stdout",
          "text": [
            "The classification report for Fish Length is:               precision    recall  f1-score   support\n",
            "\n",
            "       14.64       0.00      0.00      0.00         8\n",
            "       32.01       0.38      1.00      0.56         5\n",
            "    32.58643       0.75      0.91      0.82       124\n",
            "    39.95929       0.56      0.80      0.66       110\n",
            "    40.06857       0.00      0.00      0.00        10\n",
            "    40.73571       0.71      0.59      0.64        81\n",
            "    41.00142       0.00      0.00      0.00        33\n",
            "   41.267134       0.80      0.04      0.08       100\n",
            "    41.39642       0.36      0.50      0.42       105\n",
            "    41.66213       0.57      0.73      0.64       142\n",
            "\n",
            "    accuracy                           0.58       718\n",
            "   macro avg       0.41      0.46      0.38       718\n",
            "weighted avg       0.57      0.58      0.52       718\n",
            "\n",
            "The confusion matrix for Fish Length is: [[  0   8   0   0   0   0   0   0   0   0]\n",
            " [  0   5   0   0   0   0   0   0   0   0]\n",
            " [  0   0 113   7   0   1   0   0   1   2]\n",
            " [  0   0  17  88   0   0   0   0   5   0]\n",
            " [  0   0   3   2   0   5   0   0   0   0]\n",
            " [  0   0   2  27   0  48   0   0   4   0]\n",
            " [  0   0  12  11   0   8   0   0   2   0]\n",
            " [  0   0   2   4   0   0   0   4  55  35]\n",
            " [  0   0   1   5   0   6   0   1  52  40]\n",
            " [  0   0   1  14   0   0   0   0  24 103]]\n",
            "The classification report for Fish Weight is:               precision    recall  f1-score   support\n",
            "\n",
            "       275.9       0.38      1.00      0.56         5\n",
            "        28.6       0.00      0.00      0.00         8\n",
            "    296.0429       0.75      0.91      0.82       124\n",
            "    559.1929       0.00      0.00      0.00        10\n",
            "    576.4286       0.56      0.80      0.66       110\n",
            "    589.7857       0.71      0.59      0.64        81\n",
            "    597.5714       0.00      0.00      0.00        33\n",
            "  605.357114       0.80      0.04      0.08       100\n",
            "    613.1428       0.36      0.50      0.42       105\n",
            "    620.9285       0.57      0.73      0.64       142\n",
            "\n",
            "    accuracy                           0.58       718\n",
            "   macro avg       0.41      0.46      0.38       718\n",
            "weighted avg       0.57      0.58      0.52       718\n",
            "\n",
            "The confusion matrix for Fish Weight is: [[  5   0   0   0   0   0   0   0   0   0]\n",
            " [  8   0   0   0   0   0   0   0   0   0]\n",
            " [  0   0 113   0   7   1   0   0   1   2]\n",
            " [  0   0   3   0   2   5   0   0   0   0]\n",
            " [  0   0  17   0  88   0   0   0   5   0]\n",
            " [  0   0   2   0  27  48   0   0   4   0]\n",
            " [  0   0  12   0  11   8   0   0   2   0]\n",
            " [  0   0   2   0   4   0   0   4  55  35]\n",
            " [  0   0   1   0   5   6   0   1  52  40]\n",
            " [  0   0   1   0  14   0   0   0  24 103]]\n"
          ]
        },
        {
          "output_type": "stream",
          "name": "stderr",
          "text": [
            "/usr/local/lib/python3.8/dist-packages/sklearn/metrics/_classification.py:1318: UndefinedMetricWarning: Precision and F-score are ill-defined and being set to 0.0 in labels with no predicted samples. Use `zero_division` parameter to control this behavior.\n",
            "  _warn_prf(average, modifier, msg_start, len(result))\n",
            "/usr/local/lib/python3.8/dist-packages/sklearn/metrics/_classification.py:1318: UndefinedMetricWarning: Precision and F-score are ill-defined and being set to 0.0 in labels with no predicted samples. Use `zero_division` parameter to control this behavior.\n",
            "  _warn_prf(average, modifier, msg_start, len(result))\n",
            "/usr/local/lib/python3.8/dist-packages/sklearn/metrics/_classification.py:1318: UndefinedMetricWarning: Precision and F-score are ill-defined and being set to 0.0 in labels with no predicted samples. Use `zero_division` parameter to control this behavior.\n",
            "  _warn_prf(average, modifier, msg_start, len(result))\n"
          ]
        }
      ]
    },
    {
      "cell_type": "markdown",
      "source": [
        "4) Random Forest Classifier"
      ],
      "metadata": {
        "id": "_q6jHikLE0po"
      }
    },
    {
      "cell_type": "code",
      "source": [
        "model=RandomForestClassifier()\n",
        "data=model.fit(X_train,Y1_train)\n",
        "Y1_predict=data.predict(X_test)\n",
        "print(\"The classification report for Fish Length is:\",classification_report(Y1_test,Y1_predict))\n",
        "print(\"The confusion matrix for Fish Length is:\",confusion_matrix(Y1_test,Y1_predict))\n",
        "data=model.fit(X_train,Y2_train)\n",
        "Y2_predict=data.predict(X_test)\n",
        "print(\"The classification report for Fish Weight is:\",classification_report(Y2_test,Y2_predict))\n",
        "print(\"The confusion matrix for Fish Weight is:\",confusion_matrix(Y2_test,Y2_predict))"
      ],
      "metadata": {
        "colab": {
          "base_uri": "https://localhost:8080/"
        },
        "id": "GQ_iuMHBEvpu",
        "outputId": "a4b56d7f-a2c2-4728-d172-e46480cd083f"
      },
      "execution_count": 16,
      "outputs": [
        {
          "output_type": "stream",
          "name": "stdout",
          "text": [
            "The classification report for Fish Length is:               precision    recall  f1-score   support\n",
            "\n",
            "       14.64       0.00      0.00      0.00         8\n",
            "       32.01       0.20      0.40      0.27         5\n",
            "    32.58643       1.00      1.00      1.00       124\n",
            "    39.95929       0.91      0.93      0.92       110\n",
            "    40.06857       1.00      0.90      0.95        10\n",
            "    40.73571       0.91      0.88      0.89        81\n",
            "    41.00142       0.96      0.82      0.89        33\n",
            "   41.267134       0.97      0.99      0.98       100\n",
            "    41.39642       0.91      0.95      0.93       105\n",
            "    41.66213       0.95      0.95      0.95       142\n",
            "\n",
            "    accuracy                           0.93       718\n",
            "   macro avg       0.78      0.78      0.78       718\n",
            "weighted avg       0.93      0.93      0.93       718\n",
            "\n",
            "The confusion matrix for Fish Length is: [[  0   8   0   0   0   0   0   0   0   0]\n",
            " [  3   2   0   0   0   0   0   0   0   0]\n",
            " [  0   0 124   0   0   0   0   0   0   0]\n",
            " [  0   0   0 102   0   6   0   0   0   2]\n",
            " [  0   0   0   1   9   0   0   0   0   0]\n",
            " [  0   0   0   4   0  71   1   0   3   2]\n",
            " [  0   0   0   5   0   0  27   1   0   0]\n",
            " [  0   0   0   0   0   0   0  99   1   0]\n",
            " [  0   0   0   0   0   0   0   2 100   3]\n",
            " [  0   0   0   0   0   1   0   0   6 135]]\n",
            "The classification report for Fish Weight is:               precision    recall  f1-score   support\n",
            "\n",
            "       275.9       0.12      0.20      0.15         5\n",
            "        28.6       0.20      0.12      0.15         8\n",
            "    296.0429       1.00      1.00      1.00       124\n",
            "    559.1929       1.00      0.80      0.89        10\n",
            "    576.4286       0.89      0.92      0.91       110\n",
            "    589.7857       0.91      0.89      0.90        81\n",
            "    597.5714       0.96      0.79      0.87        33\n",
            "  605.357114       0.97      0.98      0.98       100\n",
            "    613.1428       0.92      0.95      0.93       105\n",
            "    620.9285       0.95      0.96      0.96       142\n",
            "\n",
            "    accuracy                           0.93       718\n",
            "   macro avg       0.79      0.76      0.77       718\n",
            "weighted avg       0.93      0.93      0.93       718\n",
            "\n",
            "The confusion matrix for Fish Weight is: [[  1   4   0   0   0   0   0   0   0   0]\n",
            " [  7   1   0   0   0   0   0   0   0   0]\n",
            " [  0   0 124   0   0   0   0   0   0   0]\n",
            " [  0   0   0   8   2   0   0   0   0   0]\n",
            " [  0   0   0   0 101   7   0   0   0   2]\n",
            " [  0   0   0   0   3  72   1   0   3   2]\n",
            " [  0   0   0   0   6   0  26   1   0   0]\n",
            " [  0   0   0   0   1   0   0  98   1   0]\n",
            " [  0   0   0   0   0   0   0   2 100   3]\n",
            " [  0   0   0   0   0   0   0   0   5 137]]\n"
          ]
        }
      ]
    },
    {
      "cell_type": "markdown",
      "source": [
        "5) K Nearest Neighbors"
      ],
      "metadata": {
        "id": "9qN7Ep5mE9IR"
      }
    },
    {
      "cell_type": "code",
      "source": [
        "model=KNeighborsClassifier()\n",
        "data=model.fit(X_train,Y1_train)\n",
        "Y1_predict=data.predict(X_test)\n",
        "print(\"The classification report for Fish Length is:\",classification_report(Y1_test,Y1_predict))\n",
        "print(\"The confusion matrix for Fish Length is:\",confusion_matrix(Y1_test,Y1_predict))\n",
        "data=model.fit(X_train,Y2_train)\n",
        "Y2_predict=data.predict(X_test)\n",
        "print(\"The classification report for Fish Weight is:\",classification_report(Y2_test,Y2_predict))\n",
        "print(\"The confusion matrix for Fish Weight is:\",confusion_matrix(Y2_test,Y2_predict))"
      ],
      "metadata": {
        "colab": {
          "base_uri": "https://localhost:8080/"
        },
        "id": "jwI3MN3PE431",
        "outputId": "1f0488ab-8170-47c8-f75e-b6f7cd2d3f17"
      },
      "execution_count": 17,
      "outputs": [
        {
          "output_type": "stream",
          "name": "stdout",
          "text": [
            "The classification report for Fish Length is:               precision    recall  f1-score   support\n",
            "\n",
            "       14.64       0.25      0.12      0.17         8\n",
            "       32.01       0.22      0.40      0.29         5\n",
            "    32.58643       0.93      0.95      0.94       124\n",
            "    39.95929       0.76      0.84      0.80       110\n",
            "    40.06857       1.00      0.60      0.75        10\n",
            "    40.73571       0.80      0.73      0.76        81\n",
            "    41.00142       0.67      0.61      0.63        33\n",
            "   41.267134       0.66      0.58      0.62       100\n",
            "    41.39642       0.67      0.72      0.70       105\n",
            "    41.66213       0.84      0.87      0.85       142\n",
            "\n",
            "    accuracy                           0.77       718\n",
            "   macro avg       0.68      0.64      0.65       718\n",
            "weighted avg       0.77      0.77      0.77       718\n",
            "\n",
            "The confusion matrix for Fish Length is: [[  1   7   0   0   0   0   0   0   0   0]\n",
            " [  3   2   0   0   0   0   0   0   0   0]\n",
            " [  0   0 118   5   0   0   0   0   1   0]\n",
            " [  0   0   2  92   0  10   1   1   3   1]\n",
            " [  0   0   2   2   6   0   0   0   0   0]\n",
            " [  0   0   2  10   0  59   7   2   1   0]\n",
            " [  0   0   1   6   0   3  20   0   2   1]\n",
            " [  0   0   1   3   0   2   0  58  20  16]\n",
            " [  0   0   0   2   0   0   1  21  76   5]\n",
            " [  0   0   1   1   0   0   1   6  10 123]]\n",
            "The classification report for Fish Weight is:               precision    recall  f1-score   support\n",
            "\n",
            "       275.9       0.22      0.40      0.29         5\n",
            "        28.6       0.25      0.12      0.17         8\n",
            "    296.0429       0.93      0.95      0.94       124\n",
            "    559.1929       1.00      0.60      0.75        10\n",
            "    576.4286       0.76      0.84      0.80       110\n",
            "    589.7857       0.80      0.73      0.76        81\n",
            "    597.5714       0.67      0.61      0.63        33\n",
            "  605.357114       0.66      0.58      0.62       100\n",
            "    613.1428       0.67      0.72      0.70       105\n",
            "    620.9285       0.84      0.87      0.85       142\n",
            "\n",
            "    accuracy                           0.77       718\n",
            "   macro avg       0.68      0.64      0.65       718\n",
            "weighted avg       0.77      0.77      0.77       718\n",
            "\n",
            "The confusion matrix for Fish Weight is: [[  2   3   0   0   0   0   0   0   0   0]\n",
            " [  7   1   0   0   0   0   0   0   0   0]\n",
            " [  0   0 118   0   5   0   0   0   1   0]\n",
            " [  0   0   2   6   2   0   0   0   0   0]\n",
            " [  0   0   2   0  92  10   1   1   3   1]\n",
            " [  0   0   2   0  10  59   7   2   1   0]\n",
            " [  0   0   1   0   6   3  20   0   2   1]\n",
            " [  0   0   1   0   3   2   0  58  20  16]\n",
            " [  0   0   0   0   2   0   1  21  76   5]\n",
            " [  0   0   1   0   1   0   1   6  10 123]]\n"
          ]
        }
      ]
    },
    {
      "cell_type": "markdown",
      "source": [
        "6) Ada Boost Classifier"
      ],
      "metadata": {
        "id": "q4xPkrxRFDro"
      }
    },
    {
      "cell_type": "code",
      "source": [
        "model=AdaBoostClassifier()\n",
        "data=model.fit(X_train,Y1_train)\n",
        "Y1_predict=data.predict(X_test)\n",
        "print(\"The classification report for Fish Length is:\",classification_report(Y1_test,Y1_predict))\n",
        "print(\"The confusion matrix for Fish Length is:\",confusion_matrix(Y1_test,Y1_predict))\n",
        "data=model.fit(X_train,Y2_train)\n",
        "Y2_predict=data.predict(X_test)\n",
        "print(\"The classification report for Fish Weight is:\",classification_report(Y2_test,Y2_predict))\n",
        "print(\"The confusion matrix for Fish Weight is:\",confusion_matrix(Y2_test,Y2_predict))"
      ],
      "metadata": {
        "colab": {
          "base_uri": "https://localhost:8080/"
        },
        "id": "w5yuYkCKFAXK",
        "outputId": "b825b5c4-b119-42ef-f077-4c010aee99dd"
      },
      "execution_count": 18,
      "outputs": [
        {
          "output_type": "stream",
          "name": "stderr",
          "text": [
            "/usr/local/lib/python3.8/dist-packages/sklearn/metrics/_classification.py:1318: UndefinedMetricWarning: Precision and F-score are ill-defined and being set to 0.0 in labels with no predicted samples. Use `zero_division` parameter to control this behavior.\n",
            "  _warn_prf(average, modifier, msg_start, len(result))\n",
            "/usr/local/lib/python3.8/dist-packages/sklearn/metrics/_classification.py:1318: UndefinedMetricWarning: Precision and F-score are ill-defined and being set to 0.0 in labels with no predicted samples. Use `zero_division` parameter to control this behavior.\n",
            "  _warn_prf(average, modifier, msg_start, len(result))\n",
            "/usr/local/lib/python3.8/dist-packages/sklearn/metrics/_classification.py:1318: UndefinedMetricWarning: Precision and F-score are ill-defined and being set to 0.0 in labels with no predicted samples. Use `zero_division` parameter to control this behavior.\n",
            "  _warn_prf(average, modifier, msg_start, len(result))\n"
          ]
        },
        {
          "output_type": "stream",
          "name": "stdout",
          "text": [
            "The classification report for Fish Length is:               precision    recall  f1-score   support\n",
            "\n",
            "       14.64       0.00      0.00      0.00         8\n",
            "       32.01       0.29      0.40      0.33         5\n",
            "    32.58643       0.00      0.00      0.00       124\n",
            "    39.95929       0.27      0.99      0.42       110\n",
            "    40.06857       0.00      0.00      0.00        10\n",
            "    40.73571       0.00      0.00      0.00        81\n",
            "    41.00142       0.00      0.00      0.00        33\n",
            "   41.267134       0.00      0.00      0.00       100\n",
            "    41.39642       0.00      0.00      0.00       105\n",
            "    41.66213       0.35      0.72      0.47       142\n",
            "\n",
            "    accuracy                           0.30       718\n",
            "   macro avg       0.09      0.21      0.12       718\n",
            "weighted avg       0.11      0.30      0.16       718\n",
            "\n",
            "The confusion matrix for Fish Length is: [[  0   5   3   0   0   0   0   0   0   0]\n",
            " [  0   2   3   0   0   0   0   0   0   0]\n",
            " [  0   0   0   0   0   0   0   0   0 124]\n",
            " [  0   0   0 109   0   0   0   0   0   1]\n",
            " [  0   0   0  10   0   0   0   0   0   0]\n",
            " [  0   0   0  80   0   0   0   0   0   1]\n",
            " [  0   0   0  33   0   0   0   0   0   0]\n",
            " [  0   0   0 100   0   0   0   0   0   0]\n",
            " [  0   0   0  38   0   0   0   0   0  67]\n",
            " [  0   0   0  40   0   0   0   0   0 102]]\n",
            "The classification report for Fish Weight is:               precision    recall  f1-score   support\n",
            "\n",
            "       275.9       0.29      0.40      0.33         5\n",
            "        28.6       0.00      0.00      0.00         8\n",
            "    296.0429       0.00      0.00      0.00       124\n",
            "    559.1929       0.00      0.00      0.00        10\n",
            "    576.4286       0.27      0.99      0.42       110\n",
            "    589.7857       0.00      0.00      0.00        81\n",
            "    597.5714       0.00      0.00      0.00        33\n",
            "  605.357114       0.00      0.00      0.00       100\n",
            "    613.1428       0.00      0.00      0.00       105\n",
            "    620.9285       0.35      0.72      0.47       142\n",
            "\n",
            "    accuracy                           0.30       718\n",
            "   macro avg       0.09      0.21      0.12       718\n",
            "weighted avg       0.11      0.30      0.16       718\n",
            "\n",
            "The confusion matrix for Fish Weight is: [[  2   0   3   0   0   0   0   0   0   0]\n",
            " [  5   0   3   0   0   0   0   0   0   0]\n",
            " [  0   0   0   0   0   0   0   0   0 124]\n",
            " [  0   0   0   0  10   0   0   0   0   0]\n",
            " [  0   0   0   0 109   0   0   0   0   1]\n",
            " [  0   0   0   0  80   0   0   0   0   1]\n",
            " [  0   0   0   0  33   0   0   0   0   0]\n",
            " [  0   0   0   0 100   0   0   0   0   0]\n",
            " [  0   0   0   0  38   0   0   0   0  67]\n",
            " [  0   0   0   0  40   0   0   0   0 102]]\n"
          ]
        },
        {
          "output_type": "stream",
          "name": "stderr",
          "text": [
            "/usr/local/lib/python3.8/dist-packages/sklearn/metrics/_classification.py:1318: UndefinedMetricWarning: Precision and F-score are ill-defined and being set to 0.0 in labels with no predicted samples. Use `zero_division` parameter to control this behavior.\n",
            "  _warn_prf(average, modifier, msg_start, len(result))\n",
            "/usr/local/lib/python3.8/dist-packages/sklearn/metrics/_classification.py:1318: UndefinedMetricWarning: Precision and F-score are ill-defined and being set to 0.0 in labels with no predicted samples. Use `zero_division` parameter to control this behavior.\n",
            "  _warn_prf(average, modifier, msg_start, len(result))\n",
            "/usr/local/lib/python3.8/dist-packages/sklearn/metrics/_classification.py:1318: UndefinedMetricWarning: Precision and F-score are ill-defined and being set to 0.0 in labels with no predicted samples. Use `zero_division` parameter to control this behavior.\n",
            "  _warn_prf(average, modifier, msg_start, len(result))\n"
          ]
        }
      ]
    },
    {
      "cell_type": "markdown",
      "source": [
        "7) Extra Trees Classifier"
      ],
      "metadata": {
        "id": "mSI5n8gsFJxX"
      }
    },
    {
      "cell_type": "code",
      "source": [
        "model=ExtraTreesClassifier()\n",
        "data=model.fit(X_train,Y1_train)\n",
        "Y1_predict=data.predict(X_test)\n",
        "print(\"The classification report for Fish Length is:\",classification_report(Y1_test,Y1_predict))\n",
        "print(\"The confusion matrix for Fish Length is:\",confusion_matrix(Y1_test,Y1_predict))\n",
        "data=model.fit(X_train,Y2_train)\n",
        "Y2_predict=data.predict(X_test)\n",
        "print(\"The classification report for Fish Weight is:\",classification_report(Y2_test,Y2_predict))\n",
        "print(\"The confusion matrix for Fish Weight is:\",confusion_matrix(Y2_test,Y2_predict))"
      ],
      "metadata": {
        "colab": {
          "base_uri": "https://localhost:8080/"
        },
        "id": "2Z8xq-EQFHBs",
        "outputId": "625f4d31-f5e4-4c91-9f45-bd17f880c6e2"
      },
      "execution_count": 19,
      "outputs": [
        {
          "output_type": "stream",
          "name": "stdout",
          "text": [
            "The classification report for Fish Length is:               precision    recall  f1-score   support\n",
            "\n",
            "       14.64       0.00      0.00      0.00         8\n",
            "       32.01       0.20      0.40      0.27         5\n",
            "    32.58643       0.99      1.00      1.00       124\n",
            "    39.95929       0.94      0.95      0.94       110\n",
            "    40.06857       1.00      1.00      1.00        10\n",
            "    40.73571       0.93      0.88      0.90        81\n",
            "    41.00142       0.97      0.85      0.90        33\n",
            "   41.267134       0.94      1.00      0.97       100\n",
            "    41.39642       0.95      0.96      0.96       105\n",
            "    41.66213       0.96      0.96      0.96       142\n",
            "\n",
            "    accuracy                           0.94       718\n",
            "   macro avg       0.79      0.80      0.79       718\n",
            "weighted avg       0.94      0.94      0.94       718\n",
            "\n",
            "The confusion matrix for Fish Length is: [[  0   8   0   0   0   0   0   0   0   0]\n",
            " [  3   2   0   0   0   0   0   0   0   0]\n",
            " [  0   0 124   0   0   0   0   0   0   0]\n",
            " [  0   0   0 104   0   4   0   0   0   2]\n",
            " [  0   0   0   0  10   0   0   0   0   0]\n",
            " [  0   0   1   4   0  71   1   1   1   2]\n",
            " [  0   0   0   3   0   0  28   2   0   0]\n",
            " [  0   0   0   0   0   0   0 100   0   0]\n",
            " [  0   0   0   0   0   0   0   3 101   1]\n",
            " [  0   0   0   0   0   1   0   0   4 137]]\n",
            "The classification report for Fish Weight is:               precision    recall  f1-score   support\n",
            "\n",
            "       275.9       0.20      0.40      0.27         5\n",
            "        28.6       0.00      0.00      0.00         8\n",
            "    296.0429       0.99      1.00      1.00       124\n",
            "    559.1929       1.00      0.90      0.95        10\n",
            "    576.4286       0.94      0.93      0.93       110\n",
            "    589.7857       0.94      0.89      0.91        81\n",
            "    597.5714       0.94      0.88      0.91        33\n",
            "  605.357114       0.94      1.00      0.97       100\n",
            "    613.1428       0.96      0.95      0.96       105\n",
            "    620.9285       0.96      0.97      0.97       142\n",
            "\n",
            "    accuracy                           0.94       718\n",
            "   macro avg       0.79      0.79      0.79       718\n",
            "weighted avg       0.94      0.94      0.94       718\n",
            "\n",
            "The confusion matrix for Fish Weight is: [[  2   3   0   0   0   0   0   0   0   0]\n",
            " [  8   0   0   0   0   0   0   0   0   0]\n",
            " [  0   0 124   0   0   0   0   0   0   0]\n",
            " [  0   0   0   9   1   0   0   0   0   0]\n",
            " [  0   0   0   0 102   5   1   0   0   2]\n",
            " [  0   0   1   0   3  72   1   1   1   2]\n",
            " [  0   0   0   0   2   0  29   2   0   0]\n",
            " [  0   0   0   0   0   0   0 100   0   0]\n",
            " [  0   0   0   0   0   0   0   3 100   2]\n",
            " [  0   0   0   0   1   0   0   0   3 138]]\n"
          ]
        }
      ]
    },
    {
      "cell_type": "markdown",
      "source": [
        "8) Gradient Boosting Classifier"
      ],
      "metadata": {
        "id": "sFB8CLt-FPdE"
      }
    },
    {
      "cell_type": "code",
      "source": [
        "model=GradientBoostingClassifier()\n",
        "data=model.fit(X_train,Y1_train)\n",
        "Y1_predict=data.predict(X_test)\n",
        "print(\"The classification report for Fish Length is:\",classification_report(Y1_test,Y1_predict))\n",
        "print(\"The confusion matrix for Fish Length is:\",confusion_matrix(Y1_test,Y1_predict))\n",
        "data=model.fit(X_train,Y2_train)\n",
        "Y2_predict=data.predict(X_test)\n",
        "print(\"The classification report for Fish Weight is:\",classification_report(Y2_test,Y2_predict))\n",
        "print(\"The confusion matrix for Fish Weight is:\",confusion_matrix(Y2_test,Y2_predict))"
      ],
      "metadata": {
        "colab": {
          "base_uri": "https://localhost:8080/"
        },
        "id": "Zr2OMc-TFMtl",
        "outputId": "914ea150-67f1-45d1-8873-9a8d6071d4cd"
      },
      "execution_count": 20,
      "outputs": [
        {
          "output_type": "stream",
          "name": "stdout",
          "text": [
            "The classification report for Fish Length is:               precision    recall  f1-score   support\n",
            "\n",
            "       14.64       0.00      0.00      0.00         8\n",
            "       32.01       0.20      0.40      0.27         5\n",
            "    32.58643       0.99      1.00      1.00       124\n",
            "    39.95929       0.93      0.93      0.93       110\n",
            "    40.06857       1.00      0.70      0.82        10\n",
            "    40.73571       0.90      0.90      0.90        81\n",
            "    41.00142       0.96      0.82      0.89        33\n",
            "   41.267134       0.94      0.99      0.97       100\n",
            "    41.39642       0.88      0.94      0.91       105\n",
            "    41.66213       0.96      0.92      0.94       142\n",
            "\n",
            "    accuracy                           0.92       718\n",
            "   macro avg       0.78      0.76      0.76       718\n",
            "weighted avg       0.92      0.92      0.92       718\n",
            "\n",
            "The confusion matrix for Fish Length is: [[  0   8   0   0   0   0   0   0   0   0]\n",
            " [  3   2   0   0   0   0   0   0   0   0]\n",
            " [  0   0 124   0   0   0   0   0   0   0]\n",
            " [  0   0   0 102   0   6   0   0   0   2]\n",
            " [  0   0   0   2   7   0   0   0   1   0]\n",
            " [  0   0   0   2   0  73   1   0   3   2]\n",
            " [  0   0   0   3   0   0  27   3   0   0]\n",
            " [  0   0   0   1   0   0   0  99   0   0]\n",
            " [  0   0   1   0   0   0   0   3  99   2]\n",
            " [  0   0   0   0   0   2   0   0  10 130]]\n",
            "The classification report for Fish Weight is:               precision    recall  f1-score   support\n",
            "\n",
            "       275.9       0.20      0.40      0.27         5\n",
            "        28.6       0.00      0.00      0.00         8\n",
            "    296.0429       0.99      1.00      1.00       124\n",
            "    559.1929       1.00      0.70      0.82        10\n",
            "    576.4286       0.93      0.93      0.93       110\n",
            "    589.7857       0.90      0.90      0.90        81\n",
            "    597.5714       0.96      0.82      0.89        33\n",
            "  605.357114       0.94      0.99      0.97       100\n",
            "    613.1428       0.88      0.94      0.91       105\n",
            "    620.9285       0.96      0.92      0.94       142\n",
            "\n",
            "    accuracy                           0.92       718\n",
            "   macro avg       0.78      0.76      0.76       718\n",
            "weighted avg       0.92      0.92      0.92       718\n",
            "\n",
            "The confusion matrix for Fish Weight is: [[  2   3   0   0   0   0   0   0   0   0]\n",
            " [  8   0   0   0   0   0   0   0   0   0]\n",
            " [  0   0 124   0   0   0   0   0   0   0]\n",
            " [  0   0   0   7   2   0   0   0   1   0]\n",
            " [  0   0   0   0 102   6   0   0   0   2]\n",
            " [  0   0   0   0   2  73   1   0   3   2]\n",
            " [  0   0   0   0   3   0  27   3   0   0]\n",
            " [  0   0   0   0   1   0   0  99   0   0]\n",
            " [  0   0   1   0   0   0   0   3  99   2]\n",
            " [  0   0   0   0   0   2   0   0  10 130]]\n"
          ]
        }
      ]
    },
    {
      "cell_type": "markdown",
      "source": [
        "9) Naive Bayes Classifier"
      ],
      "metadata": {
        "id": "aC6jaqycFVhw"
      }
    },
    {
      "cell_type": "code",
      "source": [
        "model=MultinomialNB()\n",
        "data=model.fit(X_train,Y1_train)\n",
        "Y1_predict=data.predict(X_test)\n",
        "print(\"The classification report for Fish Length is:\",classification_report(Y1_test,Y1_predict))\n",
        "print(\"The confusion matrix for Fish Length is:\",confusion_matrix(Y1_test,Y1_predict))\n",
        "data=model.fit(X_train,Y2_train)\n",
        "Y2_predict=data.predict(X_test)\n",
        "print(\"The classification report for Fish Weight is:\",classification_report(Y2_test,Y2_predict))\n",
        "print(\"The confusion matrix for Fish Weight is:\",confusion_matrix(Y2_test,Y2_predict))"
      ],
      "metadata": {
        "colab": {
          "base_uri": "https://localhost:8080/"
        },
        "id": "mOtu0jA3FTAW",
        "outputId": "7d76c255-2b1e-47e4-f454-d7bd75a71bf1"
      },
      "execution_count": 21,
      "outputs": [
        {
          "output_type": "stream",
          "name": "stdout",
          "text": [
            "The classification report for Fish Length is:               precision    recall  f1-score   support\n",
            "\n",
            "       14.64       0.00      0.00      0.00         8\n",
            "       32.01       0.38      1.00      0.56         5\n",
            "    32.58643       0.00      0.00      0.00       124\n",
            "    39.95929       0.11      0.11      0.11       110\n",
            "    40.06857       0.00      0.00      0.00        10\n",
            "    40.73571       0.00      0.00      0.00        81\n",
            "    41.00142       0.00      0.00      0.00        33\n",
            "   41.267134       0.00      0.00      0.00       100\n",
            "    41.39642       0.00      0.00      0.00       105\n",
            "    41.66213       0.21      0.89      0.34       142\n",
            "\n",
            "    accuracy                           0.20       718\n",
            "   macro avg       0.07      0.20      0.10       718\n",
            "weighted avg       0.06      0.20      0.09       718\n",
            "\n",
            "The confusion matrix for Fish Length is: [[  0   8   0   0   0   0   0   0   0   0]\n",
            " [  0   5   0   0   0   0   0   0   0   0]\n",
            " [  0   0   0   0   0   0   0   0   0 124]\n",
            " [  0   0   0  12   0   0   0   0   0  98]\n",
            " [  0   0   0   5   0   0   0   0   0   5]\n",
            " [  0   0   0  51   0   0   0   0   0  30]\n",
            " [  0   0   0   8   0   0   0   0   0  25]\n",
            " [  0   0   0   5   0   0   0   0   0  95]\n",
            " [  0   0   0  14   0   0   0   0   0  91]\n",
            " [  0   0   0  15   0   0   0   0   0 127]]\n",
            "The classification report for Fish Weight is:               precision    recall  f1-score   support\n",
            "\n",
            "       275.9       0.38      1.00      0.56         5\n",
            "        28.6       0.00      0.00      0.00         8\n",
            "    296.0429       0.00      0.00      0.00       124\n",
            "    559.1929       0.00      0.00      0.00        10\n",
            "    576.4286       0.11      0.11      0.11       110\n",
            "    589.7857       0.00      0.00      0.00        81\n",
            "    597.5714       0.00      0.00      0.00        33\n",
            "  605.357114       0.00      0.00      0.00       100\n",
            "    613.1428       0.00      0.00      0.00       105\n",
            "    620.9285       0.21      0.89      0.34       142\n",
            "\n",
            "    accuracy                           0.20       718\n",
            "   macro avg       0.07      0.20      0.10       718\n",
            "weighted avg       0.06      0.20      0.09       718\n",
            "\n",
            "The confusion matrix for Fish Weight is: [[  5   0   0   0   0   0   0   0   0   0]\n",
            " [  8   0   0   0   0   0   0   0   0   0]\n",
            " [  0   0   0   0   0   0   0   0   0 124]\n",
            " [  0   0   0   0   5   0   0   0   0   5]\n",
            " [  0   0   0   0  12   0   0   0   0  98]\n",
            " [  0   0   0   0  51   0   0   0   0  30]\n",
            " [  0   0   0   0   8   0   0   0   0  25]\n",
            " [  0   0   0   0   5   0   0   0   0  95]\n",
            " [  0   0   0   0  14   0   0   0   0  91]\n",
            " [  0   0   0   0  15   0   0   0   0 127]]\n"
          ]
        },
        {
          "output_type": "stream",
          "name": "stderr",
          "text": [
            "/usr/local/lib/python3.8/dist-packages/sklearn/metrics/_classification.py:1318: UndefinedMetricWarning: Precision and F-score are ill-defined and being set to 0.0 in labels with no predicted samples. Use `zero_division` parameter to control this behavior.\n",
            "  _warn_prf(average, modifier, msg_start, len(result))\n",
            "/usr/local/lib/python3.8/dist-packages/sklearn/metrics/_classification.py:1318: UndefinedMetricWarning: Precision and F-score are ill-defined and being set to 0.0 in labels with no predicted samples. Use `zero_division` parameter to control this behavior.\n",
            "  _warn_prf(average, modifier, msg_start, len(result))\n",
            "/usr/local/lib/python3.8/dist-packages/sklearn/metrics/_classification.py:1318: UndefinedMetricWarning: Precision and F-score are ill-defined and being set to 0.0 in labels with no predicted samples. Use `zero_division` parameter to control this behavior.\n",
            "  _warn_prf(average, modifier, msg_start, len(result))\n",
            "/usr/local/lib/python3.8/dist-packages/sklearn/metrics/_classification.py:1318: UndefinedMetricWarning: Precision and F-score are ill-defined and being set to 0.0 in labels with no predicted samples. Use `zero_division` parameter to control this behavior.\n",
            "  _warn_prf(average, modifier, msg_start, len(result))\n",
            "/usr/local/lib/python3.8/dist-packages/sklearn/metrics/_classification.py:1318: UndefinedMetricWarning: Precision and F-score are ill-defined and being set to 0.0 in labels with no predicted samples. Use `zero_division` parameter to control this behavior.\n",
            "  _warn_prf(average, modifier, msg_start, len(result))\n",
            "/usr/local/lib/python3.8/dist-packages/sklearn/metrics/_classification.py:1318: UndefinedMetricWarning: Precision and F-score are ill-defined and being set to 0.0 in labels with no predicted samples. Use `zero_division` parameter to control this behavior.\n",
            "  _warn_prf(average, modifier, msg_start, len(result))\n"
          ]
        }
      ]
    }
  ]
}