{
  "nbformat": 4,
  "nbformat_minor": 0,
  "metadata": {
    "colab": {
      "provenance": []
    },
    "kernelspec": {
      "name": "python3",
      "display_name": "Python 3"
    },
    "language_info": {
      "name": "python"
    }
  },
  "cells": [
    {
      "cell_type": "markdown",
      "source": [
        "As the initial step, import the required libraries that we require to perform the tasks like preprocessing, training our model and predicting the accuracy score of our model"
      ],
      "metadata": {
        "id": "W9Bhl9p5CvzL"
      }
    },
    {
      "cell_type": "code",
      "execution_count": 1,
      "metadata": {
        "id": "uts8VpuQCh-9"
      },
      "outputs": [],
      "source": [
        "import pandas as pd\n",
        "import numpy as np\n",
        "import matplotlib.pyplot as plt\n",
        "import seaborn as sns\n",
        "from sklearn.model_selection import train_test_split\n",
        "from sklearn.discriminant_analysis import LinearDiscriminantAnalysis\n",
        "from sklearn.linear_model import LogisticRegression\n",
        "from sklearn.tree import DecisionTreeClassifier\n",
        "from sklearn.neighbors import KNeighborsClassifier\n",
        "from sklearn.svm import SVC\n",
        "from sklearn.ensemble import AdaBoostClassifier\n",
        "from sklearn.ensemble import ExtraTreesClassifier\n",
        "from sklearn.ensemble import GradientBoostingClassifier\n",
        "from sklearn.naive_bayes import MultinomialNB\n",
        "from sklearn.ensemble import RandomForestClassifier\n",
        "from sklearn.preprocessing import MinMaxScaler\n",
        "from sklearn.metrics import accuracy_score,confusion_matrix,classification_report,precision_score,recall_score,f1_score"
      ]
    },
    {
      "cell_type": "markdown",
      "source": [
        "Import the dataset to the simulation software and to view the first 5 rows of our dataset we used head function in pandas dataframe"
      ],
      "metadata": {
        "id": "2sE_l-eQC6kH"
      }
    },
    {
      "cell_type": "code",
      "source": [
        "df=pd.read_csv(\"/content/drive/MyDrive/aquaponics/IoTPond11.csv\")\n",
        "df.head()"
      ],
      "metadata": {
        "colab": {
          "base_uri": "https://localhost:8080/",
          "height": 206
        },
        "id": "UtzhQ40BC0gQ",
        "outputId": "a1e32b05-2ac5-4c94-9275-32ebddcabac1"
      },
      "execution_count": 2,
      "outputs": [
        {
          "output_type": "execute_result",
          "data": {
            "text/plain": [
              "                created_at  entry_id  TEMPERATURE  TURBIDITY  DISOLVED OXYGEN  \\\n",
              "0  2021-06-25 15:14:07 CET         1      27.0625        100           22.562   \n",
              "1  2021-06-25 15:14:26 CET         2      27.1250        100           20.493   \n",
              "2  2021-06-25 15:15:42 CET         3      27.1250        100           12.555   \n",
              "3  2021-06-25 15:16:01 CET         4      27.0625        100           17.403   \n",
              "4  2021-06-25 15:16:21 CET         5      27.1250        100           22.765   \n",
              "\n",
              "        pH      AMMONIA  NITRATE  Population  Lenght  Weight  \n",
              "0  8.20213  12151.86328     1061          50   14.12    33.8  \n",
              "1  8.19759  15100.59473     1050          50   14.12    33.8  \n",
              "2  8.20213  42010.77344     1039          50   14.12    33.8  \n",
              "3  8.19759  21075.64453     1037          50   14.12    33.8  \n",
              "4  8.21121  62079.92578     1039          50   14.12    33.8  "
            ],
            "text/html": [
              "\n",
              "  <div id=\"df-82afd9f9-a476-4ffd-a2d9-8c8e4e923a7b\">\n",
              "    <div class=\"colab-df-container\">\n",
              "      <div>\n",
              "<style scoped>\n",
              "    .dataframe tbody tr th:only-of-type {\n",
              "        vertical-align: middle;\n",
              "    }\n",
              "\n",
              "    .dataframe tbody tr th {\n",
              "        vertical-align: top;\n",
              "    }\n",
              "\n",
              "    .dataframe thead th {\n",
              "        text-align: right;\n",
              "    }\n",
              "</style>\n",
              "<table border=\"1\" class=\"dataframe\">\n",
              "  <thead>\n",
              "    <tr style=\"text-align: right;\">\n",
              "      <th></th>\n",
              "      <th>created_at</th>\n",
              "      <th>entry_id</th>\n",
              "      <th>TEMPERATURE</th>\n",
              "      <th>TURBIDITY</th>\n",
              "      <th>DISOLVED OXYGEN</th>\n",
              "      <th>pH</th>\n",
              "      <th>AMMONIA</th>\n",
              "      <th>NITRATE</th>\n",
              "      <th>Population</th>\n",
              "      <th>Lenght</th>\n",
              "      <th>Weight</th>\n",
              "    </tr>\n",
              "  </thead>\n",
              "  <tbody>\n",
              "    <tr>\n",
              "      <th>0</th>\n",
              "      <td>2021-06-25 15:14:07 CET</td>\n",
              "      <td>1</td>\n",
              "      <td>27.0625</td>\n",
              "      <td>100</td>\n",
              "      <td>22.562</td>\n",
              "      <td>8.20213</td>\n",
              "      <td>12151.86328</td>\n",
              "      <td>1061</td>\n",
              "      <td>50</td>\n",
              "      <td>14.12</td>\n",
              "      <td>33.8</td>\n",
              "    </tr>\n",
              "    <tr>\n",
              "      <th>1</th>\n",
              "      <td>2021-06-25 15:14:26 CET</td>\n",
              "      <td>2</td>\n",
              "      <td>27.1250</td>\n",
              "      <td>100</td>\n",
              "      <td>20.493</td>\n",
              "      <td>8.19759</td>\n",
              "      <td>15100.59473</td>\n",
              "      <td>1050</td>\n",
              "      <td>50</td>\n",
              "      <td>14.12</td>\n",
              "      <td>33.8</td>\n",
              "    </tr>\n",
              "    <tr>\n",
              "      <th>2</th>\n",
              "      <td>2021-06-25 15:15:42 CET</td>\n",
              "      <td>3</td>\n",
              "      <td>27.1250</td>\n",
              "      <td>100</td>\n",
              "      <td>12.555</td>\n",
              "      <td>8.20213</td>\n",
              "      <td>42010.77344</td>\n",
              "      <td>1039</td>\n",
              "      <td>50</td>\n",
              "      <td>14.12</td>\n",
              "      <td>33.8</td>\n",
              "    </tr>\n",
              "    <tr>\n",
              "      <th>3</th>\n",
              "      <td>2021-06-25 15:16:01 CET</td>\n",
              "      <td>4</td>\n",
              "      <td>27.0625</td>\n",
              "      <td>100</td>\n",
              "      <td>17.403</td>\n",
              "      <td>8.19759</td>\n",
              "      <td>21075.64453</td>\n",
              "      <td>1037</td>\n",
              "      <td>50</td>\n",
              "      <td>14.12</td>\n",
              "      <td>33.8</td>\n",
              "    </tr>\n",
              "    <tr>\n",
              "      <th>4</th>\n",
              "      <td>2021-06-25 15:16:21 CET</td>\n",
              "      <td>5</td>\n",
              "      <td>27.1250</td>\n",
              "      <td>100</td>\n",
              "      <td>22.765</td>\n",
              "      <td>8.21121</td>\n",
              "      <td>62079.92578</td>\n",
              "      <td>1039</td>\n",
              "      <td>50</td>\n",
              "      <td>14.12</td>\n",
              "      <td>33.8</td>\n",
              "    </tr>\n",
              "  </tbody>\n",
              "</table>\n",
              "</div>\n",
              "      <button class=\"colab-df-convert\" onclick=\"convertToInteractive('df-82afd9f9-a476-4ffd-a2d9-8c8e4e923a7b')\"\n",
              "              title=\"Convert this dataframe to an interactive table.\"\n",
              "              style=\"display:none;\">\n",
              "        \n",
              "  <svg xmlns=\"http://www.w3.org/2000/svg\" height=\"24px\"viewBox=\"0 0 24 24\"\n",
              "       width=\"24px\">\n",
              "    <path d=\"M0 0h24v24H0V0z\" fill=\"none\"/>\n",
              "    <path d=\"M18.56 5.44l.94 2.06.94-2.06 2.06-.94-2.06-.94-.94-2.06-.94 2.06-2.06.94zm-11 1L8.5 8.5l.94-2.06 2.06-.94-2.06-.94L8.5 2.5l-.94 2.06-2.06.94zm10 10l.94 2.06.94-2.06 2.06-.94-2.06-.94-.94-2.06-.94 2.06-2.06.94z\"/><path d=\"M17.41 7.96l-1.37-1.37c-.4-.4-.92-.59-1.43-.59-.52 0-1.04.2-1.43.59L10.3 9.45l-7.72 7.72c-.78.78-.78 2.05 0 2.83L4 21.41c.39.39.9.59 1.41.59.51 0 1.02-.2 1.41-.59l7.78-7.78 2.81-2.81c.8-.78.8-2.07 0-2.86zM5.41 20L4 18.59l7.72-7.72 1.47 1.35L5.41 20z\"/>\n",
              "  </svg>\n",
              "      </button>\n",
              "      \n",
              "  <style>\n",
              "    .colab-df-container {\n",
              "      display:flex;\n",
              "      flex-wrap:wrap;\n",
              "      gap: 12px;\n",
              "    }\n",
              "\n",
              "    .colab-df-convert {\n",
              "      background-color: #E8F0FE;\n",
              "      border: none;\n",
              "      border-radius: 50%;\n",
              "      cursor: pointer;\n",
              "      display: none;\n",
              "      fill: #1967D2;\n",
              "      height: 32px;\n",
              "      padding: 0 0 0 0;\n",
              "      width: 32px;\n",
              "    }\n",
              "\n",
              "    .colab-df-convert:hover {\n",
              "      background-color: #E2EBFA;\n",
              "      box-shadow: 0px 1px 2px rgba(60, 64, 67, 0.3), 0px 1px 3px 1px rgba(60, 64, 67, 0.15);\n",
              "      fill: #174EA6;\n",
              "    }\n",
              "\n",
              "    [theme=dark] .colab-df-convert {\n",
              "      background-color: #3B4455;\n",
              "      fill: #D2E3FC;\n",
              "    }\n",
              "\n",
              "    [theme=dark] .colab-df-convert:hover {\n",
              "      background-color: #434B5C;\n",
              "      box-shadow: 0px 1px 3px 1px rgba(0, 0, 0, 0.15);\n",
              "      filter: drop-shadow(0px 1px 2px rgba(0, 0, 0, 0.3));\n",
              "      fill: #FFFFFF;\n",
              "    }\n",
              "  </style>\n",
              "\n",
              "      <script>\n",
              "        const buttonEl =\n",
              "          document.querySelector('#df-82afd9f9-a476-4ffd-a2d9-8c8e4e923a7b button.colab-df-convert');\n",
              "        buttonEl.style.display =\n",
              "          google.colab.kernel.accessAllowed ? 'block' : 'none';\n",
              "\n",
              "        async function convertToInteractive(key) {\n",
              "          const element = document.querySelector('#df-82afd9f9-a476-4ffd-a2d9-8c8e4e923a7b');\n",
              "          const dataTable =\n",
              "            await google.colab.kernel.invokeFunction('convertToInteractive',\n",
              "                                                     [key], {});\n",
              "          if (!dataTable) return;\n",
              "\n",
              "          const docLinkHtml = 'Like what you see? Visit the ' +\n",
              "            '<a target=\"_blank\" href=https://colab.research.google.com/notebooks/data_table.ipynb>data table notebook</a>'\n",
              "            + ' to learn more about interactive tables.';\n",
              "          element.innerHTML = '';\n",
              "          dataTable['output_type'] = 'display_data';\n",
              "          await google.colab.output.renderOutput(dataTable, element);\n",
              "          const docLink = document.createElement('div');\n",
              "          docLink.innerHTML = docLinkHtml;\n",
              "          element.appendChild(docLink);\n",
              "        }\n",
              "      </script>\n",
              "    </div>\n",
              "  </div>\n",
              "  "
            ]
          },
          "metadata": {},
          "execution_count": 2
        }
      ]
    },
    {
      "cell_type": "code",
      "source": [
        "df.describe()"
      ],
      "metadata": {
        "colab": {
          "base_uri": "https://localhost:8080/",
          "height": 300
        },
        "id": "uDjrfshQC8KZ",
        "outputId": "6e8838e2-fae2-4901-a0f8-869950f7f7a3"
      },
      "execution_count": 3,
      "outputs": [
        {
          "output_type": "execute_result",
          "data": {
            "text/plain": [
              "          entry_id  TEMPERATURE    TURBIDITY  DISOLVED OXYGEN           pH  \\\n",
              "count  3165.000000  3165.000000  3165.000000      3165.000000  3165.000000   \n",
              "mean   1583.000000    24.415166    89.360821         4.560476     6.523293   \n",
              "std     913.801127    15.807021    25.081863         5.702163     2.034633   \n",
              "min       1.000000  -127.000000   -95.000000         0.000000     1.288530   \n",
              "25%     792.000000    25.437500   100.000000         0.000000     7.230690   \n",
              "50%    1583.000000    26.125000   100.000000         1.293000     7.239770   \n",
              "75%    2374.000000    26.812500   100.000000         8.361000     7.244310   \n",
              "max    3165.000000    27.375000   100.000000        33.917000    15.451660   \n",
              "\n",
              "            AMMONIA      NITRATE  Population       Lenght       Weight  \n",
              "count  3.164000e+03  3165.000000      3165.0  3165.000000  3165.000000  \n",
              "mean   6.118588e+08   583.723223        50.0    36.992305   513.557858  \n",
              "std    1.373474e+10   226.325204         0.0    10.938499   247.249547  \n",
              "min    0.000000e+00     0.000000        50.0    14.120000    33.800000  \n",
              "25%    0.000000e+00   576.000000        50.0    41.957860   625.885700  \n",
              "50%    0.000000e+00   624.000000        50.0    41.957860   625.885700  \n",
              "75%    1.775144e+03   654.000000        50.0    42.969290   644.357100  \n",
              "max    4.270000e+11  2165.000000        50.0    44.650000   701.000000  "
            ],
            "text/html": [
              "\n",
              "  <div id=\"df-4c23bdd7-d2fa-4f5a-8aa2-17d395cdf7e5\">\n",
              "    <div class=\"colab-df-container\">\n",
              "      <div>\n",
              "<style scoped>\n",
              "    .dataframe tbody tr th:only-of-type {\n",
              "        vertical-align: middle;\n",
              "    }\n",
              "\n",
              "    .dataframe tbody tr th {\n",
              "        vertical-align: top;\n",
              "    }\n",
              "\n",
              "    .dataframe thead th {\n",
              "        text-align: right;\n",
              "    }\n",
              "</style>\n",
              "<table border=\"1\" class=\"dataframe\">\n",
              "  <thead>\n",
              "    <tr style=\"text-align: right;\">\n",
              "      <th></th>\n",
              "      <th>entry_id</th>\n",
              "      <th>TEMPERATURE</th>\n",
              "      <th>TURBIDITY</th>\n",
              "      <th>DISOLVED OXYGEN</th>\n",
              "      <th>pH</th>\n",
              "      <th>AMMONIA</th>\n",
              "      <th>NITRATE</th>\n",
              "      <th>Population</th>\n",
              "      <th>Lenght</th>\n",
              "      <th>Weight</th>\n",
              "    </tr>\n",
              "  </thead>\n",
              "  <tbody>\n",
              "    <tr>\n",
              "      <th>count</th>\n",
              "      <td>3165.000000</td>\n",
              "      <td>3165.000000</td>\n",
              "      <td>3165.000000</td>\n",
              "      <td>3165.000000</td>\n",
              "      <td>3165.000000</td>\n",
              "      <td>3.164000e+03</td>\n",
              "      <td>3165.000000</td>\n",
              "      <td>3165.0</td>\n",
              "      <td>3165.000000</td>\n",
              "      <td>3165.000000</td>\n",
              "    </tr>\n",
              "    <tr>\n",
              "      <th>mean</th>\n",
              "      <td>1583.000000</td>\n",
              "      <td>24.415166</td>\n",
              "      <td>89.360821</td>\n",
              "      <td>4.560476</td>\n",
              "      <td>6.523293</td>\n",
              "      <td>6.118588e+08</td>\n",
              "      <td>583.723223</td>\n",
              "      <td>50.0</td>\n",
              "      <td>36.992305</td>\n",
              "      <td>513.557858</td>\n",
              "    </tr>\n",
              "    <tr>\n",
              "      <th>std</th>\n",
              "      <td>913.801127</td>\n",
              "      <td>15.807021</td>\n",
              "      <td>25.081863</td>\n",
              "      <td>5.702163</td>\n",
              "      <td>2.034633</td>\n",
              "      <td>1.373474e+10</td>\n",
              "      <td>226.325204</td>\n",
              "      <td>0.0</td>\n",
              "      <td>10.938499</td>\n",
              "      <td>247.249547</td>\n",
              "    </tr>\n",
              "    <tr>\n",
              "      <th>min</th>\n",
              "      <td>1.000000</td>\n",
              "      <td>-127.000000</td>\n",
              "      <td>-95.000000</td>\n",
              "      <td>0.000000</td>\n",
              "      <td>1.288530</td>\n",
              "      <td>0.000000e+00</td>\n",
              "      <td>0.000000</td>\n",
              "      <td>50.0</td>\n",
              "      <td>14.120000</td>\n",
              "      <td>33.800000</td>\n",
              "    </tr>\n",
              "    <tr>\n",
              "      <th>25%</th>\n",
              "      <td>792.000000</td>\n",
              "      <td>25.437500</td>\n",
              "      <td>100.000000</td>\n",
              "      <td>0.000000</td>\n",
              "      <td>7.230690</td>\n",
              "      <td>0.000000e+00</td>\n",
              "      <td>576.000000</td>\n",
              "      <td>50.0</td>\n",
              "      <td>41.957860</td>\n",
              "      <td>625.885700</td>\n",
              "    </tr>\n",
              "    <tr>\n",
              "      <th>50%</th>\n",
              "      <td>1583.000000</td>\n",
              "      <td>26.125000</td>\n",
              "      <td>100.000000</td>\n",
              "      <td>1.293000</td>\n",
              "      <td>7.239770</td>\n",
              "      <td>0.000000e+00</td>\n",
              "      <td>624.000000</td>\n",
              "      <td>50.0</td>\n",
              "      <td>41.957860</td>\n",
              "      <td>625.885700</td>\n",
              "    </tr>\n",
              "    <tr>\n",
              "      <th>75%</th>\n",
              "      <td>2374.000000</td>\n",
              "      <td>26.812500</td>\n",
              "      <td>100.000000</td>\n",
              "      <td>8.361000</td>\n",
              "      <td>7.244310</td>\n",
              "      <td>1.775144e+03</td>\n",
              "      <td>654.000000</td>\n",
              "      <td>50.0</td>\n",
              "      <td>42.969290</td>\n",
              "      <td>644.357100</td>\n",
              "    </tr>\n",
              "    <tr>\n",
              "      <th>max</th>\n",
              "      <td>3165.000000</td>\n",
              "      <td>27.375000</td>\n",
              "      <td>100.000000</td>\n",
              "      <td>33.917000</td>\n",
              "      <td>15.451660</td>\n",
              "      <td>4.270000e+11</td>\n",
              "      <td>2165.000000</td>\n",
              "      <td>50.0</td>\n",
              "      <td>44.650000</td>\n",
              "      <td>701.000000</td>\n",
              "    </tr>\n",
              "  </tbody>\n",
              "</table>\n",
              "</div>\n",
              "      <button class=\"colab-df-convert\" onclick=\"convertToInteractive('df-4c23bdd7-d2fa-4f5a-8aa2-17d395cdf7e5')\"\n",
              "              title=\"Convert this dataframe to an interactive table.\"\n",
              "              style=\"display:none;\">\n",
              "        \n",
              "  <svg xmlns=\"http://www.w3.org/2000/svg\" height=\"24px\"viewBox=\"0 0 24 24\"\n",
              "       width=\"24px\">\n",
              "    <path d=\"M0 0h24v24H0V0z\" fill=\"none\"/>\n",
              "    <path d=\"M18.56 5.44l.94 2.06.94-2.06 2.06-.94-2.06-.94-.94-2.06-.94 2.06-2.06.94zm-11 1L8.5 8.5l.94-2.06 2.06-.94-2.06-.94L8.5 2.5l-.94 2.06-2.06.94zm10 10l.94 2.06.94-2.06 2.06-.94-2.06-.94-.94-2.06-.94 2.06-2.06.94z\"/><path d=\"M17.41 7.96l-1.37-1.37c-.4-.4-.92-.59-1.43-.59-.52 0-1.04.2-1.43.59L10.3 9.45l-7.72 7.72c-.78.78-.78 2.05 0 2.83L4 21.41c.39.39.9.59 1.41.59.51 0 1.02-.2 1.41-.59l7.78-7.78 2.81-2.81c.8-.78.8-2.07 0-2.86zM5.41 20L4 18.59l7.72-7.72 1.47 1.35L5.41 20z\"/>\n",
              "  </svg>\n",
              "      </button>\n",
              "      \n",
              "  <style>\n",
              "    .colab-df-container {\n",
              "      display:flex;\n",
              "      flex-wrap:wrap;\n",
              "      gap: 12px;\n",
              "    }\n",
              "\n",
              "    .colab-df-convert {\n",
              "      background-color: #E8F0FE;\n",
              "      border: none;\n",
              "      border-radius: 50%;\n",
              "      cursor: pointer;\n",
              "      display: none;\n",
              "      fill: #1967D2;\n",
              "      height: 32px;\n",
              "      padding: 0 0 0 0;\n",
              "      width: 32px;\n",
              "    }\n",
              "\n",
              "    .colab-df-convert:hover {\n",
              "      background-color: #E2EBFA;\n",
              "      box-shadow: 0px 1px 2px rgba(60, 64, 67, 0.3), 0px 1px 3px 1px rgba(60, 64, 67, 0.15);\n",
              "      fill: #174EA6;\n",
              "    }\n",
              "\n",
              "    [theme=dark] .colab-df-convert {\n",
              "      background-color: #3B4455;\n",
              "      fill: #D2E3FC;\n",
              "    }\n",
              "\n",
              "    [theme=dark] .colab-df-convert:hover {\n",
              "      background-color: #434B5C;\n",
              "      box-shadow: 0px 1px 3px 1px rgba(0, 0, 0, 0.15);\n",
              "      filter: drop-shadow(0px 1px 2px rgba(0, 0, 0, 0.3));\n",
              "      fill: #FFFFFF;\n",
              "    }\n",
              "  </style>\n",
              "\n",
              "      <script>\n",
              "        const buttonEl =\n",
              "          document.querySelector('#df-4c23bdd7-d2fa-4f5a-8aa2-17d395cdf7e5 button.colab-df-convert');\n",
              "        buttonEl.style.display =\n",
              "          google.colab.kernel.accessAllowed ? 'block' : 'none';\n",
              "\n",
              "        async function convertToInteractive(key) {\n",
              "          const element = document.querySelector('#df-4c23bdd7-d2fa-4f5a-8aa2-17d395cdf7e5');\n",
              "          const dataTable =\n",
              "            await google.colab.kernel.invokeFunction('convertToInteractive',\n",
              "                                                     [key], {});\n",
              "          if (!dataTable) return;\n",
              "\n",
              "          const docLinkHtml = 'Like what you see? Visit the ' +\n",
              "            '<a target=\"_blank\" href=https://colab.research.google.com/notebooks/data_table.ipynb>data table notebook</a>'\n",
              "            + ' to learn more about interactive tables.';\n",
              "          element.innerHTML = '';\n",
              "          dataTable['output_type'] = 'display_data';\n",
              "          await google.colab.output.renderOutput(dataTable, element);\n",
              "          const docLink = document.createElement('div');\n",
              "          docLink.innerHTML = docLinkHtml;\n",
              "          element.appendChild(docLink);\n",
              "        }\n",
              "      </script>\n",
              "    </div>\n",
              "  </div>\n",
              "  "
            ]
          },
          "metadata": {},
          "execution_count": 3
        }
      ]
    },
    {
      "cell_type": "markdown",
      "source": [
        "To check for the null values present in our dataset we use isnull() function\n"
      ],
      "metadata": {
        "id": "-XrQUTs8DFC1"
      }
    },
    {
      "cell_type": "code",
      "source": [
        "df.isnull().sum()"
      ],
      "metadata": {
        "colab": {
          "base_uri": "https://localhost:8080/"
        },
        "id": "n7xPz-E8DAre",
        "outputId": "6dbfbf90-3335-4598-862c-3b901ee3505c"
      },
      "execution_count": 4,
      "outputs": [
        {
          "output_type": "execute_result",
          "data": {
            "text/plain": [
              "created_at         0\n",
              "entry_id           0\n",
              "TEMPERATURE        0\n",
              "TURBIDITY          0\n",
              "DISOLVED OXYGEN    0\n",
              "pH                 0\n",
              "AMMONIA            1\n",
              "NITRATE            0\n",
              "Population         0\n",
              "Lenght             0\n",
              "Weight             0\n",
              "dtype: int64"
            ]
          },
          "metadata": {},
          "execution_count": 4
        }
      ]
    },
    {
      "cell_type": "markdown",
      "source": [
        "Null Values to be filled with mean values"
      ],
      "metadata": {
        "id": "iQeogR7F3tXC"
      }
    },
    {
      "cell_type": "code",
      "source": [
        "df=df.fillna(df.mean())"
      ],
      "metadata": {
        "colab": {
          "base_uri": "https://localhost:8080/"
        },
        "id": "IV3eDjPd3nP8",
        "outputId": "8ec8399b-4d68-48d1-b34b-04c89af75c3d"
      },
      "execution_count": 5,
      "outputs": [
        {
          "output_type": "stream",
          "name": "stderr",
          "text": [
            "<ipython-input-5-6f8c6f28e805>:1: FutureWarning: Dropping of nuisance columns in DataFrame reductions (with 'numeric_only=None') is deprecated; in a future version this will raise TypeError.  Select only valid columns before calling the reduction.\n",
            "  df=df.fillna(df.mean())\n"
          ]
        }
      ]
    },
    {
      "cell_type": "markdown",
      "source": [
        "Checking if the numbers are within limits are having infinite"
      ],
      "metadata": {
        "id": "z987y-9PDPcw"
      }
    },
    {
      "cell_type": "code",
      "source": [
        "df.isin([np.inf,-np.inf]).sum()"
      ],
      "metadata": {
        "colab": {
          "base_uri": "https://localhost:8080/"
        },
        "id": "7hLWooWXDUwU",
        "outputId": "19ab36e3-9948-4416-f7ee-4bedf514f6d8"
      },
      "execution_count": 6,
      "outputs": [
        {
          "output_type": "execute_result",
          "data": {
            "text/plain": [
              "created_at         0\n",
              "entry_id           0\n",
              "TEMPERATURE        0\n",
              "TURBIDITY          0\n",
              "DISOLVED OXYGEN    0\n",
              "pH                 0\n",
              "AMMONIA            0\n",
              "NITRATE            0\n",
              "Population         0\n",
              "Lenght             0\n",
              "Weight             0\n",
              "dtype: int64"
            ]
          },
          "metadata": {},
          "execution_count": 6
        }
      ]
    },
    {
      "cell_type": "markdown",
      "source": [
        "Drop all the unnecessary columns from the dataset"
      ],
      "metadata": {
        "id": "jlsv0OvUDlLy"
      }
    },
    {
      "cell_type": "code",
      "source": [
        "df=df.drop(columns='entry_id')\n",
        "df=df.drop(columns='Population')\n",
        "df=df.drop(columns='created_at')"
      ],
      "metadata": {
        "id": "Q4Oy05QIDgnX"
      },
      "execution_count": 7,
      "outputs": []
    },
    {
      "cell_type": "markdown",
      "source": [
        "Check the datatype of each columns in our dataset"
      ],
      "metadata": {
        "id": "aA14fn9FDqct"
      }
    },
    {
      "cell_type": "code",
      "source": [
        "df.info()"
      ],
      "metadata": {
        "colab": {
          "base_uri": "https://localhost:8080/"
        },
        "id": "oBQyX6qHDnwh",
        "outputId": "0f9b3cd8-c945-468d-c8e0-add21887cbf4"
      },
      "execution_count": 8,
      "outputs": [
        {
          "output_type": "stream",
          "name": "stdout",
          "text": [
            "<class 'pandas.core.frame.DataFrame'>\n",
            "RangeIndex: 3165 entries, 0 to 3164\n",
            "Data columns (total 8 columns):\n",
            " #   Column           Non-Null Count  Dtype  \n",
            "---  ------           --------------  -----  \n",
            " 0   TEMPERATURE      3165 non-null   float64\n",
            " 1   TURBIDITY        3165 non-null   int64  \n",
            " 2   DISOLVED OXYGEN  3165 non-null   float64\n",
            " 3   pH               3165 non-null   float64\n",
            " 4   AMMONIA          3165 non-null   float64\n",
            " 5   NITRATE          3165 non-null   int64  \n",
            " 6   Lenght           3165 non-null   float64\n",
            " 7   Weight           3165 non-null   float64\n",
            "dtypes: float64(6), int64(2)\n",
            "memory usage: 197.9 KB\n"
          ]
        }
      ]
    },
    {
      "cell_type": "markdown",
      "source": [
        "We see that our classifications labels fish_length and fish_weight are in float variables and we need to convert them to string."
      ],
      "metadata": {
        "id": "CNexjVIhDwdj"
      }
    },
    {
      "cell_type": "code",
      "source": [
        "df=df.astype({\"Lenght\":'str',\"Weight\":'str'})"
      ],
      "metadata": {
        "id": "daz76ZYIDtwb"
      },
      "execution_count": 10,
      "outputs": []
    },
    {
      "cell_type": "markdown",
      "source": [
        "To find the corelation between the input variables"
      ],
      "metadata": {
        "id": "HrBd5tGKDzRd"
      }
    },
    {
      "cell_type": "code",
      "source": [
        "df.corr()"
      ],
      "metadata": {
        "colab": {
          "base_uri": "https://localhost:8080/",
          "height": 237
        },
        "id": "2klcWpS7D2VE",
        "outputId": "f658d074-7e54-4970-c262-6977c55b1014"
      },
      "execution_count": 11,
      "outputs": [
        {
          "output_type": "execute_result",
          "data": {
            "text/plain": [
              "                 TEMPERATURE  TURBIDITY  DISOLVED OXYGEN        pH   AMMONIA  \\\n",
              "TEMPERATURE         1.000000   0.433754         0.110461 -0.468328  0.003370   \n",
              "TURBIDITY           0.433754   1.000000        -0.201478  0.475919  0.018905   \n",
              "DISOLVED OXYGEN     0.110461  -0.201478         1.000000 -0.279255 -0.023504   \n",
              "pH                 -0.468328   0.475919        -0.279255  1.000000  0.016190   \n",
              "AMMONIA             0.003370   0.018905        -0.023504  0.016190  1.000000   \n",
              "NITRATE             0.246943   0.716135        -0.124153  0.570198  0.014826   \n",
              "\n",
              "                  NITRATE  \n",
              "TEMPERATURE      0.246943  \n",
              "TURBIDITY        0.716135  \n",
              "DISOLVED OXYGEN -0.124153  \n",
              "pH               0.570198  \n",
              "AMMONIA          0.014826  \n",
              "NITRATE          1.000000  "
            ],
            "text/html": [
              "\n",
              "  <div id=\"df-d1189398-846d-4189-81fe-20d56c788798\">\n",
              "    <div class=\"colab-df-container\">\n",
              "      <div>\n",
              "<style scoped>\n",
              "    .dataframe tbody tr th:only-of-type {\n",
              "        vertical-align: middle;\n",
              "    }\n",
              "\n",
              "    .dataframe tbody tr th {\n",
              "        vertical-align: top;\n",
              "    }\n",
              "\n",
              "    .dataframe thead th {\n",
              "        text-align: right;\n",
              "    }\n",
              "</style>\n",
              "<table border=\"1\" class=\"dataframe\">\n",
              "  <thead>\n",
              "    <tr style=\"text-align: right;\">\n",
              "      <th></th>\n",
              "      <th>TEMPERATURE</th>\n",
              "      <th>TURBIDITY</th>\n",
              "      <th>DISOLVED OXYGEN</th>\n",
              "      <th>pH</th>\n",
              "      <th>AMMONIA</th>\n",
              "      <th>NITRATE</th>\n",
              "    </tr>\n",
              "  </thead>\n",
              "  <tbody>\n",
              "    <tr>\n",
              "      <th>TEMPERATURE</th>\n",
              "      <td>1.000000</td>\n",
              "      <td>0.433754</td>\n",
              "      <td>0.110461</td>\n",
              "      <td>-0.468328</td>\n",
              "      <td>0.003370</td>\n",
              "      <td>0.246943</td>\n",
              "    </tr>\n",
              "    <tr>\n",
              "      <th>TURBIDITY</th>\n",
              "      <td>0.433754</td>\n",
              "      <td>1.000000</td>\n",
              "      <td>-0.201478</td>\n",
              "      <td>0.475919</td>\n",
              "      <td>0.018905</td>\n",
              "      <td>0.716135</td>\n",
              "    </tr>\n",
              "    <tr>\n",
              "      <th>DISOLVED OXYGEN</th>\n",
              "      <td>0.110461</td>\n",
              "      <td>-0.201478</td>\n",
              "      <td>1.000000</td>\n",
              "      <td>-0.279255</td>\n",
              "      <td>-0.023504</td>\n",
              "      <td>-0.124153</td>\n",
              "    </tr>\n",
              "    <tr>\n",
              "      <th>pH</th>\n",
              "      <td>-0.468328</td>\n",
              "      <td>0.475919</td>\n",
              "      <td>-0.279255</td>\n",
              "      <td>1.000000</td>\n",
              "      <td>0.016190</td>\n",
              "      <td>0.570198</td>\n",
              "    </tr>\n",
              "    <tr>\n",
              "      <th>AMMONIA</th>\n",
              "      <td>0.003370</td>\n",
              "      <td>0.018905</td>\n",
              "      <td>-0.023504</td>\n",
              "      <td>0.016190</td>\n",
              "      <td>1.000000</td>\n",
              "      <td>0.014826</td>\n",
              "    </tr>\n",
              "    <tr>\n",
              "      <th>NITRATE</th>\n",
              "      <td>0.246943</td>\n",
              "      <td>0.716135</td>\n",
              "      <td>-0.124153</td>\n",
              "      <td>0.570198</td>\n",
              "      <td>0.014826</td>\n",
              "      <td>1.000000</td>\n",
              "    </tr>\n",
              "  </tbody>\n",
              "</table>\n",
              "</div>\n",
              "      <button class=\"colab-df-convert\" onclick=\"convertToInteractive('df-d1189398-846d-4189-81fe-20d56c788798')\"\n",
              "              title=\"Convert this dataframe to an interactive table.\"\n",
              "              style=\"display:none;\">\n",
              "        \n",
              "  <svg xmlns=\"http://www.w3.org/2000/svg\" height=\"24px\"viewBox=\"0 0 24 24\"\n",
              "       width=\"24px\">\n",
              "    <path d=\"M0 0h24v24H0V0z\" fill=\"none\"/>\n",
              "    <path d=\"M18.56 5.44l.94 2.06.94-2.06 2.06-.94-2.06-.94-.94-2.06-.94 2.06-2.06.94zm-11 1L8.5 8.5l.94-2.06 2.06-.94-2.06-.94L8.5 2.5l-.94 2.06-2.06.94zm10 10l.94 2.06.94-2.06 2.06-.94-2.06-.94-.94-2.06-.94 2.06-2.06.94z\"/><path d=\"M17.41 7.96l-1.37-1.37c-.4-.4-.92-.59-1.43-.59-.52 0-1.04.2-1.43.59L10.3 9.45l-7.72 7.72c-.78.78-.78 2.05 0 2.83L4 21.41c.39.39.9.59 1.41.59.51 0 1.02-.2 1.41-.59l7.78-7.78 2.81-2.81c.8-.78.8-2.07 0-2.86zM5.41 20L4 18.59l7.72-7.72 1.47 1.35L5.41 20z\"/>\n",
              "  </svg>\n",
              "      </button>\n",
              "      \n",
              "  <style>\n",
              "    .colab-df-container {\n",
              "      display:flex;\n",
              "      flex-wrap:wrap;\n",
              "      gap: 12px;\n",
              "    }\n",
              "\n",
              "    .colab-df-convert {\n",
              "      background-color: #E8F0FE;\n",
              "      border: none;\n",
              "      border-radius: 50%;\n",
              "      cursor: pointer;\n",
              "      display: none;\n",
              "      fill: #1967D2;\n",
              "      height: 32px;\n",
              "      padding: 0 0 0 0;\n",
              "      width: 32px;\n",
              "    }\n",
              "\n",
              "    .colab-df-convert:hover {\n",
              "      background-color: #E2EBFA;\n",
              "      box-shadow: 0px 1px 2px rgba(60, 64, 67, 0.3), 0px 1px 3px 1px rgba(60, 64, 67, 0.15);\n",
              "      fill: #174EA6;\n",
              "    }\n",
              "\n",
              "    [theme=dark] .colab-df-convert {\n",
              "      background-color: #3B4455;\n",
              "      fill: #D2E3FC;\n",
              "    }\n",
              "\n",
              "    [theme=dark] .colab-df-convert:hover {\n",
              "      background-color: #434B5C;\n",
              "      box-shadow: 0px 1px 3px 1px rgba(0, 0, 0, 0.15);\n",
              "      filter: drop-shadow(0px 1px 2px rgba(0, 0, 0, 0.3));\n",
              "      fill: #FFFFFF;\n",
              "    }\n",
              "  </style>\n",
              "\n",
              "      <script>\n",
              "        const buttonEl =\n",
              "          document.querySelector('#df-d1189398-846d-4189-81fe-20d56c788798 button.colab-df-convert');\n",
              "        buttonEl.style.display =\n",
              "          google.colab.kernel.accessAllowed ? 'block' : 'none';\n",
              "\n",
              "        async function convertToInteractive(key) {\n",
              "          const element = document.querySelector('#df-d1189398-846d-4189-81fe-20d56c788798');\n",
              "          const dataTable =\n",
              "            await google.colab.kernel.invokeFunction('convertToInteractive',\n",
              "                                                     [key], {});\n",
              "          if (!dataTable) return;\n",
              "\n",
              "          const docLinkHtml = 'Like what you see? Visit the ' +\n",
              "            '<a target=\"_blank\" href=https://colab.research.google.com/notebooks/data_table.ipynb>data table notebook</a>'\n",
              "            + ' to learn more about interactive tables.';\n",
              "          element.innerHTML = '';\n",
              "          dataTable['output_type'] = 'display_data';\n",
              "          await google.colab.output.renderOutput(dataTable, element);\n",
              "          const docLink = document.createElement('div');\n",
              "          docLink.innerHTML = docLinkHtml;\n",
              "          element.appendChild(docLink);\n",
              "        }\n",
              "      </script>\n",
              "    </div>\n",
              "  </div>\n",
              "  "
            ]
          },
          "metadata": {},
          "execution_count": 11
        }
      ]
    },
    {
      "cell_type": "code",
      "source": [
        "x=df.drop(columns=['Lenght','Weight'])\n",
        "y=df.drop(columns=['TEMPERATURE','TURBIDITY','DISOLVED OXYGEN','pH','AMMONIA','NITRATE'])\n",
        "y1=y['Lenght']\n",
        "y2=y['Weight']"
      ],
      "metadata": {
        "id": "Im3Q57HSD6t3"
      },
      "execution_count": 12,
      "outputs": []
    },
    {
      "cell_type": "markdown",
      "source": [
        "Y1 corresponds to the model for fish length label and Y2 corresponds to the model for fish weight label. Splitting the data for training and testing\n"
      ],
      "metadata": {
        "id": "vedO5lboECJd"
      }
    },
    {
      "cell_type": "code",
      "source": [
        "X_train,X_test,Y1_train,Y1_test=train_test_split(x,y1,test_size=0.2,random_state=0)\n",
        "X_train,X_test,Y2_train,Y2_test=train_test_split(x,y2,test_size=0.2,random_state=0)"
      ],
      "metadata": {
        "id": "nSBcYsclD7Tg"
      },
      "execution_count": 13,
      "outputs": []
    },
    {
      "cell_type": "markdown",
      "source": [
        "Saling of input data"
      ],
      "metadata": {
        "id": "6DWWdLOkYiNm"
      }
    },
    {
      "cell_type": "code",
      "source": [
        "scaler = MinMaxScaler()\n",
        "X_train = scaler.fit_transform(X_train)\n",
        "X_test = scaler.transform(X_test)"
      ],
      "metadata": {
        "id": "ErkZ9mlqYf2t"
      },
      "execution_count": 14,
      "outputs": []
    },
    {
      "cell_type": "markdown",
      "source": [
        "1) Logistic Regression"
      ],
      "metadata": {
        "id": "-Jj7h1mCEIoS"
      }
    },
    {
      "cell_type": "code",
      "source": [
        "model=LogisticRegression(multi_class='multinomial')\n",
        "data=model.fit(X_train,Y1_train)\n",
        "Y1_predict=data.predict(X_test)\n",
        "print(\"The classification report for Fish Length is:\",classification_report(Y1_test,Y1_predict))\n",
        "print(\"The confusion matrix for Fish Length is:\",confusion_matrix(Y1_test,Y1_predict))\n",
        "data=model.fit(X_train,Y2_train)\n",
        "Y2_predict=data.predict(X_test)\n",
        "print(\"The classification report for Fish Weight is:\",classification_report(Y2_test,Y2_predict))\n",
        "print(\"The confusion matrix for Fish Weight is:\",confusion_matrix(Y2_test,Y2_predict))"
      ],
      "metadata": {
        "colab": {
          "base_uri": "https://localhost:8080/"
        },
        "id": "LVEN164pEGLB",
        "outputId": "3dcd19a9-71f6-4c16-fefb-2b406b21e325"
      },
      "execution_count": 15,
      "outputs": [
        {
          "output_type": "stream",
          "name": "stderr",
          "text": [
            "/usr/local/lib/python3.8/dist-packages/sklearn/linear_model/_logistic.py:814: ConvergenceWarning: lbfgs failed to converge (status=1):\n",
            "STOP: TOTAL NO. of ITERATIONS REACHED LIMIT.\n",
            "\n",
            "Increase the number of iterations (max_iter) or scale the data as shown in:\n",
            "    https://scikit-learn.org/stable/modules/preprocessing.html\n",
            "Please also refer to the documentation for alternative solver options:\n",
            "    https://scikit-learn.org/stable/modules/linear_model.html#logistic-regression\n",
            "  n_iter_i = _check_optimize_result(\n",
            "/usr/local/lib/python3.8/dist-packages/sklearn/metrics/_classification.py:1318: UndefinedMetricWarning: Precision and F-score are ill-defined and being set to 0.0 in labels with no predicted samples. Use `zero_division` parameter to control this behavior.\n",
            "  _warn_prf(average, modifier, msg_start, len(result))\n",
            "/usr/local/lib/python3.8/dist-packages/sklearn/metrics/_classification.py:1318: UndefinedMetricWarning: Precision and F-score are ill-defined and being set to 0.0 in labels with no predicted samples. Use `zero_division` parameter to control this behavior.\n",
            "  _warn_prf(average, modifier, msg_start, len(result))\n",
            "/usr/local/lib/python3.8/dist-packages/sklearn/metrics/_classification.py:1318: UndefinedMetricWarning: Precision and F-score are ill-defined and being set to 0.0 in labels with no predicted samples. Use `zero_division` parameter to control this behavior.\n",
            "  _warn_prf(average, modifier, msg_start, len(result))\n"
          ]
        },
        {
          "output_type": "stream",
          "name": "stdout",
          "text": [
            "The classification report for Fish Length is:               precision    recall  f1-score   support\n",
            "\n",
            "       14.12       0.00      0.00      0.00         8\n",
            " 15.37142856       0.00      0.00      0.00        57\n",
            "  15.6842857       0.00      0.00      0.00        58\n",
            "       32.46       0.59      0.31      0.41        32\n",
            "    33.04286       0.00      0.00      0.00         1\n",
            "    41.95786       0.58      1.00      0.74       288\n",
            "    42.96929       0.33      0.03      0.05        71\n",
            "       44.65       1.00      0.97      0.99       118\n",
            "\n",
            "    accuracy                           0.66       633\n",
            "   macro avg       0.31      0.29      0.27       633\n",
            "weighted avg       0.52      0.66      0.55       633\n",
            "\n",
            "The confusion matrix for Fish Length is: [[  0   0   0   7   0   1   0   0]\n",
            " [  0   0   0   0   0  57   0   0]\n",
            " [  0   0   0   0   0  55   3   0]\n",
            " [  0   0   0  10   0  21   1   0]\n",
            " [  0   0   0   0   0   1   0   0]\n",
            " [  0   0   0   0   0 288   0   0]\n",
            " [  0   0   1   0   0  68   2   0]\n",
            " [  0   0   0   0   0   3   0 115]]\n",
            "The classification report for Fish Weight is:               precision    recall  f1-score   support\n",
            "\n",
            "       281.2       0.59      0.31      0.41        32\n",
            "    302.9714       0.00      0.00      0.00         1\n",
            "        33.8       0.00      0.00      0.00         8\n",
            " 39.34285716       0.00      0.00      0.00        57\n",
            " 40.92857145       0.00      0.00      0.00        58\n",
            "    625.8857       0.58      1.00      0.74       288\n",
            "    644.3571       0.33      0.03      0.05        71\n",
            "       701.0       1.00      0.97      0.99       118\n",
            "\n",
            "    accuracy                           0.66       633\n",
            "   macro avg       0.31      0.29      0.27       633\n",
            "weighted avg       0.52      0.66      0.55       633\n",
            "\n",
            "The confusion matrix for Fish Weight is: [[ 10   0   0   0   0  21   1   0]\n",
            " [  0   0   0   0   0   1   0   0]\n",
            " [  7   0   0   0   0   1   0   0]\n",
            " [  0   0   0   0   0  57   0   0]\n",
            " [  0   0   0   0   0  55   3   0]\n",
            " [  0   0   0   0   0 288   0   0]\n",
            " [  0   0   0   0   1  68   2   0]\n",
            " [  0   0   0   0   0   3   0 115]]\n"
          ]
        },
        {
          "output_type": "stream",
          "name": "stderr",
          "text": [
            "/usr/local/lib/python3.8/dist-packages/sklearn/linear_model/_logistic.py:814: ConvergenceWarning: lbfgs failed to converge (status=1):\n",
            "STOP: TOTAL NO. of ITERATIONS REACHED LIMIT.\n",
            "\n",
            "Increase the number of iterations (max_iter) or scale the data as shown in:\n",
            "    https://scikit-learn.org/stable/modules/preprocessing.html\n",
            "Please also refer to the documentation for alternative solver options:\n",
            "    https://scikit-learn.org/stable/modules/linear_model.html#logistic-regression\n",
            "  n_iter_i = _check_optimize_result(\n",
            "/usr/local/lib/python3.8/dist-packages/sklearn/metrics/_classification.py:1318: UndefinedMetricWarning: Precision and F-score are ill-defined and being set to 0.0 in labels with no predicted samples. Use `zero_division` parameter to control this behavior.\n",
            "  _warn_prf(average, modifier, msg_start, len(result))\n",
            "/usr/local/lib/python3.8/dist-packages/sklearn/metrics/_classification.py:1318: UndefinedMetricWarning: Precision and F-score are ill-defined and being set to 0.0 in labels with no predicted samples. Use `zero_division` parameter to control this behavior.\n",
            "  _warn_prf(average, modifier, msg_start, len(result))\n",
            "/usr/local/lib/python3.8/dist-packages/sklearn/metrics/_classification.py:1318: UndefinedMetricWarning: Precision and F-score are ill-defined and being set to 0.0 in labels with no predicted samples. Use `zero_division` parameter to control this behavior.\n",
            "  _warn_prf(average, modifier, msg_start, len(result))\n"
          ]
        }
      ]
    },
    {
      "cell_type": "markdown",
      "source": [
        "2) Decision Tree Classifier"
      ],
      "metadata": {
        "id": "0lgjS9lLEM36"
      }
    },
    {
      "cell_type": "code",
      "source": [
        "model=DecisionTreeClassifier()\n",
        "data=model.fit(X_train,Y1_train)\n",
        "Y1_predict=data.predict(X_test)\n",
        "print(\"The classification report for Fish Length is:\",classification_report(Y1_test,Y1_predict))\n",
        "print(\"The confusion matrix for Fish Length is:\",confusion_matrix(Y1_test,Y1_predict))\n",
        "data=model.fit(X_train,Y2_train)\n",
        "Y2_predict=data.predict(X_test)\n",
        "print(\"The classification report for Fish Weight is:\",classification_report(Y2_test,Y2_predict))\n",
        "print(\"The confusion matrix for Fish Weight is:\",confusion_matrix(Y2_test,Y2_predict))"
      ],
      "metadata": {
        "colab": {
          "base_uri": "https://localhost:8080/"
        },
        "id": "KQ1ZuNlAEMfo",
        "outputId": "de320144-734f-49e1-f9ac-6aae92fd7095"
      },
      "execution_count": 16,
      "outputs": [
        {
          "output_type": "stream",
          "name": "stdout",
          "text": [
            "The classification report for Fish Length is:               precision    recall  f1-score   support\n",
            "\n",
            "       14.12       0.00      0.00      0.00         8\n",
            " 15.37142856       0.11      0.18      0.14        57\n",
            "  15.6842857       0.11      0.12      0.11        58\n",
            "       32.46       0.74      0.72      0.73        32\n",
            "    33.04286       1.00      1.00      1.00         1\n",
            "    41.95786       0.81      0.72      0.76       288\n",
            "    42.96929       0.21      0.20      0.20        71\n",
            "       44.65       1.00      0.99      1.00       118\n",
            "\n",
            "    accuracy                           0.60       633\n",
            "   macro avg       0.50      0.49      0.49       633\n",
            "weighted avg       0.64      0.60      0.62       633\n",
            "\n",
            "The confusion matrix for Fish Length is: [[  0   0   0   8   0   0   0   0]\n",
            " [  0  10   0   0   0  47   0   0]\n",
            " [  0   0   7   0   0   0  51   0]\n",
            " [  9   0   0  23   0   0   0   0]\n",
            " [  0   0   0   0   1   0   0   0]\n",
            " [  0  79   1   0   0 207   1   0]\n",
            " [  0   0  57   0   0   0  14   0]\n",
            " [  0   0   1   0   0   0   0 117]]\n",
            "The classification report for Fish Weight is:               precision    recall  f1-score   support\n",
            "\n",
            "       281.2       0.74      0.72      0.73        32\n",
            "    302.9714       1.00      1.00      1.00         1\n",
            "        33.8       0.00      0.00      0.00         8\n",
            " 39.34285716       0.12      0.19      0.15        57\n",
            " 40.92857145       0.11      0.12      0.11        58\n",
            "    625.8857       0.82      0.72      0.76       288\n",
            "    644.3571       0.21      0.20      0.20        71\n",
            "       701.0       1.00      0.99      1.00       118\n",
            "\n",
            "    accuracy                           0.60       633\n",
            "   macro avg       0.50      0.49      0.49       633\n",
            "weighted avg       0.64      0.60      0.62       633\n",
            "\n",
            "The confusion matrix for Fish Weight is: [[ 23   0   9   0   0   0   0   0]\n",
            " [  0   1   0   0   0   0   0   0]\n",
            " [  8   0   0   0   0   0   0   0]\n",
            " [  0   0   0  11   0  46   0   0]\n",
            " [  0   0   0   0   7   0  51   0]\n",
            " [  0   0   0  80   1 206   1   0]\n",
            " [  0   0   0   0  57   0  14   0]\n",
            " [  0   0   0   0   1   0   0 117]]\n"
          ]
        }
      ]
    },
    {
      "cell_type": "markdown",
      "source": [
        "3) Support Vector Machine"
      ],
      "metadata": {
        "id": "7oXUyizgETVi"
      }
    },
    {
      "cell_type": "code",
      "source": [
        "model=SVC()\n",
        "data=model.fit(X_train,Y1_train)\n",
        "Y1_predict=data.predict(X_test)\n",
        "print(\"The classification report for Fish Length is:\",classification_report(Y1_test,Y1_predict))\n",
        "print(\"The confusion matrix for Fish Length is:\",confusion_matrix(Y1_test,Y1_predict))\n",
        "data=model.fit(X_train,Y2_train)\n",
        "Y2_predict=data.predict(X_test)\n",
        "print(\"The classification report for Fish Weight is:\",classification_report(Y2_test,Y2_predict))\n",
        "print(\"The confusion matrix for Fish Weight is:\",confusion_matrix(Y2_test,Y2_predict))"
      ],
      "metadata": {
        "colab": {
          "base_uri": "https://localhost:8080/"
        },
        "id": "S3vtXKR0EaI3",
        "outputId": "7c195493-bb97-4f98-c15c-beecb88b042e"
      },
      "execution_count": 17,
      "outputs": [
        {
          "output_type": "stream",
          "name": "stderr",
          "text": [
            "/usr/local/lib/python3.8/dist-packages/sklearn/metrics/_classification.py:1318: UndefinedMetricWarning: Precision and F-score are ill-defined and being set to 0.0 in labels with no predicted samples. Use `zero_division` parameter to control this behavior.\n",
            "  _warn_prf(average, modifier, msg_start, len(result))\n",
            "/usr/local/lib/python3.8/dist-packages/sklearn/metrics/_classification.py:1318: UndefinedMetricWarning: Precision and F-score are ill-defined and being set to 0.0 in labels with no predicted samples. Use `zero_division` parameter to control this behavior.\n",
            "  _warn_prf(average, modifier, msg_start, len(result))\n",
            "/usr/local/lib/python3.8/dist-packages/sklearn/metrics/_classification.py:1318: UndefinedMetricWarning: Precision and F-score are ill-defined and being set to 0.0 in labels with no predicted samples. Use `zero_division` parameter to control this behavior.\n",
            "  _warn_prf(average, modifier, msg_start, len(result))\n"
          ]
        },
        {
          "output_type": "stream",
          "name": "stdout",
          "text": [
            "The classification report for Fish Length is:               precision    recall  f1-score   support\n",
            "\n",
            "       14.12       0.00      0.00      0.00         8\n",
            " 15.37142856       0.00      0.00      0.00        57\n",
            "  15.6842857       0.00      0.00      0.00        58\n",
            "       32.46       0.75      0.94      0.83        32\n",
            "    33.04286       0.00      0.00      0.00         1\n",
            "    41.95786       0.62      1.00      0.76       288\n",
            "    42.96929       0.33      0.03      0.05        71\n",
            "       44.65       1.00      1.00      1.00       118\n",
            "\n",
            "    accuracy                           0.69       633\n",
            "   macro avg       0.34      0.37      0.33       633\n",
            "weighted avg       0.54      0.69      0.58       633\n",
            "\n",
            "The confusion matrix for Fish Length is: [[  0   0   0   8   0   0   0   0]\n",
            " [  0   0   0   0   0  57   0   0]\n",
            " [  0   0   0   1   0  55   2   0]\n",
            " [  0   0   0  30   0   0   2   0]\n",
            " [  0   0   0   0   0   1   0   0]\n",
            " [  0   0   0   0   0 288   0   0]\n",
            " [  0   0   1   1   0  67   2   0]\n",
            " [  0   0   0   0   0   0   0 118]]\n",
            "The classification report for Fish Weight is:               precision    recall  f1-score   support\n",
            "\n",
            "       281.2       0.75      0.94      0.83        32\n",
            "    302.9714       0.00      0.00      0.00         1\n",
            "        33.8       0.00      0.00      0.00         8\n",
            " 39.34285716       0.00      0.00      0.00        57\n",
            " 40.92857145       0.00      0.00      0.00        58\n",
            "    625.8857       0.62      1.00      0.76       288\n",
            "    644.3571       0.33      0.03      0.05        71\n",
            "       701.0       1.00      1.00      1.00       118\n",
            "\n",
            "    accuracy                           0.69       633\n",
            "   macro avg       0.34      0.37      0.33       633\n",
            "weighted avg       0.54      0.69      0.58       633\n",
            "\n",
            "The confusion matrix for Fish Weight is: [[ 30   0   0   0   0   0   2   0]\n",
            " [  0   0   0   0   0   1   0   0]\n",
            " [  8   0   0   0   0   0   0   0]\n",
            " [  0   0   0   0   0  57   0   0]\n",
            " [  1   0   0   0   0  55   2   0]\n",
            " [  0   0   0   0   0 288   0   0]\n",
            " [  1   0   0   0   1  67   2   0]\n",
            " [  0   0   0   0   0   0   0 118]]\n"
          ]
        },
        {
          "output_type": "stream",
          "name": "stderr",
          "text": [
            "/usr/local/lib/python3.8/dist-packages/sklearn/metrics/_classification.py:1318: UndefinedMetricWarning: Precision and F-score are ill-defined and being set to 0.0 in labels with no predicted samples. Use `zero_division` parameter to control this behavior.\n",
            "  _warn_prf(average, modifier, msg_start, len(result))\n",
            "/usr/local/lib/python3.8/dist-packages/sklearn/metrics/_classification.py:1318: UndefinedMetricWarning: Precision and F-score are ill-defined and being set to 0.0 in labels with no predicted samples. Use `zero_division` parameter to control this behavior.\n",
            "  _warn_prf(average, modifier, msg_start, len(result))\n",
            "/usr/local/lib/python3.8/dist-packages/sklearn/metrics/_classification.py:1318: UndefinedMetricWarning: Precision and F-score are ill-defined and being set to 0.0 in labels with no predicted samples. Use `zero_division` parameter to control this behavior.\n",
            "  _warn_prf(average, modifier, msg_start, len(result))\n"
          ]
        }
      ]
    },
    {
      "cell_type": "markdown",
      "source": [
        "4) Random Forest Classifier"
      ],
      "metadata": {
        "id": "_q6jHikLE0po"
      }
    },
    {
      "cell_type": "code",
      "source": [
        "model=RandomForestClassifier()\n",
        "data=model.fit(X_train,Y1_train)\n",
        "Y1_predict=data.predict(X_test)\n",
        "print(\"The classification report for Fish Length is:\",classification_report(Y1_test,Y1_predict))\n",
        "print(\"The confusion matrix for Fish Length is:\",confusion_matrix(Y1_test,Y1_predict))\n",
        "data=model.fit(X_train,Y2_train)\n",
        "Y2_predict=data.predict(X_test)\n",
        "print(\"The classification report for Fish Weight is:\",classification_report(Y2_test,Y2_predict))\n",
        "print(\"The confusion matrix for Fish Weight is:\",confusion_matrix(Y2_test,Y2_predict))"
      ],
      "metadata": {
        "colab": {
          "base_uri": "https://localhost:8080/"
        },
        "id": "GQ_iuMHBEvpu",
        "outputId": "6f95378e-abf5-4a33-a820-a03e2489fb39"
      },
      "execution_count": 18,
      "outputs": [
        {
          "output_type": "stream",
          "name": "stdout",
          "text": [
            "The classification report for Fish Length is:               precision    recall  f1-score   support\n",
            "\n",
            "       14.12       0.09      0.12      0.11         8\n",
            " 15.37142856       0.06      0.07      0.07        57\n",
            "  15.6842857       0.04      0.03      0.04        58\n",
            "       32.46       0.76      0.69      0.72        32\n",
            "    33.04286       1.00      1.00      1.00         1\n",
            "    41.95786       0.80      0.78      0.79       288\n",
            "    42.96929       0.27      0.30      0.28        71\n",
            "       44.65       1.00      1.00      1.00       118\n",
            "\n",
            "    accuracy                           0.62       633\n",
            "   macro avg       0.50      0.50      0.50       633\n",
            "weighted avg       0.63      0.62      0.63       633\n",
            "\n",
            "The confusion matrix for Fish Length is: [[  1   0   0   7   0   0   0   0]\n",
            " [  0   4   0   0   0  53   0   0]\n",
            " [  0   0   2   0   0   1  55   0]\n",
            " [ 10   0   0  22   0   0   0   0]\n",
            " [  0   0   0   0   1   0   0   0]\n",
            " [  0  61   0   0   0 226   1   0]\n",
            " [  0   0  49   0   0   1  21   0]\n",
            " [  0   0   0   0   0   0   0 118]]\n",
            "The classification report for Fish Weight is:               precision    recall  f1-score   support\n",
            "\n",
            "       281.2       0.74      0.72      0.73        32\n",
            "    302.9714       1.00      1.00      1.00         1\n",
            "        33.8       0.00      0.00      0.00         8\n",
            " 39.34285716       0.07      0.09      0.08        57\n",
            " 40.92857145       0.04      0.03      0.04        58\n",
            "    625.8857       0.81      0.78      0.79       288\n",
            "    644.3571       0.26      0.28      0.27        71\n",
            "       701.0       1.00      1.00      1.00       118\n",
            "\n",
            "    accuracy                           0.62       633\n",
            "   macro avg       0.49      0.49      0.49       633\n",
            "weighted avg       0.63      0.62      0.63       633\n",
            "\n",
            "The confusion matrix for Fish Weight is: [[ 23   0   9   0   0   0   0   0]\n",
            " [  0   1   0   0   0   0   0   0]\n",
            " [  8   0   0   0   0   0   0   0]\n",
            " [  0   0   0   5   0  52   0   0]\n",
            " [  0   0   0   0   2   1  55   0]\n",
            " [  0   0   0  62   0 225   1   0]\n",
            " [  0   0   0   0  50   1  20   0]\n",
            " [  0   0   0   0   0   0   0 118]]\n"
          ]
        }
      ]
    },
    {
      "cell_type": "markdown",
      "source": [
        "5) K Nearest Neighbors"
      ],
      "metadata": {
        "id": "9qN7Ep5mE9IR"
      }
    },
    {
      "cell_type": "code",
      "source": [
        "model=KNeighborsClassifier()\n",
        "data=model.fit(X_train,Y1_train)\n",
        "Y1_predict=data.predict(X_test)\n",
        "print(\"The classification report for Fish Length is:\",classification_report(Y1_test,Y1_predict))\n",
        "print(\"The confusion matrix for Fish Length is:\",confusion_matrix(Y1_test,Y1_predict))\n",
        "data=model.fit(X_train,Y2_train)\n",
        "Y2_predict=data.predict(X_test)\n",
        "print(\"The classification report for Fish Weight is:\",classification_report(Y2_test,Y2_predict))\n",
        "print(\"The confusion matrix for Fish Weight is:\",confusion_matrix(Y2_test,Y2_predict))"
      ],
      "metadata": {
        "colab": {
          "base_uri": "https://localhost:8080/"
        },
        "id": "jwI3MN3PE431",
        "outputId": "3051ab94-0f88-4d19-d6a4-6de813ffc060"
      },
      "execution_count": 19,
      "outputs": [
        {
          "output_type": "stream",
          "name": "stdout",
          "text": [
            "The classification report for Fish Length is:               precision    recall  f1-score   support\n",
            "\n",
            "       14.12       0.50      0.25      0.33         8\n",
            " 15.37142856       0.14      0.14      0.14        57\n",
            "  15.6842857       0.14      0.09      0.11        58\n",
            "       32.46       0.83      0.91      0.87        32\n",
            "    33.04286       0.00      0.00      0.00         1\n",
            "    41.95786       0.80      0.86      0.83       288\n",
            "    42.96929       0.33      0.34      0.33        71\n",
            "       44.65       1.00      1.00      1.00       118\n",
            "\n",
            "    accuracy                           0.68       633\n",
            "   macro avg       0.47      0.45      0.45       633\n",
            "weighted avg       0.66      0.68      0.67       633\n",
            "\n",
            "The confusion matrix for Fish Length is: [[  2   0   0   6   0   0   0   0]\n",
            " [  0   8   2   0   0  47   0   0]\n",
            " [  0   1   5   0   0   3  49   0]\n",
            " [  2   0   1  29   0   0   0   0]\n",
            " [  0   1   0   0   0   0   0   0]\n",
            " [  0  40   1   0   0 247   0   0]\n",
            " [  0   7  28   0   0  12  24   0]\n",
            " [  0   0   0   0   0   0   0 118]]\n",
            "The classification report for Fish Weight is:               precision    recall  f1-score   support\n",
            "\n",
            "       281.2       0.83      0.91      0.87        32\n",
            "    302.9714       0.00      0.00      0.00         1\n",
            "        33.8       0.50      0.25      0.33         8\n",
            " 39.34285716       0.14      0.14      0.14        57\n",
            " 40.92857145       0.14      0.09      0.11        58\n",
            "    625.8857       0.80      0.86      0.83       288\n",
            "    644.3571       0.33      0.34      0.33        71\n",
            "       701.0       1.00      1.00      1.00       118\n",
            "\n",
            "    accuracy                           0.68       633\n",
            "   macro avg       0.47      0.45      0.45       633\n",
            "weighted avg       0.66      0.68      0.67       633\n",
            "\n",
            "The confusion matrix for Fish Weight is: [[ 29   0   2   0   1   0   0   0]\n",
            " [  0   0   0   1   0   0   0   0]\n",
            " [  6   0   2   0   0   0   0   0]\n",
            " [  0   0   0   8   2  47   0   0]\n",
            " [  0   0   0   1   5   3  49   0]\n",
            " [  0   0   0  40   1 247   0   0]\n",
            " [  0   0   0   7  28  12  24   0]\n",
            " [  0   0   0   0   0   0   0 118]]\n"
          ]
        },
        {
          "output_type": "stream",
          "name": "stderr",
          "text": [
            "/usr/local/lib/python3.8/dist-packages/sklearn/metrics/_classification.py:1318: UndefinedMetricWarning: Precision and F-score are ill-defined and being set to 0.0 in labels with no predicted samples. Use `zero_division` parameter to control this behavior.\n",
            "  _warn_prf(average, modifier, msg_start, len(result))\n",
            "/usr/local/lib/python3.8/dist-packages/sklearn/metrics/_classification.py:1318: UndefinedMetricWarning: Precision and F-score are ill-defined and being set to 0.0 in labels with no predicted samples. Use `zero_division` parameter to control this behavior.\n",
            "  _warn_prf(average, modifier, msg_start, len(result))\n",
            "/usr/local/lib/python3.8/dist-packages/sklearn/metrics/_classification.py:1318: UndefinedMetricWarning: Precision and F-score are ill-defined and being set to 0.0 in labels with no predicted samples. Use `zero_division` parameter to control this behavior.\n",
            "  _warn_prf(average, modifier, msg_start, len(result))\n",
            "/usr/local/lib/python3.8/dist-packages/sklearn/metrics/_classification.py:1318: UndefinedMetricWarning: Precision and F-score are ill-defined and being set to 0.0 in labels with no predicted samples. Use `zero_division` parameter to control this behavior.\n",
            "  _warn_prf(average, modifier, msg_start, len(result))\n",
            "/usr/local/lib/python3.8/dist-packages/sklearn/metrics/_classification.py:1318: UndefinedMetricWarning: Precision and F-score are ill-defined and being set to 0.0 in labels with no predicted samples. Use `zero_division` parameter to control this behavior.\n",
            "  _warn_prf(average, modifier, msg_start, len(result))\n",
            "/usr/local/lib/python3.8/dist-packages/sklearn/metrics/_classification.py:1318: UndefinedMetricWarning: Precision and F-score are ill-defined and being set to 0.0 in labels with no predicted samples. Use `zero_division` parameter to control this behavior.\n",
            "  _warn_prf(average, modifier, msg_start, len(result))\n"
          ]
        }
      ]
    },
    {
      "cell_type": "markdown",
      "source": [
        "6) Ada Boost Classifier"
      ],
      "metadata": {
        "id": "q4xPkrxRFDro"
      }
    },
    {
      "cell_type": "code",
      "source": [
        "model=AdaBoostClassifier()\n",
        "data=model.fit(X_train,Y1_train)\n",
        "Y1_predict=data.predict(X_test)\n",
        "print(\"The classification report for Fish Length is:\",classification_report(Y1_test,Y1_predict))\n",
        "print(\"The confusion matrix for Fish Length is:\",confusion_matrix(Y1_test,Y1_predict))\n",
        "data=model.fit(X_train,Y2_train)\n",
        "Y2_predict=data.predict(X_test)\n",
        "print(\"The classification report for Fish Weight is:\",classification_report(Y2_test,Y2_predict))\n",
        "print(\"The confusion matrix for Fish Weight is:\",confusion_matrix(Y2_test,Y2_predict))"
      ],
      "metadata": {
        "colab": {
          "base_uri": "https://localhost:8080/"
        },
        "id": "w5yuYkCKFAXK",
        "outputId": "3e853ccb-3679-4f48-c669-0756127d3f10"
      },
      "execution_count": 20,
      "outputs": [
        {
          "output_type": "stream",
          "name": "stderr",
          "text": [
            "/usr/local/lib/python3.8/dist-packages/sklearn/metrics/_classification.py:1318: UndefinedMetricWarning: Precision and F-score are ill-defined and being set to 0.0 in labels with no predicted samples. Use `zero_division` parameter to control this behavior.\n",
            "  _warn_prf(average, modifier, msg_start, len(result))\n",
            "/usr/local/lib/python3.8/dist-packages/sklearn/metrics/_classification.py:1318: UndefinedMetricWarning: Precision and F-score are ill-defined and being set to 0.0 in labels with no predicted samples. Use `zero_division` parameter to control this behavior.\n",
            "  _warn_prf(average, modifier, msg_start, len(result))\n",
            "/usr/local/lib/python3.8/dist-packages/sklearn/metrics/_classification.py:1318: UndefinedMetricWarning: Precision and F-score are ill-defined and being set to 0.0 in labels with no predicted samples. Use `zero_division` parameter to control this behavior.\n",
            "  _warn_prf(average, modifier, msg_start, len(result))\n"
          ]
        },
        {
          "output_type": "stream",
          "name": "stdout",
          "text": [
            "The classification report for Fish Length is:               precision    recall  f1-score   support\n",
            "\n",
            "       14.12       0.00      0.00      0.00         8\n",
            " 15.37142856       0.00      0.00      0.00        57\n",
            "  15.6842857       0.00      0.00      0.00        58\n",
            "       32.46       0.00      0.00      0.00        32\n",
            "    33.04286       0.00      0.00      0.00         1\n",
            "    41.95786       0.56      1.00      0.72       288\n",
            "    42.96929       0.00      0.00      0.00        71\n",
            "       44.65       1.00      1.00      1.00       118\n",
            "\n",
            "    accuracy                           0.64       633\n",
            "   macro avg       0.19      0.25      0.21       633\n",
            "weighted avg       0.44      0.64      0.51       633\n",
            "\n",
            "The confusion matrix for Fish Length is: [[  0   0   0   0   0   8   0   0]\n",
            " [  0   0   0   0   0  57   0   0]\n",
            " [  0   0   0   0   0  58   0   0]\n",
            " [  0   0   0   0   0  32   0   0]\n",
            " [  0   0   0   0   0   1   0   0]\n",
            " [  0   0   0   0   0 288   0   0]\n",
            " [  0   0   0   0   0  71   0   0]\n",
            " [  0   0   0   0   0   0   0 118]]\n",
            "The classification report for Fish Weight is:               precision    recall  f1-score   support\n",
            "\n",
            "       281.2       0.00      0.00      0.00        32\n",
            "    302.9714       0.00      0.00      0.00         1\n",
            "        33.8       0.00      0.00      0.00         8\n",
            " 39.34285716       0.00      0.00      0.00        57\n",
            " 40.92857145       0.00      0.00      0.00        58\n",
            "    625.8857       0.56      1.00      0.72       288\n",
            "    644.3571       0.00      0.00      0.00        71\n",
            "       701.0       1.00      1.00      1.00       118\n",
            "\n",
            "    accuracy                           0.64       633\n",
            "   macro avg       0.19      0.25      0.21       633\n",
            "weighted avg       0.44      0.64      0.51       633\n",
            "\n",
            "The confusion matrix for Fish Weight is: [[  0   0   0   0   0  32   0   0]\n",
            " [  0   0   0   0   0   1   0   0]\n",
            " [  0   0   0   0   0   8   0   0]\n",
            " [  0   0   0   0   0  57   0   0]\n",
            " [  0   0   0   0   0  58   0   0]\n",
            " [  0   0   0   0   0 288   0   0]\n",
            " [  0   0   0   0   0  71   0   0]\n",
            " [  0   0   0   0   0   0   0 118]]\n"
          ]
        },
        {
          "output_type": "stream",
          "name": "stderr",
          "text": [
            "/usr/local/lib/python3.8/dist-packages/sklearn/metrics/_classification.py:1318: UndefinedMetricWarning: Precision and F-score are ill-defined and being set to 0.0 in labels with no predicted samples. Use `zero_division` parameter to control this behavior.\n",
            "  _warn_prf(average, modifier, msg_start, len(result))\n",
            "/usr/local/lib/python3.8/dist-packages/sklearn/metrics/_classification.py:1318: UndefinedMetricWarning: Precision and F-score are ill-defined and being set to 0.0 in labels with no predicted samples. Use `zero_division` parameter to control this behavior.\n",
            "  _warn_prf(average, modifier, msg_start, len(result))\n",
            "/usr/local/lib/python3.8/dist-packages/sklearn/metrics/_classification.py:1318: UndefinedMetricWarning: Precision and F-score are ill-defined and being set to 0.0 in labels with no predicted samples. Use `zero_division` parameter to control this behavior.\n",
            "  _warn_prf(average, modifier, msg_start, len(result))\n"
          ]
        }
      ]
    },
    {
      "cell_type": "markdown",
      "source": [
        "7) Extra Trees Classifier"
      ],
      "metadata": {
        "id": "mSI5n8gsFJxX"
      }
    },
    {
      "cell_type": "code",
      "source": [
        "model=ExtraTreesClassifier()\n",
        "data=model.fit(X_train,Y1_train)\n",
        "Y1_predict=data.predict(X_test)\n",
        "print(\"The classification report for Fish Length is:\",classification_report(Y1_test,Y1_predict))\n",
        "print(\"The confusion matrix for Fish Length is:\",confusion_matrix(Y1_test,Y1_predict))\n",
        "data=model.fit(X_train,Y2_train)\n",
        "Y2_predict=data.predict(X_test)\n",
        "print(\"The classification report for Fish Weight is:\",classification_report(Y2_test,Y2_predict))\n",
        "print(\"The confusion matrix for Fish Weight is:\",confusion_matrix(Y2_test,Y2_predict))"
      ],
      "metadata": {
        "colab": {
          "base_uri": "https://localhost:8080/"
        },
        "id": "2Z8xq-EQFHBs",
        "outputId": "43004b43-d755-4fcf-8e9d-af7e58c0aadb"
      },
      "execution_count": 21,
      "outputs": [
        {
          "output_type": "stream",
          "name": "stdout",
          "text": [
            "The classification report for Fish Length is:               precision    recall  f1-score   support\n",
            "\n",
            "       14.12       0.00      0.00      0.00         8\n",
            " 15.37142856       0.07      0.09      0.08        57\n",
            "  15.6842857       0.02      0.02      0.02        58\n",
            "       32.46       0.74      0.72      0.73        32\n",
            "    33.04286       1.00      1.00      1.00         1\n",
            "    41.95786       0.80      0.76      0.78       288\n",
            "    42.96929       0.26      0.28      0.27        71\n",
            "       44.65       1.00      1.00      1.00       118\n",
            "\n",
            "    accuracy                           0.61       633\n",
            "   macro avg       0.49      0.48      0.48       633\n",
            "weighted avg       0.63      0.61      0.62       633\n",
            "\n",
            "The confusion matrix for Fish Length is: [[  0   0   0   8   0   0   0   0]\n",
            " [  0   5   0   0   0  52   0   0]\n",
            " [  0   0   1   0   0   1  56   0]\n",
            " [  9   0   0  23   0   0   0   0]\n",
            " [  0   0   0   0   1   0   0   0]\n",
            " [  0  68   0   0   0 219   1   0]\n",
            " [  0   0  49   0   0   2  20   0]\n",
            " [  0   0   0   0   0   0   0 118]]\n",
            "The classification report for Fish Weight is:               precision    recall  f1-score   support\n",
            "\n",
            "       281.2       0.74      0.72      0.73        32\n",
            "    302.9714       1.00      1.00      1.00         1\n",
            "        33.8       0.00      0.00      0.00         8\n",
            " 39.34285716       0.08      0.11      0.09        57\n",
            " 40.92857145       0.00      0.00      0.00        58\n",
            "    625.8857       0.81      0.76      0.78       288\n",
            "    644.3571       0.28      0.31      0.29        71\n",
            "       701.0       1.00      1.00      1.00       118\n",
            "\n",
            "    accuracy                           0.61       633\n",
            "   macro avg       0.49      0.49      0.49       633\n",
            "weighted avg       0.63      0.61      0.62       633\n",
            "\n",
            "The confusion matrix for Fish Weight is: [[ 23   0   9   0   0   0   0   0]\n",
            " [  0   1   0   0   0   0   0   0]\n",
            " [  8   0   0   0   0   0   0   0]\n",
            " [  0   0   0   6   0  51   0   0]\n",
            " [  0   0   0   0   0   1  57   0]\n",
            " [  0   0   0  68   0 219   1   0]\n",
            " [  0   0   0   0  48   1  22   0]\n",
            " [  0   0   0   0   0   0   0 118]]\n"
          ]
        }
      ]
    },
    {
      "cell_type": "markdown",
      "source": [
        "8) Gradient Boosting Classifier"
      ],
      "metadata": {
        "id": "sFB8CLt-FPdE"
      }
    },
    {
      "cell_type": "code",
      "source": [
        "model=GradientBoostingClassifier()\n",
        "data=model.fit(X_train,Y1_train)\n",
        "Y1_predict=data.predict(X_test)\n",
        "print(\"The classification report for Fish Length is:\",classification_report(Y1_test,Y1_predict))\n",
        "print(\"The confusion matrix for Fish Length is:\",confusion_matrix(Y1_test,Y1_predict))\n",
        "data=model.fit(X_train,Y2_train)\n",
        "Y2_predict=data.predict(X_test)\n",
        "print(\"The classification report for Fish Weight is:\",classification_report(Y2_test,Y2_predict))\n",
        "print(\"The confusion matrix for Fish Weight is:\",confusion_matrix(Y2_test,Y2_predict))"
      ],
      "metadata": {
        "colab": {
          "base_uri": "https://localhost:8080/"
        },
        "id": "Zr2OMc-TFMtl",
        "outputId": "38b94532-5467-498b-90ad-2750adbc0103"
      },
      "execution_count": 22,
      "outputs": [
        {
          "output_type": "stream",
          "name": "stdout",
          "text": [
            "The classification report for Fish Length is:               precision    recall  f1-score   support\n",
            "\n",
            "       14.12       0.00      0.00      0.00         8\n",
            " 15.37142856       0.18      0.16      0.17        57\n",
            "  15.6842857       0.08      0.05      0.06        58\n",
            "       32.46       0.74      0.72      0.73        32\n",
            "    33.04286       1.00      1.00      1.00         1\n",
            "    41.95786       0.83      0.86      0.84       288\n",
            "    42.96929       0.38      0.48      0.42        71\n",
            "       44.65       1.00      0.99      1.00       118\n",
            "\n",
            "    accuracy                           0.69       633\n",
            "   macro avg       0.53      0.53      0.53       633\n",
            "weighted avg       0.67      0.69      0.68       633\n",
            "\n",
            "The confusion matrix for Fish Length is: [[  0   0   0   8   0   0   0   0]\n",
            " [  0   9   0   0   0  48   0   0]\n",
            " [  0   0   3   0   0   1  54   0]\n",
            " [  9   0   0  23   0   0   0   0]\n",
            " [  0   0   0   0   1   0   0   0]\n",
            " [  0  41   0   0   0 247   0   0]\n",
            " [  0   0  36   0   0   1  34   0]\n",
            " [  0   0   0   0   0   0   1 117]]\n",
            "The classification report for Fish Weight is:               precision    recall  f1-score   support\n",
            "\n",
            "       281.2       0.74      0.72      0.73        32\n",
            "    302.9714       1.00      1.00      1.00         1\n",
            "        33.8       0.00      0.00      0.00         8\n",
            " 39.34285716       0.18      0.16      0.17        57\n",
            " 40.92857145       0.08      0.05      0.06        58\n",
            "    625.8857       0.83      0.86      0.84       288\n",
            "    644.3571       0.38      0.48      0.42        71\n",
            "       701.0       1.00      0.99      1.00       118\n",
            "\n",
            "    accuracy                           0.69       633\n",
            "   macro avg       0.53      0.53      0.53       633\n",
            "weighted avg       0.67      0.69      0.68       633\n",
            "\n",
            "The confusion matrix for Fish Weight is: [[ 23   0   9   0   0   0   0   0]\n",
            " [  0   1   0   0   0   0   0   0]\n",
            " [  8   0   0   0   0   0   0   0]\n",
            " [  0   0   0   9   0  48   0   0]\n",
            " [  0   0   0   0   3   1  54   0]\n",
            " [  0   0   0  41   0 247   0   0]\n",
            " [  0   0   0   0  36   1  34   0]\n",
            " [  0   0   0   0   0   0   1 117]]\n"
          ]
        }
      ]
    },
    {
      "cell_type": "markdown",
      "source": [
        "9) Naive Bayes Classifier"
      ],
      "metadata": {
        "id": "aC6jaqycFVhw"
      }
    },
    {
      "cell_type": "code",
      "source": [
        "model=MultinomialNB()\n",
        "data=model.fit(X_train,Y1_train)\n",
        "Y1_predict=data.predict(X_test)\n",
        "print(\"The classification report for Fish Length is:\",classification_report(Y1_test,Y1_predict))\n",
        "print(\"The confusion matrix for Fish Length is:\",confusion_matrix(Y1_test,Y1_predict))\n",
        "data=model.fit(X_train,Y2_train)\n",
        "Y2_predict=data.predict(X_test)\n",
        "print(\"The classification report for Fish Weight is:\",classification_report(Y2_test,Y2_predict))\n",
        "print(\"The confusion matrix for Fish Weight is:\",confusion_matrix(Y2_test,Y2_predict))"
      ],
      "metadata": {
        "colab": {
          "base_uri": "https://localhost:8080/"
        },
        "id": "mOtu0jA3FTAW",
        "outputId": "f0e35036-c3a9-450b-a0ad-239a1671b4cd"
      },
      "execution_count": 23,
      "outputs": [
        {
          "output_type": "stream",
          "name": "stdout",
          "text": [
            "The classification report for Fish Length is:               precision    recall  f1-score   support\n",
            "\n",
            "       14.12       0.00      0.00      0.00         8\n",
            " 15.37142856       0.00      0.00      0.00        57\n",
            "  15.6842857       0.00      0.00      0.00        58\n",
            "       32.46       0.00      0.00      0.00        32\n",
            "    33.04286       0.00      0.00      0.00         1\n",
            "    41.95786       0.45      1.00      0.63       288\n",
            "    42.96929       0.00      0.00      0.00        71\n",
            "       44.65       0.00      0.00      0.00       118\n",
            "\n",
            "    accuracy                           0.45       633\n",
            "   macro avg       0.06      0.12      0.08       633\n",
            "weighted avg       0.21      0.45      0.28       633\n",
            "\n",
            "The confusion matrix for Fish Length is: [[  0   0   0   0   0   8   0   0]\n",
            " [  0   0   0   0   0  57   0   0]\n",
            " [  0   0   0   0   0  58   0   0]\n",
            " [  0   0   0   0   0  32   0   0]\n",
            " [  0   0   0   0   0   1   0   0]\n",
            " [  0   0   0   0   0 288   0   0]\n",
            " [  0   0   0   0   0  71   0   0]\n",
            " [  0   0   0   0   0 118   0   0]]\n",
            "The classification report for Fish Weight is:               precision    recall  f1-score   support\n",
            "\n",
            "       281.2       0.00      0.00      0.00        32\n",
            "    302.9714       0.00      0.00      0.00         1\n",
            "        33.8       0.00      0.00      0.00         8\n",
            " 39.34285716       0.00      0.00      0.00        57\n",
            " 40.92857145       0.00      0.00      0.00        58\n",
            "    625.8857       0.45      1.00      0.63       288\n",
            "    644.3571       0.00      0.00      0.00        71\n",
            "       701.0       0.00      0.00      0.00       118\n",
            "\n",
            "    accuracy                           0.45       633\n",
            "   macro avg       0.06      0.12      0.08       633\n",
            "weighted avg       0.21      0.45      0.28       633\n",
            "\n",
            "The confusion matrix for Fish Weight is: [[  0   0   0   0   0  32   0   0]\n",
            " [  0   0   0   0   0   1   0   0]\n",
            " [  0   0   0   0   0   8   0   0]\n",
            " [  0   0   0   0   0  57   0   0]\n",
            " [  0   0   0   0   0  58   0   0]\n",
            " [  0   0   0   0   0 288   0   0]\n",
            " [  0   0   0   0   0  71   0   0]\n",
            " [  0   0   0   0   0 118   0   0]]\n"
          ]
        },
        {
          "output_type": "stream",
          "name": "stderr",
          "text": [
            "/usr/local/lib/python3.8/dist-packages/sklearn/metrics/_classification.py:1318: UndefinedMetricWarning: Precision and F-score are ill-defined and being set to 0.0 in labels with no predicted samples. Use `zero_division` parameter to control this behavior.\n",
            "  _warn_prf(average, modifier, msg_start, len(result))\n",
            "/usr/local/lib/python3.8/dist-packages/sklearn/metrics/_classification.py:1318: UndefinedMetricWarning: Precision and F-score are ill-defined and being set to 0.0 in labels with no predicted samples. Use `zero_division` parameter to control this behavior.\n",
            "  _warn_prf(average, modifier, msg_start, len(result))\n",
            "/usr/local/lib/python3.8/dist-packages/sklearn/metrics/_classification.py:1318: UndefinedMetricWarning: Precision and F-score are ill-defined and being set to 0.0 in labels with no predicted samples. Use `zero_division` parameter to control this behavior.\n",
            "  _warn_prf(average, modifier, msg_start, len(result))\n",
            "/usr/local/lib/python3.8/dist-packages/sklearn/metrics/_classification.py:1318: UndefinedMetricWarning: Precision and F-score are ill-defined and being set to 0.0 in labels with no predicted samples. Use `zero_division` parameter to control this behavior.\n",
            "  _warn_prf(average, modifier, msg_start, len(result))\n",
            "/usr/local/lib/python3.8/dist-packages/sklearn/metrics/_classification.py:1318: UndefinedMetricWarning: Precision and F-score are ill-defined and being set to 0.0 in labels with no predicted samples. Use `zero_division` parameter to control this behavior.\n",
            "  _warn_prf(average, modifier, msg_start, len(result))\n",
            "/usr/local/lib/python3.8/dist-packages/sklearn/metrics/_classification.py:1318: UndefinedMetricWarning: Precision and F-score are ill-defined and being set to 0.0 in labels with no predicted samples. Use `zero_division` parameter to control this behavior.\n",
            "  _warn_prf(average, modifier, msg_start, len(result))\n"
          ]
        }
      ]
    }
  ]
}