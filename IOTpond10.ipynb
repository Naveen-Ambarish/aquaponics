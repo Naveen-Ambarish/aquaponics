{
  "nbformat": 4,
  "nbformat_minor": 0,
  "metadata": {
    "colab": {
      "provenance": []
    },
    "kernelspec": {
      "name": "python3",
      "display_name": "Python 3"
    },
    "language_info": {
      "name": "python"
    }
  },
  "cells": [
    {
      "cell_type": "markdown",
      "source": [
        "As the initial step, import the required libraries that we require to perform the tasks like preprocessing, training our model and predicting the accuracy score of our model"
      ],
      "metadata": {
        "id": "W9Bhl9p5CvzL"
      }
    },
    {
      "cell_type": "code",
      "execution_count": 1,
      "metadata": {
        "id": "uts8VpuQCh-9"
      },
      "outputs": [],
      "source": [
        "import pandas as pd\n",
        "import numpy as np\n",
        "import matplotlib.pyplot as plt\n",
        "import seaborn as sns\n",
        "from sklearn.model_selection import train_test_split\n",
        "from sklearn.discriminant_analysis import LinearDiscriminantAnalysis\n",
        "from sklearn.linear_model import LogisticRegression\n",
        "from sklearn.tree import DecisionTreeClassifier\n",
        "from sklearn.neighbors import KNeighborsClassifier\n",
        "from sklearn.svm import SVC\n",
        "from sklearn.ensemble import AdaBoostClassifier\n",
        "from sklearn.ensemble import ExtraTreesClassifier\n",
        "from sklearn.ensemble import GradientBoostingClassifier\n",
        "from sklearn.naive_bayes import MultinomialNB\n",
        "from sklearn.ensemble import RandomForestClassifier\n",
        "from sklearn.preprocessing import MinMaxScaler\n",
        "from sklearn.metrics import accuracy_score,confusion_matrix,classification_report,precision_score,recall_score,f1_score"
      ]
    },
    {
      "cell_type": "markdown",
      "source": [
        "Import the dataset to the simulation software and to view the first 5 rows of our dataset we used head function in pandas dataframe"
      ],
      "metadata": {
        "id": "2sE_l-eQC6kH"
      }
    },
    {
      "cell_type": "code",
      "source": [
        "df=pd.read_csv(\"/content/drive/MyDrive/aquaponics/IoTPond10.csv\")\n",
        "df.head()"
      ],
      "metadata": {
        "colab": {
          "base_uri": "https://localhost:8080/",
          "height": 206
        },
        "id": "UtzhQ40BC0gQ",
        "outputId": "e7432035-f2a6-4bda-a569-5ae4e335feb1"
      },
      "execution_count": 2,
      "outputs": [
        {
          "output_type": "execute_result",
          "data": {
            "text/plain": [
              "                created_at  entry_id  TEMPERATURE  TURBIDITY  DISOLVED OXYGEN  \\\n",
              "0  2021-06-25 15:48:59 CET         1    -127.0000        100              0.0   \n",
              "1  2021-06-25 15:49:19 CET         2    -127.0000        100              0.0   \n",
              "2  2021-06-25 15:50:16 CET         3      27.1250        100              0.0   \n",
              "3  2021-06-25 15:51:50 CET         4      27.3125        100              0.0   \n",
              "4  2021-06-25 15:52:10 CET         5      27.2500        100              0.0   \n",
              "\n",
              "         pH  AMMONIA  NITRATE  Population  Length  Weight  \n",
              "0  15.45166      0.0        0          50   13.45    27.6  \n",
              "1  15.45166      0.0        0          50   13.45    27.6  \n",
              "2   6.01411      0.0      139          50   13.45    27.6  \n",
              "3   6.03227      0.0      131          50   13.45    27.6  \n",
              "4   6.03681      0.0      133          50   13.45    27.6  "
            ],
            "text/html": [
              "\n",
              "  <div id=\"df-2c846ef2-0357-44c5-aafc-deae2a9c718d\">\n",
              "    <div class=\"colab-df-container\">\n",
              "      <div>\n",
              "<style scoped>\n",
              "    .dataframe tbody tr th:only-of-type {\n",
              "        vertical-align: middle;\n",
              "    }\n",
              "\n",
              "    .dataframe tbody tr th {\n",
              "        vertical-align: top;\n",
              "    }\n",
              "\n",
              "    .dataframe thead th {\n",
              "        text-align: right;\n",
              "    }\n",
              "</style>\n",
              "<table border=\"1\" class=\"dataframe\">\n",
              "  <thead>\n",
              "    <tr style=\"text-align: right;\">\n",
              "      <th></th>\n",
              "      <th>created_at</th>\n",
              "      <th>entry_id</th>\n",
              "      <th>TEMPERATURE</th>\n",
              "      <th>TURBIDITY</th>\n",
              "      <th>DISOLVED OXYGEN</th>\n",
              "      <th>pH</th>\n",
              "      <th>AMMONIA</th>\n",
              "      <th>NITRATE</th>\n",
              "      <th>Population</th>\n",
              "      <th>Length</th>\n",
              "      <th>Weight</th>\n",
              "    </tr>\n",
              "  </thead>\n",
              "  <tbody>\n",
              "    <tr>\n",
              "      <th>0</th>\n",
              "      <td>2021-06-25 15:48:59 CET</td>\n",
              "      <td>1</td>\n",
              "      <td>-127.0000</td>\n",
              "      <td>100</td>\n",
              "      <td>0.0</td>\n",
              "      <td>15.45166</td>\n",
              "      <td>0.0</td>\n",
              "      <td>0</td>\n",
              "      <td>50</td>\n",
              "      <td>13.45</td>\n",
              "      <td>27.6</td>\n",
              "    </tr>\n",
              "    <tr>\n",
              "      <th>1</th>\n",
              "      <td>2021-06-25 15:49:19 CET</td>\n",
              "      <td>2</td>\n",
              "      <td>-127.0000</td>\n",
              "      <td>100</td>\n",
              "      <td>0.0</td>\n",
              "      <td>15.45166</td>\n",
              "      <td>0.0</td>\n",
              "      <td>0</td>\n",
              "      <td>50</td>\n",
              "      <td>13.45</td>\n",
              "      <td>27.6</td>\n",
              "    </tr>\n",
              "    <tr>\n",
              "      <th>2</th>\n",
              "      <td>2021-06-25 15:50:16 CET</td>\n",
              "      <td>3</td>\n",
              "      <td>27.1250</td>\n",
              "      <td>100</td>\n",
              "      <td>0.0</td>\n",
              "      <td>6.01411</td>\n",
              "      <td>0.0</td>\n",
              "      <td>139</td>\n",
              "      <td>50</td>\n",
              "      <td>13.45</td>\n",
              "      <td>27.6</td>\n",
              "    </tr>\n",
              "    <tr>\n",
              "      <th>3</th>\n",
              "      <td>2021-06-25 15:51:50 CET</td>\n",
              "      <td>4</td>\n",
              "      <td>27.3125</td>\n",
              "      <td>100</td>\n",
              "      <td>0.0</td>\n",
              "      <td>6.03227</td>\n",
              "      <td>0.0</td>\n",
              "      <td>131</td>\n",
              "      <td>50</td>\n",
              "      <td>13.45</td>\n",
              "      <td>27.6</td>\n",
              "    </tr>\n",
              "    <tr>\n",
              "      <th>4</th>\n",
              "      <td>2021-06-25 15:52:10 CET</td>\n",
              "      <td>5</td>\n",
              "      <td>27.2500</td>\n",
              "      <td>100</td>\n",
              "      <td>0.0</td>\n",
              "      <td>6.03681</td>\n",
              "      <td>0.0</td>\n",
              "      <td>133</td>\n",
              "      <td>50</td>\n",
              "      <td>13.45</td>\n",
              "      <td>27.6</td>\n",
              "    </tr>\n",
              "  </tbody>\n",
              "</table>\n",
              "</div>\n",
              "      <button class=\"colab-df-convert\" onclick=\"convertToInteractive('df-2c846ef2-0357-44c5-aafc-deae2a9c718d')\"\n",
              "              title=\"Convert this dataframe to an interactive table.\"\n",
              "              style=\"display:none;\">\n",
              "        \n",
              "  <svg xmlns=\"http://www.w3.org/2000/svg\" height=\"24px\"viewBox=\"0 0 24 24\"\n",
              "       width=\"24px\">\n",
              "    <path d=\"M0 0h24v24H0V0z\" fill=\"none\"/>\n",
              "    <path d=\"M18.56 5.44l.94 2.06.94-2.06 2.06-.94-2.06-.94-.94-2.06-.94 2.06-2.06.94zm-11 1L8.5 8.5l.94-2.06 2.06-.94-2.06-.94L8.5 2.5l-.94 2.06-2.06.94zm10 10l.94 2.06.94-2.06 2.06-.94-2.06-.94-.94-2.06-.94 2.06-2.06.94z\"/><path d=\"M17.41 7.96l-1.37-1.37c-.4-.4-.92-.59-1.43-.59-.52 0-1.04.2-1.43.59L10.3 9.45l-7.72 7.72c-.78.78-.78 2.05 0 2.83L4 21.41c.39.39.9.59 1.41.59.51 0 1.02-.2 1.41-.59l7.78-7.78 2.81-2.81c.8-.78.8-2.07 0-2.86zM5.41 20L4 18.59l7.72-7.72 1.47 1.35L5.41 20z\"/>\n",
              "  </svg>\n",
              "      </button>\n",
              "      \n",
              "  <style>\n",
              "    .colab-df-container {\n",
              "      display:flex;\n",
              "      flex-wrap:wrap;\n",
              "      gap: 12px;\n",
              "    }\n",
              "\n",
              "    .colab-df-convert {\n",
              "      background-color: #E8F0FE;\n",
              "      border: none;\n",
              "      border-radius: 50%;\n",
              "      cursor: pointer;\n",
              "      display: none;\n",
              "      fill: #1967D2;\n",
              "      height: 32px;\n",
              "      padding: 0 0 0 0;\n",
              "      width: 32px;\n",
              "    }\n",
              "\n",
              "    .colab-df-convert:hover {\n",
              "      background-color: #E2EBFA;\n",
              "      box-shadow: 0px 1px 2px rgba(60, 64, 67, 0.3), 0px 1px 3px 1px rgba(60, 64, 67, 0.15);\n",
              "      fill: #174EA6;\n",
              "    }\n",
              "\n",
              "    [theme=dark] .colab-df-convert {\n",
              "      background-color: #3B4455;\n",
              "      fill: #D2E3FC;\n",
              "    }\n",
              "\n",
              "    [theme=dark] .colab-df-convert:hover {\n",
              "      background-color: #434B5C;\n",
              "      box-shadow: 0px 1px 3px 1px rgba(0, 0, 0, 0.15);\n",
              "      filter: drop-shadow(0px 1px 2px rgba(0, 0, 0, 0.3));\n",
              "      fill: #FFFFFF;\n",
              "    }\n",
              "  </style>\n",
              "\n",
              "      <script>\n",
              "        const buttonEl =\n",
              "          document.querySelector('#df-2c846ef2-0357-44c5-aafc-deae2a9c718d button.colab-df-convert');\n",
              "        buttonEl.style.display =\n",
              "          google.colab.kernel.accessAllowed ? 'block' : 'none';\n",
              "\n",
              "        async function convertToInteractive(key) {\n",
              "          const element = document.querySelector('#df-2c846ef2-0357-44c5-aafc-deae2a9c718d');\n",
              "          const dataTable =\n",
              "            await google.colab.kernel.invokeFunction('convertToInteractive',\n",
              "                                                     [key], {});\n",
              "          if (!dataTable) return;\n",
              "\n",
              "          const docLinkHtml = 'Like what you see? Visit the ' +\n",
              "            '<a target=\"_blank\" href=https://colab.research.google.com/notebooks/data_table.ipynb>data table notebook</a>'\n",
              "            + ' to learn more about interactive tables.';\n",
              "          element.innerHTML = '';\n",
              "          dataTable['output_type'] = 'display_data';\n",
              "          await google.colab.output.renderOutput(dataTable, element);\n",
              "          const docLink = document.createElement('div');\n",
              "          docLink.innerHTML = docLinkHtml;\n",
              "          element.appendChild(docLink);\n",
              "        }\n",
              "      </script>\n",
              "    </div>\n",
              "  </div>\n",
              "  "
            ]
          },
          "metadata": {},
          "execution_count": 2
        }
      ]
    },
    {
      "cell_type": "code",
      "source": [
        "df.describe()"
      ],
      "metadata": {
        "colab": {
          "base_uri": "https://localhost:8080/",
          "height": 300
        },
        "id": "uDjrfshQC8KZ",
        "outputId": "27fb1432-fa69-4624-abc8-171a383fdafc"
      },
      "execution_count": 3,
      "outputs": [
        {
          "output_type": "execute_result",
          "data": {
            "text/plain": [
              "         entry_id  TEMPERATURE   TURBIDITY  DISOLVED OXYGEN          pH  \\\n",
              "count  620.000000   620.000000  620.000000       620.000000  620.000000   \n",
              "mean   310.500000    22.163508   40.361290         2.357571    5.657324   \n",
              "std    179.122863    27.271589   58.229381         4.398998    2.095430   \n",
              "min      1.000000  -127.000000  -97.000000         0.000000   -1.975350   \n",
              "25%    155.750000    26.687500  -13.000000         0.000000    6.018650   \n",
              "50%    310.500000    27.125000   -9.000000         0.000000    6.041350   \n",
              "75%    465.250000    27.312500  100.000000         2.345000    6.163910   \n",
              "max    620.000000    31.687500  100.000000        32.411000   15.451660   \n",
              "\n",
              "         AMMONIA      NITRATE  Population      Length      Weight  \n",
              "count  620.00000   620.000000       620.0  620.000000  620.000000  \n",
              "mean         inf   311.558065        50.0   27.210543  282.574563  \n",
              "std          NaN   391.184946         0.0   13.046585  281.105905  \n",
              "min      0.00000     0.000000        50.0   13.450000   27.600000  \n",
              "25%      0.00000   114.000000        50.0   15.571429   45.921394  \n",
              "50%      0.00001   193.000000        50.0   24.107143  158.532117  \n",
              "75%      0.00522   229.000000        50.0   44.549290  689.142900  \n",
              "max          inf  2473.000000        50.0   44.549290  689.142900  "
            ],
            "text/html": [
              "\n",
              "  <div id=\"df-a737537b-a2e5-4e04-b911-fe0ecff31f88\">\n",
              "    <div class=\"colab-df-container\">\n",
              "      <div>\n",
              "<style scoped>\n",
              "    .dataframe tbody tr th:only-of-type {\n",
              "        vertical-align: middle;\n",
              "    }\n",
              "\n",
              "    .dataframe tbody tr th {\n",
              "        vertical-align: top;\n",
              "    }\n",
              "\n",
              "    .dataframe thead th {\n",
              "        text-align: right;\n",
              "    }\n",
              "</style>\n",
              "<table border=\"1\" class=\"dataframe\">\n",
              "  <thead>\n",
              "    <tr style=\"text-align: right;\">\n",
              "      <th></th>\n",
              "      <th>entry_id</th>\n",
              "      <th>TEMPERATURE</th>\n",
              "      <th>TURBIDITY</th>\n",
              "      <th>DISOLVED OXYGEN</th>\n",
              "      <th>pH</th>\n",
              "      <th>AMMONIA</th>\n",
              "      <th>NITRATE</th>\n",
              "      <th>Population</th>\n",
              "      <th>Length</th>\n",
              "      <th>Weight</th>\n",
              "    </tr>\n",
              "  </thead>\n",
              "  <tbody>\n",
              "    <tr>\n",
              "      <th>count</th>\n",
              "      <td>620.000000</td>\n",
              "      <td>620.000000</td>\n",
              "      <td>620.000000</td>\n",
              "      <td>620.000000</td>\n",
              "      <td>620.000000</td>\n",
              "      <td>620.00000</td>\n",
              "      <td>620.000000</td>\n",
              "      <td>620.0</td>\n",
              "      <td>620.000000</td>\n",
              "      <td>620.000000</td>\n",
              "    </tr>\n",
              "    <tr>\n",
              "      <th>mean</th>\n",
              "      <td>310.500000</td>\n",
              "      <td>22.163508</td>\n",
              "      <td>40.361290</td>\n",
              "      <td>2.357571</td>\n",
              "      <td>5.657324</td>\n",
              "      <td>inf</td>\n",
              "      <td>311.558065</td>\n",
              "      <td>50.0</td>\n",
              "      <td>27.210543</td>\n",
              "      <td>282.574563</td>\n",
              "    </tr>\n",
              "    <tr>\n",
              "      <th>std</th>\n",
              "      <td>179.122863</td>\n",
              "      <td>27.271589</td>\n",
              "      <td>58.229381</td>\n",
              "      <td>4.398998</td>\n",
              "      <td>2.095430</td>\n",
              "      <td>NaN</td>\n",
              "      <td>391.184946</td>\n",
              "      <td>0.0</td>\n",
              "      <td>13.046585</td>\n",
              "      <td>281.105905</td>\n",
              "    </tr>\n",
              "    <tr>\n",
              "      <th>min</th>\n",
              "      <td>1.000000</td>\n",
              "      <td>-127.000000</td>\n",
              "      <td>-97.000000</td>\n",
              "      <td>0.000000</td>\n",
              "      <td>-1.975350</td>\n",
              "      <td>0.00000</td>\n",
              "      <td>0.000000</td>\n",
              "      <td>50.0</td>\n",
              "      <td>13.450000</td>\n",
              "      <td>27.600000</td>\n",
              "    </tr>\n",
              "    <tr>\n",
              "      <th>25%</th>\n",
              "      <td>155.750000</td>\n",
              "      <td>26.687500</td>\n",
              "      <td>-13.000000</td>\n",
              "      <td>0.000000</td>\n",
              "      <td>6.018650</td>\n",
              "      <td>0.00000</td>\n",
              "      <td>114.000000</td>\n",
              "      <td>50.0</td>\n",
              "      <td>15.571429</td>\n",
              "      <td>45.921394</td>\n",
              "    </tr>\n",
              "    <tr>\n",
              "      <th>50%</th>\n",
              "      <td>310.500000</td>\n",
              "      <td>27.125000</td>\n",
              "      <td>-9.000000</td>\n",
              "      <td>0.000000</td>\n",
              "      <td>6.041350</td>\n",
              "      <td>0.00001</td>\n",
              "      <td>193.000000</td>\n",
              "      <td>50.0</td>\n",
              "      <td>24.107143</td>\n",
              "      <td>158.532117</td>\n",
              "    </tr>\n",
              "    <tr>\n",
              "      <th>75%</th>\n",
              "      <td>465.250000</td>\n",
              "      <td>27.312500</td>\n",
              "      <td>100.000000</td>\n",
              "      <td>2.345000</td>\n",
              "      <td>6.163910</td>\n",
              "      <td>0.00522</td>\n",
              "      <td>229.000000</td>\n",
              "      <td>50.0</td>\n",
              "      <td>44.549290</td>\n",
              "      <td>689.142900</td>\n",
              "    </tr>\n",
              "    <tr>\n",
              "      <th>max</th>\n",
              "      <td>620.000000</td>\n",
              "      <td>31.687500</td>\n",
              "      <td>100.000000</td>\n",
              "      <td>32.411000</td>\n",
              "      <td>15.451660</td>\n",
              "      <td>inf</td>\n",
              "      <td>2473.000000</td>\n",
              "      <td>50.0</td>\n",
              "      <td>44.549290</td>\n",
              "      <td>689.142900</td>\n",
              "    </tr>\n",
              "  </tbody>\n",
              "</table>\n",
              "</div>\n",
              "      <button class=\"colab-df-convert\" onclick=\"convertToInteractive('df-a737537b-a2e5-4e04-b911-fe0ecff31f88')\"\n",
              "              title=\"Convert this dataframe to an interactive table.\"\n",
              "              style=\"display:none;\">\n",
              "        \n",
              "  <svg xmlns=\"http://www.w3.org/2000/svg\" height=\"24px\"viewBox=\"0 0 24 24\"\n",
              "       width=\"24px\">\n",
              "    <path d=\"M0 0h24v24H0V0z\" fill=\"none\"/>\n",
              "    <path d=\"M18.56 5.44l.94 2.06.94-2.06 2.06-.94-2.06-.94-.94-2.06-.94 2.06-2.06.94zm-11 1L8.5 8.5l.94-2.06 2.06-.94-2.06-.94L8.5 2.5l-.94 2.06-2.06.94zm10 10l.94 2.06.94-2.06 2.06-.94-2.06-.94-.94-2.06-.94 2.06-2.06.94z\"/><path d=\"M17.41 7.96l-1.37-1.37c-.4-.4-.92-.59-1.43-.59-.52 0-1.04.2-1.43.59L10.3 9.45l-7.72 7.72c-.78.78-.78 2.05 0 2.83L4 21.41c.39.39.9.59 1.41.59.51 0 1.02-.2 1.41-.59l7.78-7.78 2.81-2.81c.8-.78.8-2.07 0-2.86zM5.41 20L4 18.59l7.72-7.72 1.47 1.35L5.41 20z\"/>\n",
              "  </svg>\n",
              "      </button>\n",
              "      \n",
              "  <style>\n",
              "    .colab-df-container {\n",
              "      display:flex;\n",
              "      flex-wrap:wrap;\n",
              "      gap: 12px;\n",
              "    }\n",
              "\n",
              "    .colab-df-convert {\n",
              "      background-color: #E8F0FE;\n",
              "      border: none;\n",
              "      border-radius: 50%;\n",
              "      cursor: pointer;\n",
              "      display: none;\n",
              "      fill: #1967D2;\n",
              "      height: 32px;\n",
              "      padding: 0 0 0 0;\n",
              "      width: 32px;\n",
              "    }\n",
              "\n",
              "    .colab-df-convert:hover {\n",
              "      background-color: #E2EBFA;\n",
              "      box-shadow: 0px 1px 2px rgba(60, 64, 67, 0.3), 0px 1px 3px 1px rgba(60, 64, 67, 0.15);\n",
              "      fill: #174EA6;\n",
              "    }\n",
              "\n",
              "    [theme=dark] .colab-df-convert {\n",
              "      background-color: #3B4455;\n",
              "      fill: #D2E3FC;\n",
              "    }\n",
              "\n",
              "    [theme=dark] .colab-df-convert:hover {\n",
              "      background-color: #434B5C;\n",
              "      box-shadow: 0px 1px 3px 1px rgba(0, 0, 0, 0.15);\n",
              "      filter: drop-shadow(0px 1px 2px rgba(0, 0, 0, 0.3));\n",
              "      fill: #FFFFFF;\n",
              "    }\n",
              "  </style>\n",
              "\n",
              "      <script>\n",
              "        const buttonEl =\n",
              "          document.querySelector('#df-a737537b-a2e5-4e04-b911-fe0ecff31f88 button.colab-df-convert');\n",
              "        buttonEl.style.display =\n",
              "          google.colab.kernel.accessAllowed ? 'block' : 'none';\n",
              "\n",
              "        async function convertToInteractive(key) {\n",
              "          const element = document.querySelector('#df-a737537b-a2e5-4e04-b911-fe0ecff31f88');\n",
              "          const dataTable =\n",
              "            await google.colab.kernel.invokeFunction('convertToInteractive',\n",
              "                                                     [key], {});\n",
              "          if (!dataTable) return;\n",
              "\n",
              "          const docLinkHtml = 'Like what you see? Visit the ' +\n",
              "            '<a target=\"_blank\" href=https://colab.research.google.com/notebooks/data_table.ipynb>data table notebook</a>'\n",
              "            + ' to learn more about interactive tables.';\n",
              "          element.innerHTML = '';\n",
              "          dataTable['output_type'] = 'display_data';\n",
              "          await google.colab.output.renderOutput(dataTable, element);\n",
              "          const docLink = document.createElement('div');\n",
              "          docLink.innerHTML = docLinkHtml;\n",
              "          element.appendChild(docLink);\n",
              "        }\n",
              "      </script>\n",
              "    </div>\n",
              "  </div>\n",
              "  "
            ]
          },
          "metadata": {},
          "execution_count": 3
        }
      ]
    },
    {
      "cell_type": "markdown",
      "source": [
        "To check for the null values present in our dataset we use isnull() function\n"
      ],
      "metadata": {
        "id": "-XrQUTs8DFC1"
      }
    },
    {
      "cell_type": "code",
      "source": [
        "df.isnull().sum()"
      ],
      "metadata": {
        "colab": {
          "base_uri": "https://localhost:8080/"
        },
        "id": "n7xPz-E8DAre",
        "outputId": "47f40252-bb45-48bc-b226-ad28acc6acc5"
      },
      "execution_count": 4,
      "outputs": [
        {
          "output_type": "execute_result",
          "data": {
            "text/plain": [
              "created_at         0\n",
              "entry_id           0\n",
              "TEMPERATURE        0\n",
              "TURBIDITY          0\n",
              "DISOLVED OXYGEN    0\n",
              "pH                 0\n",
              "AMMONIA            0\n",
              "NITRATE            0\n",
              "Population         0\n",
              "Length             0\n",
              "Weight             0\n",
              "dtype: int64"
            ]
          },
          "metadata": {},
          "execution_count": 4
        }
      ]
    },
    {
      "cell_type": "markdown",
      "source": [
        "Checking if the numbers are within limits are having infinite"
      ],
      "metadata": {
        "id": "z987y-9PDPcw"
      }
    },
    {
      "cell_type": "code",
      "source": [
        "df.isin([np.inf,-np.inf]).sum()"
      ],
      "metadata": {
        "colab": {
          "base_uri": "https://localhost:8080/"
        },
        "id": "7hLWooWXDUwU",
        "outputId": "0a070a58-2c59-42d4-9a5f-c010d3213010"
      },
      "execution_count": 5,
      "outputs": [
        {
          "output_type": "execute_result",
          "data": {
            "text/plain": [
              "created_at         0\n",
              "entry_id           0\n",
              "TEMPERATURE        0\n",
              "TURBIDITY          0\n",
              "DISOLVED OXYGEN    0\n",
              "pH                 0\n",
              "AMMONIA            9\n",
              "NITRATE            0\n",
              "Population         0\n",
              "Length             0\n",
              "Weight             0\n",
              "dtype: int64"
            ]
          },
          "metadata": {},
          "execution_count": 5
        }
      ]
    },
    {
      "cell_type": "markdown",
      "source": [
        "Drop all those values that are infinite"
      ],
      "metadata": {
        "id": "WGgvaiom13cg"
      }
    },
    {
      "cell_type": "code",
      "source": [
        "df.replace([np.inf, -np.inf], np.nan, inplace=True)\n",
        "df.dropna(axis=0,inplace=True)"
      ],
      "metadata": {
        "id": "CKhaLDVH1y35"
      },
      "execution_count": 6,
      "outputs": []
    },
    {
      "cell_type": "markdown",
      "source": [
        "Drop all the unnecessary columns from the dataset"
      ],
      "metadata": {
        "id": "jlsv0OvUDlLy"
      }
    },
    {
      "cell_type": "code",
      "source": [
        "df=df.drop(columns='entry_id')\n",
        "df=df.drop(columns='Population')\n",
        "df=df.drop(columns='created_at')"
      ],
      "metadata": {
        "id": "Q4Oy05QIDgnX"
      },
      "execution_count": 7,
      "outputs": []
    },
    {
      "cell_type": "markdown",
      "source": [
        "Check the datatype of each columns in our dataset"
      ],
      "metadata": {
        "id": "aA14fn9FDqct"
      }
    },
    {
      "cell_type": "code",
      "source": [
        "df.info()"
      ],
      "metadata": {
        "colab": {
          "base_uri": "https://localhost:8080/"
        },
        "id": "oBQyX6qHDnwh",
        "outputId": "f2471544-f2cf-4116-b32e-146a9c54e3e8"
      },
      "execution_count": 8,
      "outputs": [
        {
          "output_type": "stream",
          "name": "stdout",
          "text": [
            "<class 'pandas.core.frame.DataFrame'>\n",
            "Int64Index: 611 entries, 0 to 619\n",
            "Data columns (total 8 columns):\n",
            " #   Column           Non-Null Count  Dtype  \n",
            "---  ------           --------------  -----  \n",
            " 0   TEMPERATURE      611 non-null    float64\n",
            " 1   TURBIDITY        611 non-null    int64  \n",
            " 2   DISOLVED OXYGEN  611 non-null    float64\n",
            " 3   pH               611 non-null    float64\n",
            " 4   AMMONIA          611 non-null    float64\n",
            " 5   NITRATE          611 non-null    int64  \n",
            " 6   Length           611 non-null    float64\n",
            " 7   Weight           611 non-null    float64\n",
            "dtypes: float64(6), int64(2)\n",
            "memory usage: 43.0 KB\n"
          ]
        }
      ]
    },
    {
      "cell_type": "markdown",
      "source": [
        "We see that our classifications labels fish_length and fish_weight are in float variables and we need to convert them to string."
      ],
      "metadata": {
        "id": "CNexjVIhDwdj"
      }
    },
    {
      "cell_type": "code",
      "source": [
        "df=df.astype({\"Length\":'str',\"Weight\":'str'})"
      ],
      "metadata": {
        "id": "daz76ZYIDtwb"
      },
      "execution_count": 10,
      "outputs": []
    },
    {
      "cell_type": "markdown",
      "source": [
        "To find the corelation between the input variables"
      ],
      "metadata": {
        "id": "HrBd5tGKDzRd"
      }
    },
    {
      "cell_type": "code",
      "source": [
        "df.corr()"
      ],
      "metadata": {
        "colab": {
          "base_uri": "https://localhost:8080/",
          "height": 237
        },
        "id": "2klcWpS7D2VE",
        "outputId": "801ecc63-92df-42c5-e7a8-5b1e6aea0706"
      },
      "execution_count": 11,
      "outputs": [
        {
          "output_type": "execute_result",
          "data": {
            "text/plain": [
              "                 TEMPERATURE  TURBIDITY  DISOLVED OXYGEN        pH   AMMONIA  \\\n",
              "TEMPERATURE         1.000000   0.117809         0.087587 -0.038160  0.010224   \n",
              "TURBIDITY           0.117809   1.000000        -0.032924  0.347781  0.077227   \n",
              "DISOLVED OXYGEN     0.087587  -0.032924         1.000000 -0.225452 -0.014587   \n",
              "pH                 -0.038160   0.347781        -0.225452  1.000000  0.037715   \n",
              "AMMONIA             0.010224   0.077227        -0.014587  0.037715  1.000000   \n",
              "NITRATE             0.090179  -0.012663        -0.158552  0.164342  0.135740   \n",
              "\n",
              "                  NITRATE  \n",
              "TEMPERATURE      0.090179  \n",
              "TURBIDITY       -0.012663  \n",
              "DISOLVED OXYGEN -0.158552  \n",
              "pH               0.164342  \n",
              "AMMONIA          0.135740  \n",
              "NITRATE          1.000000  "
            ],
            "text/html": [
              "\n",
              "  <div id=\"df-8ee29add-1c4e-4517-bedd-c50f00b23dcb\">\n",
              "    <div class=\"colab-df-container\">\n",
              "      <div>\n",
              "<style scoped>\n",
              "    .dataframe tbody tr th:only-of-type {\n",
              "        vertical-align: middle;\n",
              "    }\n",
              "\n",
              "    .dataframe tbody tr th {\n",
              "        vertical-align: top;\n",
              "    }\n",
              "\n",
              "    .dataframe thead th {\n",
              "        text-align: right;\n",
              "    }\n",
              "</style>\n",
              "<table border=\"1\" class=\"dataframe\">\n",
              "  <thead>\n",
              "    <tr style=\"text-align: right;\">\n",
              "      <th></th>\n",
              "      <th>TEMPERATURE</th>\n",
              "      <th>TURBIDITY</th>\n",
              "      <th>DISOLVED OXYGEN</th>\n",
              "      <th>pH</th>\n",
              "      <th>AMMONIA</th>\n",
              "      <th>NITRATE</th>\n",
              "    </tr>\n",
              "  </thead>\n",
              "  <tbody>\n",
              "    <tr>\n",
              "      <th>TEMPERATURE</th>\n",
              "      <td>1.000000</td>\n",
              "      <td>0.117809</td>\n",
              "      <td>0.087587</td>\n",
              "      <td>-0.038160</td>\n",
              "      <td>0.010224</td>\n",
              "      <td>0.090179</td>\n",
              "    </tr>\n",
              "    <tr>\n",
              "      <th>TURBIDITY</th>\n",
              "      <td>0.117809</td>\n",
              "      <td>1.000000</td>\n",
              "      <td>-0.032924</td>\n",
              "      <td>0.347781</td>\n",
              "      <td>0.077227</td>\n",
              "      <td>-0.012663</td>\n",
              "    </tr>\n",
              "    <tr>\n",
              "      <th>DISOLVED OXYGEN</th>\n",
              "      <td>0.087587</td>\n",
              "      <td>-0.032924</td>\n",
              "      <td>1.000000</td>\n",
              "      <td>-0.225452</td>\n",
              "      <td>-0.014587</td>\n",
              "      <td>-0.158552</td>\n",
              "    </tr>\n",
              "    <tr>\n",
              "      <th>pH</th>\n",
              "      <td>-0.038160</td>\n",
              "      <td>0.347781</td>\n",
              "      <td>-0.225452</td>\n",
              "      <td>1.000000</td>\n",
              "      <td>0.037715</td>\n",
              "      <td>0.164342</td>\n",
              "    </tr>\n",
              "    <tr>\n",
              "      <th>AMMONIA</th>\n",
              "      <td>0.010224</td>\n",
              "      <td>0.077227</td>\n",
              "      <td>-0.014587</td>\n",
              "      <td>0.037715</td>\n",
              "      <td>1.000000</td>\n",
              "      <td>0.135740</td>\n",
              "    </tr>\n",
              "    <tr>\n",
              "      <th>NITRATE</th>\n",
              "      <td>0.090179</td>\n",
              "      <td>-0.012663</td>\n",
              "      <td>-0.158552</td>\n",
              "      <td>0.164342</td>\n",
              "      <td>0.135740</td>\n",
              "      <td>1.000000</td>\n",
              "    </tr>\n",
              "  </tbody>\n",
              "</table>\n",
              "</div>\n",
              "      <button class=\"colab-df-convert\" onclick=\"convertToInteractive('df-8ee29add-1c4e-4517-bedd-c50f00b23dcb')\"\n",
              "              title=\"Convert this dataframe to an interactive table.\"\n",
              "              style=\"display:none;\">\n",
              "        \n",
              "  <svg xmlns=\"http://www.w3.org/2000/svg\" height=\"24px\"viewBox=\"0 0 24 24\"\n",
              "       width=\"24px\">\n",
              "    <path d=\"M0 0h24v24H0V0z\" fill=\"none\"/>\n",
              "    <path d=\"M18.56 5.44l.94 2.06.94-2.06 2.06-.94-2.06-.94-.94-2.06-.94 2.06-2.06.94zm-11 1L8.5 8.5l.94-2.06 2.06-.94-2.06-.94L8.5 2.5l-.94 2.06-2.06.94zm10 10l.94 2.06.94-2.06 2.06-.94-2.06-.94-.94-2.06-.94 2.06-2.06.94z\"/><path d=\"M17.41 7.96l-1.37-1.37c-.4-.4-.92-.59-1.43-.59-.52 0-1.04.2-1.43.59L10.3 9.45l-7.72 7.72c-.78.78-.78 2.05 0 2.83L4 21.41c.39.39.9.59 1.41.59.51 0 1.02-.2 1.41-.59l7.78-7.78 2.81-2.81c.8-.78.8-2.07 0-2.86zM5.41 20L4 18.59l7.72-7.72 1.47 1.35L5.41 20z\"/>\n",
              "  </svg>\n",
              "      </button>\n",
              "      \n",
              "  <style>\n",
              "    .colab-df-container {\n",
              "      display:flex;\n",
              "      flex-wrap:wrap;\n",
              "      gap: 12px;\n",
              "    }\n",
              "\n",
              "    .colab-df-convert {\n",
              "      background-color: #E8F0FE;\n",
              "      border: none;\n",
              "      border-radius: 50%;\n",
              "      cursor: pointer;\n",
              "      display: none;\n",
              "      fill: #1967D2;\n",
              "      height: 32px;\n",
              "      padding: 0 0 0 0;\n",
              "      width: 32px;\n",
              "    }\n",
              "\n",
              "    .colab-df-convert:hover {\n",
              "      background-color: #E2EBFA;\n",
              "      box-shadow: 0px 1px 2px rgba(60, 64, 67, 0.3), 0px 1px 3px 1px rgba(60, 64, 67, 0.15);\n",
              "      fill: #174EA6;\n",
              "    }\n",
              "\n",
              "    [theme=dark] .colab-df-convert {\n",
              "      background-color: #3B4455;\n",
              "      fill: #D2E3FC;\n",
              "    }\n",
              "\n",
              "    [theme=dark] .colab-df-convert:hover {\n",
              "      background-color: #434B5C;\n",
              "      box-shadow: 0px 1px 3px 1px rgba(0, 0, 0, 0.15);\n",
              "      filter: drop-shadow(0px 1px 2px rgba(0, 0, 0, 0.3));\n",
              "      fill: #FFFFFF;\n",
              "    }\n",
              "  </style>\n",
              "\n",
              "      <script>\n",
              "        const buttonEl =\n",
              "          document.querySelector('#df-8ee29add-1c4e-4517-bedd-c50f00b23dcb button.colab-df-convert');\n",
              "        buttonEl.style.display =\n",
              "          google.colab.kernel.accessAllowed ? 'block' : 'none';\n",
              "\n",
              "        async function convertToInteractive(key) {\n",
              "          const element = document.querySelector('#df-8ee29add-1c4e-4517-bedd-c50f00b23dcb');\n",
              "          const dataTable =\n",
              "            await google.colab.kernel.invokeFunction('convertToInteractive',\n",
              "                                                     [key], {});\n",
              "          if (!dataTable) return;\n",
              "\n",
              "          const docLinkHtml = 'Like what you see? Visit the ' +\n",
              "            '<a target=\"_blank\" href=https://colab.research.google.com/notebooks/data_table.ipynb>data table notebook</a>'\n",
              "            + ' to learn more about interactive tables.';\n",
              "          element.innerHTML = '';\n",
              "          dataTable['output_type'] = 'display_data';\n",
              "          await google.colab.output.renderOutput(dataTable, element);\n",
              "          const docLink = document.createElement('div');\n",
              "          docLink.innerHTML = docLinkHtml;\n",
              "          element.appendChild(docLink);\n",
              "        }\n",
              "      </script>\n",
              "    </div>\n",
              "  </div>\n",
              "  "
            ]
          },
          "metadata": {},
          "execution_count": 11
        }
      ]
    },
    {
      "cell_type": "code",
      "source": [
        "x=df.drop(columns=['Length','Weight'])\n",
        "y=df.drop(columns=['TEMPERATURE','TURBIDITY','DISOLVED OXYGEN','pH','AMMONIA','NITRATE'])\n",
        "y1=y['Length']\n",
        "y2=y['Weight']"
      ],
      "metadata": {
        "id": "Im3Q57HSD6t3"
      },
      "execution_count": 12,
      "outputs": []
    },
    {
      "cell_type": "markdown",
      "source": [
        "Y1 corresponds to the model for fish length label and Y2 corresponds to the model for fish weight label. Splitting the data for training and testing\n"
      ],
      "metadata": {
        "id": "vedO5lboECJd"
      }
    },
    {
      "cell_type": "code",
      "source": [
        "X_train,X_test,Y1_train,Y1_test=train_test_split(x,y1,test_size=0.2,random_state=0)\n",
        "X_train,X_test,Y2_train,Y2_test=train_test_split(x,y2,test_size=0.2,random_state=0)"
      ],
      "metadata": {
        "id": "nSBcYsclD7Tg"
      },
      "execution_count": 13,
      "outputs": []
    },
    {
      "cell_type": "markdown",
      "source": [
        "Saling of input data"
      ],
      "metadata": {
        "id": "6DWWdLOkYiNm"
      }
    },
    {
      "cell_type": "code",
      "source": [
        "scaler = MinMaxScaler()\n",
        "X_train = scaler.fit_transform(X_train)\n",
        "X_test = scaler.transform(X_test)"
      ],
      "metadata": {
        "id": "ErkZ9mlqYf2t"
      },
      "execution_count": 14,
      "outputs": []
    },
    {
      "cell_type": "markdown",
      "source": [
        "1) Logistic Regression"
      ],
      "metadata": {
        "id": "-Jj7h1mCEIoS"
      }
    },
    {
      "cell_type": "code",
      "source": [
        "model=LogisticRegression(multi_class='multinomial')\n",
        "data=model.fit(X_train,Y1_train)\n",
        "Y1_predict=data.predict(X_test)\n",
        "print(\"The classification report for Fish Length is:\",classification_report(Y1_test,Y1_predict))\n",
        "print(\"The confusion matrix for Fish Length is:\",confusion_matrix(Y1_test,Y1_predict))\n",
        "data=model.fit(X_train,Y2_train)\n",
        "Y2_predict=data.predict(X_test)\n",
        "print(\"The classification report for Fish Weight is:\",classification_report(Y2_test,Y2_predict))\n",
        "print(\"The confusion matrix for Fish Weight is:\",confusion_matrix(Y2_test,Y2_predict))"
      ],
      "metadata": {
        "colab": {
          "base_uri": "https://localhost:8080/"
        },
        "id": "LVEN164pEGLB",
        "outputId": "ffcfbcff-58da-4f52-fdd1-4a7d7a85c50d"
      },
      "execution_count": 15,
      "outputs": [
        {
          "output_type": "stream",
          "name": "stdout",
          "text": [
            "The classification report for Fish Length is:               precision    recall  f1-score   support\n",
            "\n",
            "       13.45       0.41      0.28      0.33        25\n",
            " 15.33571439       0.00      0.00      0.00         3\n",
            " 15.57142869       0.00      0.00      0.00        19\n",
            " 15.80714299       0.00      0.00      0.00         6\n",
            " 16.04285729       0.00      0.00      0.00         2\n",
            " 16.51428589       0.00      0.00      0.00         5\n",
            "        31.7       0.33      0.58      0.42        24\n",
            "    41.11143       0.00      0.00      0.00         1\n",
            "    41.48786       0.00      0.00      0.00         7\n",
            "    44.54929       0.48      0.94      0.63        31\n",
            "\n",
            "    accuracy                           0.41       123\n",
            "   macro avg       0.12      0.18      0.14       123\n",
            "weighted avg       0.27      0.41      0.31       123\n",
            "\n",
            "The confusion matrix for Fish Length is: [[ 7  0  0  0  0  0 18  0  0  0]\n",
            " [ 0  0  0  0  0  1  2  0  0  0]\n",
            " [ 0  0  0  0  0  0  0  0  0 19]\n",
            " [ 0  0  0  0  0  0  0  0  0  6]\n",
            " [ 0  0  0  0  0  0  0  0  0  2]\n",
            " [ 0  0  0  0  0  0  0  0  0  5]\n",
            " [10  0  0  0  0  0 14  0  0  0]\n",
            " [ 0  1  0  0  0  0  0  0  0  0]\n",
            " [ 0  0  0  0  0  0  7  0  0  0]\n",
            " [ 0  0  0  0  0  0  2  0  0 29]]\n",
            "The classification report for Fish Weight is:               precision    recall  f1-score   support\n",
            "\n",
            "       263.0       0.33      0.58      0.42        24\n",
            "        27.6       0.41      0.28      0.33        25\n",
            " 43.88568429       0.00      0.00      0.00         3\n",
            " 45.92139429       0.00      0.00      0.00        19\n",
            " 47.95710429       0.00      0.00      0.00         6\n",
            " 49.99281429       0.00      0.00      0.00         2\n",
            " 54.06423429       0.00      0.00      0.00         5\n",
            "    601.8071       0.00      0.00      0.00         1\n",
            "    617.4929       0.00      0.00      0.00         7\n",
            "    689.1429       0.48      0.94      0.63        31\n",
            "\n",
            "    accuracy                           0.41       123\n",
            "   macro avg       0.12      0.18      0.14       123\n",
            "weighted avg       0.27      0.41      0.31       123\n",
            "\n",
            "The confusion matrix for Fish Weight is: [[14 10  0  0  0  0  0  0  0  0]\n",
            " [18  7  0  0  0  0  0  0  0  0]\n",
            " [ 2  0  0  0  0  0  1  0  0  0]\n",
            " [ 0  0  0  0  0  0  0  0  0 19]\n",
            " [ 0  0  0  0  0  0  0  0  0  6]\n",
            " [ 0  0  0  0  0  0  0  0  0  2]\n",
            " [ 0  0  0  0  0  0  0  0  0  5]\n",
            " [ 0  0  1  0  0  0  0  0  0  0]\n",
            " [ 7  0  0  0  0  0  0  0  0  0]\n",
            " [ 2  0  0  0  0  0  0  0  0 29]]\n"
          ]
        },
        {
          "output_type": "stream",
          "name": "stderr",
          "text": [
            "/usr/local/lib/python3.8/dist-packages/sklearn/linear_model/_logistic.py:814: ConvergenceWarning: lbfgs failed to converge (status=1):\n",
            "STOP: TOTAL NO. of ITERATIONS REACHED LIMIT.\n",
            "\n",
            "Increase the number of iterations (max_iter) or scale the data as shown in:\n",
            "    https://scikit-learn.org/stable/modules/preprocessing.html\n",
            "Please also refer to the documentation for alternative solver options:\n",
            "    https://scikit-learn.org/stable/modules/linear_model.html#logistic-regression\n",
            "  n_iter_i = _check_optimize_result(\n",
            "/usr/local/lib/python3.8/dist-packages/sklearn/metrics/_classification.py:1318: UndefinedMetricWarning: Precision and F-score are ill-defined and being set to 0.0 in labels with no predicted samples. Use `zero_division` parameter to control this behavior.\n",
            "  _warn_prf(average, modifier, msg_start, len(result))\n",
            "/usr/local/lib/python3.8/dist-packages/sklearn/metrics/_classification.py:1318: UndefinedMetricWarning: Precision and F-score are ill-defined and being set to 0.0 in labels with no predicted samples. Use `zero_division` parameter to control this behavior.\n",
            "  _warn_prf(average, modifier, msg_start, len(result))\n",
            "/usr/local/lib/python3.8/dist-packages/sklearn/metrics/_classification.py:1318: UndefinedMetricWarning: Precision and F-score are ill-defined and being set to 0.0 in labels with no predicted samples. Use `zero_division` parameter to control this behavior.\n",
            "  _warn_prf(average, modifier, msg_start, len(result))\n",
            "/usr/local/lib/python3.8/dist-packages/sklearn/linear_model/_logistic.py:814: ConvergenceWarning: lbfgs failed to converge (status=1):\n",
            "STOP: TOTAL NO. of ITERATIONS REACHED LIMIT.\n",
            "\n",
            "Increase the number of iterations (max_iter) or scale the data as shown in:\n",
            "    https://scikit-learn.org/stable/modules/preprocessing.html\n",
            "Please also refer to the documentation for alternative solver options:\n",
            "    https://scikit-learn.org/stable/modules/linear_model.html#logistic-regression\n",
            "  n_iter_i = _check_optimize_result(\n",
            "/usr/local/lib/python3.8/dist-packages/sklearn/metrics/_classification.py:1318: UndefinedMetricWarning: Precision and F-score are ill-defined and being set to 0.0 in labels with no predicted samples. Use `zero_division` parameter to control this behavior.\n",
            "  _warn_prf(average, modifier, msg_start, len(result))\n",
            "/usr/local/lib/python3.8/dist-packages/sklearn/metrics/_classification.py:1318: UndefinedMetricWarning: Precision and F-score are ill-defined and being set to 0.0 in labels with no predicted samples. Use `zero_division` parameter to control this behavior.\n",
            "  _warn_prf(average, modifier, msg_start, len(result))\n",
            "/usr/local/lib/python3.8/dist-packages/sklearn/metrics/_classification.py:1318: UndefinedMetricWarning: Precision and F-score are ill-defined and being set to 0.0 in labels with no predicted samples. Use `zero_division` parameter to control this behavior.\n",
            "  _warn_prf(average, modifier, msg_start, len(result))\n"
          ]
        }
      ]
    },
    {
      "cell_type": "markdown",
      "source": [
        "2) Decision Tree Classifier"
      ],
      "metadata": {
        "id": "0lgjS9lLEM36"
      }
    },
    {
      "cell_type": "code",
      "source": [
        "model=DecisionTreeClassifier()\n",
        "data=model.fit(X_train,Y1_train)\n",
        "Y1_predict=data.predict(X_test)\n",
        "print(\"The classification report for Fish Length is:\",classification_report(Y1_test,Y1_predict))\n",
        "print(\"The confusion matrix for Fish Length is:\",confusion_matrix(Y1_test,Y1_predict))\n",
        "data=model.fit(X_train,Y2_train)\n",
        "Y2_predict=data.predict(X_test)\n",
        "print(\"The classification report for Fish Weight is:\",classification_report(Y2_test,Y2_predict))\n",
        "print(\"The confusion matrix for Fish Weight is:\",confusion_matrix(Y2_test,Y2_predict))"
      ],
      "metadata": {
        "colab": {
          "base_uri": "https://localhost:8080/"
        },
        "id": "KQ1ZuNlAEMfo",
        "outputId": "2fb0dea0-063e-4951-bddd-b0a4a1b88384"
      },
      "execution_count": 16,
      "outputs": [
        {
          "output_type": "stream",
          "name": "stdout",
          "text": [
            "The classification report for Fish Length is:               precision    recall  f1-score   support\n",
            "\n",
            "       13.45       0.08      0.08      0.08        25\n",
            " 14.15714289       0.00      0.00      0.00         0\n",
            " 15.10000009       0.00      0.00      0.00         0\n",
            " 15.33571439       0.00      0.00      0.00         3\n",
            " 15.57142869       0.19      0.21      0.20        19\n",
            " 15.80714299       0.25      0.17      0.20         6\n",
            " 16.04285729       0.00      0.00      0.00         2\n",
            " 16.27857159       0.00      0.00      0.00         0\n",
            " 16.51428589       0.27      0.60      0.37         5\n",
            "        31.7       0.04      0.04      0.04        24\n",
            "    41.11143       0.00      0.00      0.00         1\n",
            "    41.48786       0.00      0.00      0.00         7\n",
            "    44.54929       0.08      0.06      0.07        31\n",
            "\n",
            "    accuracy                           0.11       123\n",
            "   macro avg       0.07      0.09      0.07       123\n",
            "weighted avg       0.10      0.11      0.10       123\n",
            "\n",
            "The confusion matrix for Fish Length is: [[ 2  0  0  0  0  0  0  0  0 23  0  0  0]\n",
            " [ 0  0  0  0  0  0  0  0  0  0  0  0  0]\n",
            " [ 0  0  0  0  0  0  0  0  0  0  0  0  0]\n",
            " [ 0  0  0  0  0  0  0  0  0  0  0  3  0]\n",
            " [ 0  0  0  0  4  0  0  0  0  0  0  0 15]\n",
            " [ 0  0  0  0  0  1  0  0  0  0  0  0  5]\n",
            " [ 0  0  0  0  0  0  0  0  0  0  0  0  2]\n",
            " [ 0  0  0  0  0  0  0  0  0  0  0  0  0]\n",
            " [ 0  0  0  0  0  0  0  0  3  0  0  0  2]\n",
            " [23  0  0  0  0  0  0  0  0  1  0  0  0]\n",
            " [ 0  1  0  0  0  0  0  0  0  0  0  0  0]\n",
            " [ 0  0  1  6  0  0  0  0  0  0  0  0  0]\n",
            " [ 0  0  0  0 17  3  0  1  8  0  0  0  2]]\n",
            "The classification report for Fish Weight is:               precision    recall  f1-score   support\n",
            "\n",
            "       263.0       0.08      0.08      0.08        24\n",
            "        27.6       0.04      0.04      0.04        25\n",
            " 33.70713429       0.00      0.00      0.00         0\n",
            " 41.84997429       0.00      0.00      0.00         0\n",
            " 43.88568429       0.00      0.00      0.00         3\n",
            " 45.92139429       0.18      0.21      0.20        19\n",
            " 47.95710429       0.25      0.17      0.20         6\n",
            " 49.99281429       0.00      0.00      0.00         2\n",
            " 52.02852429       0.00      0.00      0.00         0\n",
            " 54.06423429       0.27      0.60      0.37         5\n",
            "    601.8071       0.00      0.00      0.00         1\n",
            "    617.4929       0.00      0.00      0.00         7\n",
            "    689.1429       0.04      0.03      0.04        31\n",
            "\n",
            "    accuracy                           0.10       123\n",
            "   macro avg       0.07      0.09      0.07       123\n",
            "weighted avg       0.09      0.10      0.09       123\n",
            "\n",
            "The confusion matrix for Fish Weight is: [[ 2 22  0  0  0  0  0  0  0  0  0  0  0]\n",
            " [24  1  0  0  0  0  0  0  0  0  0  0  0]\n",
            " [ 0  0  0  0  0  0  0  0  0  0  0  0  0]\n",
            " [ 0  0  0  0  0  0  0  0  0  0  0  0  0]\n",
            " [ 0  0  0  0  0  0  0  0  0  0  0  3  0]\n",
            " [ 0  0  0  0  0  4  0  0  0  0  0  0 15]\n",
            " [ 0  0  0  0  0  0  1  0  0  0  0  0  5]\n",
            " [ 0  0  0  0  0  0  0  0  0  0  0  0  2]\n",
            " [ 0  0  0  0  0  0  0  0  0  0  0  0  0]\n",
            " [ 0  0  0  0  0  0  0  0  0  3  0  0  2]\n",
            " [ 0  0  1  0  0  0  0  0  0  0  0  0  0]\n",
            " [ 0  0  0  1  6  0  0  0  0  0  0  0  0]\n",
            " [ 0  0  0  0  0 18  3  0  1  8  0  0  1]]\n"
          ]
        },
        {
          "output_type": "stream",
          "name": "stderr",
          "text": [
            "/usr/local/lib/python3.8/dist-packages/sklearn/metrics/_classification.py:1318: UndefinedMetricWarning: Precision and F-score are ill-defined and being set to 0.0 in labels with no predicted samples. Use `zero_division` parameter to control this behavior.\n",
            "  _warn_prf(average, modifier, msg_start, len(result))\n",
            "/usr/local/lib/python3.8/dist-packages/sklearn/metrics/_classification.py:1318: UndefinedMetricWarning: Recall and F-score are ill-defined and being set to 0.0 in labels with no true samples. Use `zero_division` parameter to control this behavior.\n",
            "  _warn_prf(average, modifier, msg_start, len(result))\n",
            "/usr/local/lib/python3.8/dist-packages/sklearn/metrics/_classification.py:1318: UndefinedMetricWarning: Precision and F-score are ill-defined and being set to 0.0 in labels with no predicted samples. Use `zero_division` parameter to control this behavior.\n",
            "  _warn_prf(average, modifier, msg_start, len(result))\n",
            "/usr/local/lib/python3.8/dist-packages/sklearn/metrics/_classification.py:1318: UndefinedMetricWarning: Recall and F-score are ill-defined and being set to 0.0 in labels with no true samples. Use `zero_division` parameter to control this behavior.\n",
            "  _warn_prf(average, modifier, msg_start, len(result))\n",
            "/usr/local/lib/python3.8/dist-packages/sklearn/metrics/_classification.py:1318: UndefinedMetricWarning: Precision and F-score are ill-defined and being set to 0.0 in labels with no predicted samples. Use `zero_division` parameter to control this behavior.\n",
            "  _warn_prf(average, modifier, msg_start, len(result))\n",
            "/usr/local/lib/python3.8/dist-packages/sklearn/metrics/_classification.py:1318: UndefinedMetricWarning: Recall and F-score are ill-defined and being set to 0.0 in labels with no true samples. Use `zero_division` parameter to control this behavior.\n",
            "  _warn_prf(average, modifier, msg_start, len(result))\n",
            "/usr/local/lib/python3.8/dist-packages/sklearn/metrics/_classification.py:1318: UndefinedMetricWarning: Precision and F-score are ill-defined and being set to 0.0 in labels with no predicted samples. Use `zero_division` parameter to control this behavior.\n",
            "  _warn_prf(average, modifier, msg_start, len(result))\n",
            "/usr/local/lib/python3.8/dist-packages/sklearn/metrics/_classification.py:1318: UndefinedMetricWarning: Recall and F-score are ill-defined and being set to 0.0 in labels with no true samples. Use `zero_division` parameter to control this behavior.\n",
            "  _warn_prf(average, modifier, msg_start, len(result))\n",
            "/usr/local/lib/python3.8/dist-packages/sklearn/metrics/_classification.py:1318: UndefinedMetricWarning: Precision and F-score are ill-defined and being set to 0.0 in labels with no predicted samples. Use `zero_division` parameter to control this behavior.\n",
            "  _warn_prf(average, modifier, msg_start, len(result))\n",
            "/usr/local/lib/python3.8/dist-packages/sklearn/metrics/_classification.py:1318: UndefinedMetricWarning: Recall and F-score are ill-defined and being set to 0.0 in labels with no true samples. Use `zero_division` parameter to control this behavior.\n",
            "  _warn_prf(average, modifier, msg_start, len(result))\n",
            "/usr/local/lib/python3.8/dist-packages/sklearn/metrics/_classification.py:1318: UndefinedMetricWarning: Precision and F-score are ill-defined and being set to 0.0 in labels with no predicted samples. Use `zero_division` parameter to control this behavior.\n",
            "  _warn_prf(average, modifier, msg_start, len(result))\n",
            "/usr/local/lib/python3.8/dist-packages/sklearn/metrics/_classification.py:1318: UndefinedMetricWarning: Recall and F-score are ill-defined and being set to 0.0 in labels with no true samples. Use `zero_division` parameter to control this behavior.\n",
            "  _warn_prf(average, modifier, msg_start, len(result))\n"
          ]
        }
      ]
    },
    {
      "cell_type": "markdown",
      "source": [
        "3) Support Vector Machine"
      ],
      "metadata": {
        "id": "7oXUyizgETVi"
      }
    },
    {
      "cell_type": "code",
      "source": [
        "model=SVC()\n",
        "data=model.fit(X_train,Y1_train)\n",
        "Y1_predict=data.predict(X_test)\n",
        "print(\"The classification report for Fish Length is:\",classification_report(Y1_test,Y1_predict))\n",
        "print(\"The confusion matrix for Fish Length is:\",confusion_matrix(Y1_test,Y1_predict))\n",
        "data=model.fit(X_train,Y2_train)\n",
        "Y2_predict=data.predict(X_test)\n",
        "print(\"The classification report for Fish Weight is:\",classification_report(Y2_test,Y2_predict))\n",
        "print(\"The confusion matrix for Fish Weight is:\",confusion_matrix(Y2_test,Y2_predict))"
      ],
      "metadata": {
        "colab": {
          "base_uri": "https://localhost:8080/"
        },
        "id": "S3vtXKR0EaI3",
        "outputId": "2f01e37e-5719-4572-b4da-d4c7777e851e"
      },
      "execution_count": 17,
      "outputs": [
        {
          "output_type": "stream",
          "name": "stdout",
          "text": [
            "The classification report for Fish Length is:               precision    recall  f1-score   support\n",
            "\n",
            "       13.45       0.00      0.00      0.00        25\n",
            " 15.33571439       0.20      0.67      0.31         3\n",
            " 15.57142869       0.00      0.00      0.00        19\n",
            " 15.80714299       0.00      0.00      0.00         6\n",
            " 16.04285729       0.00      0.00      0.00         2\n",
            " 16.27857159       0.00      0.00      0.00         0\n",
            " 16.51428589       0.00      0.00      0.00         5\n",
            "        31.7       0.47      1.00      0.64        24\n",
            "    41.11143       0.00      0.00      0.00         1\n",
            "    41.48786       0.00      0.00      0.00         7\n",
            "    44.54929       0.47      0.90      0.62        31\n",
            "\n",
            "    accuracy                           0.44       123\n",
            "   macro avg       0.10      0.23      0.14       123\n",
            "weighted avg       0.21      0.44      0.29       123\n",
            "\n",
            "The confusion matrix for Fish Length is: [[ 0  0  0  0  0  0  0 25  0  0  0]\n",
            " [ 0  2  0  0  0  0  0  0  0  1  0]\n",
            " [ 0  0  0  0  0  0  0  0  0  0 19]\n",
            " [ 0  0  0  0  0  0  0  0  0  0  6]\n",
            " [ 0  0  0  0  0  0  0  0  0  0  2]\n",
            " [ 0  0  0  0  0  0  0  0  0  0  0]\n",
            " [ 0  0  0  0  0  0  0  0  0  0  5]\n",
            " [ 0  0  0  0  0  0  0 24  0  0  0]\n",
            " [ 0  1  0  0  0  0  0  0  0  0  0]\n",
            " [ 0  7  0  0  0  0  0  0  0  0  0]\n",
            " [ 0  0  0  0  0  1  0  2  0  0 28]]\n",
            "The classification report for Fish Weight is:               precision    recall  f1-score   support\n",
            "\n",
            "       263.0       0.47      1.00      0.64        24\n",
            "        27.6       0.00      0.00      0.00        25\n",
            " 43.88568429       0.20      0.67      0.31         3\n",
            " 45.92139429       0.00      0.00      0.00        19\n",
            " 47.95710429       0.00      0.00      0.00         6\n",
            " 49.99281429       0.00      0.00      0.00         2\n",
            " 52.02852429       0.00      0.00      0.00         0\n",
            " 54.06423429       0.00      0.00      0.00         5\n",
            "    601.8071       0.00      0.00      0.00         1\n",
            "    617.4929       0.00      0.00      0.00         7\n",
            "    689.1429       0.47      0.90      0.62        31\n",
            "\n",
            "    accuracy                           0.44       123\n",
            "   macro avg       0.10      0.23      0.14       123\n",
            "weighted avg       0.21      0.44      0.29       123\n",
            "\n",
            "The confusion matrix for Fish Weight is: [[24  0  0  0  0  0  0  0  0  0  0]\n",
            " [25  0  0  0  0  0  0  0  0  0  0]\n",
            " [ 0  0  2  0  0  0  0  0  0  1  0]\n",
            " [ 0  0  0  0  0  0  0  0  0  0 19]\n",
            " [ 0  0  0  0  0  0  0  0  0  0  6]\n",
            " [ 0  0  0  0  0  0  0  0  0  0  2]\n",
            " [ 0  0  0  0  0  0  0  0  0  0  0]\n",
            " [ 0  0  0  0  0  0  0  0  0  0  5]\n",
            " [ 0  0  1  0  0  0  0  0  0  0  0]\n",
            " [ 0  0  7  0  0  0  0  0  0  0  0]\n",
            " [ 2  0  0  0  0  0  1  0  0  0 28]]\n"
          ]
        },
        {
          "output_type": "stream",
          "name": "stderr",
          "text": [
            "/usr/local/lib/python3.8/dist-packages/sklearn/metrics/_classification.py:1318: UndefinedMetricWarning: Precision and F-score are ill-defined and being set to 0.0 in labels with no predicted samples. Use `zero_division` parameter to control this behavior.\n",
            "  _warn_prf(average, modifier, msg_start, len(result))\n",
            "/usr/local/lib/python3.8/dist-packages/sklearn/metrics/_classification.py:1318: UndefinedMetricWarning: Recall and F-score are ill-defined and being set to 0.0 in labels with no true samples. Use `zero_division` parameter to control this behavior.\n",
            "  _warn_prf(average, modifier, msg_start, len(result))\n",
            "/usr/local/lib/python3.8/dist-packages/sklearn/metrics/_classification.py:1318: UndefinedMetricWarning: Precision and F-score are ill-defined and being set to 0.0 in labels with no predicted samples. Use `zero_division` parameter to control this behavior.\n",
            "  _warn_prf(average, modifier, msg_start, len(result))\n",
            "/usr/local/lib/python3.8/dist-packages/sklearn/metrics/_classification.py:1318: UndefinedMetricWarning: Recall and F-score are ill-defined and being set to 0.0 in labels with no true samples. Use `zero_division` parameter to control this behavior.\n",
            "  _warn_prf(average, modifier, msg_start, len(result))\n",
            "/usr/local/lib/python3.8/dist-packages/sklearn/metrics/_classification.py:1318: UndefinedMetricWarning: Precision and F-score are ill-defined and being set to 0.0 in labels with no predicted samples. Use `zero_division` parameter to control this behavior.\n",
            "  _warn_prf(average, modifier, msg_start, len(result))\n",
            "/usr/local/lib/python3.8/dist-packages/sklearn/metrics/_classification.py:1318: UndefinedMetricWarning: Recall and F-score are ill-defined and being set to 0.0 in labels with no true samples. Use `zero_division` parameter to control this behavior.\n",
            "  _warn_prf(average, modifier, msg_start, len(result))\n",
            "/usr/local/lib/python3.8/dist-packages/sklearn/metrics/_classification.py:1318: UndefinedMetricWarning: Precision and F-score are ill-defined and being set to 0.0 in labels with no predicted samples. Use `zero_division` parameter to control this behavior.\n",
            "  _warn_prf(average, modifier, msg_start, len(result))\n",
            "/usr/local/lib/python3.8/dist-packages/sklearn/metrics/_classification.py:1318: UndefinedMetricWarning: Recall and F-score are ill-defined and being set to 0.0 in labels with no true samples. Use `zero_division` parameter to control this behavior.\n",
            "  _warn_prf(average, modifier, msg_start, len(result))\n",
            "/usr/local/lib/python3.8/dist-packages/sklearn/metrics/_classification.py:1318: UndefinedMetricWarning: Precision and F-score are ill-defined and being set to 0.0 in labels with no predicted samples. Use `zero_division` parameter to control this behavior.\n",
            "  _warn_prf(average, modifier, msg_start, len(result))\n",
            "/usr/local/lib/python3.8/dist-packages/sklearn/metrics/_classification.py:1318: UndefinedMetricWarning: Recall and F-score are ill-defined and being set to 0.0 in labels with no true samples. Use `zero_division` parameter to control this behavior.\n",
            "  _warn_prf(average, modifier, msg_start, len(result))\n",
            "/usr/local/lib/python3.8/dist-packages/sklearn/metrics/_classification.py:1318: UndefinedMetricWarning: Precision and F-score are ill-defined and being set to 0.0 in labels with no predicted samples. Use `zero_division` parameter to control this behavior.\n",
            "  _warn_prf(average, modifier, msg_start, len(result))\n",
            "/usr/local/lib/python3.8/dist-packages/sklearn/metrics/_classification.py:1318: UndefinedMetricWarning: Recall and F-score are ill-defined and being set to 0.0 in labels with no true samples. Use `zero_division` parameter to control this behavior.\n",
            "  _warn_prf(average, modifier, msg_start, len(result))\n"
          ]
        }
      ]
    },
    {
      "cell_type": "markdown",
      "source": [
        "4) Random Forest Classifier"
      ],
      "metadata": {
        "id": "_q6jHikLE0po"
      }
    },
    {
      "cell_type": "code",
      "source": [
        "model=RandomForestClassifier()\n",
        "data=model.fit(X_train,Y1_train)\n",
        "Y1_predict=data.predict(X_test)\n",
        "print(\"The classification report for Fish Length is:\",classification_report(Y1_test,Y1_predict))\n",
        "print(\"The confusion matrix for Fish Length is:\",confusion_matrix(Y1_test,Y1_predict))\n",
        "data=model.fit(X_train,Y2_train)\n",
        "Y2_predict=data.predict(X_test)\n",
        "print(\"The classification report for Fish Weight is:\",classification_report(Y2_test,Y2_predict))\n",
        "print(\"The confusion matrix for Fish Weight is:\",confusion_matrix(Y2_test,Y2_predict))"
      ],
      "metadata": {
        "colab": {
          "base_uri": "https://localhost:8080/"
        },
        "id": "GQ_iuMHBEvpu",
        "outputId": "cccef64c-2175-43d3-ae09-6973efaebd4b"
      },
      "execution_count": 18,
      "outputs": [
        {
          "output_type": "stream",
          "name": "stdout",
          "text": [
            "The classification report for Fish Length is:               precision    recall  f1-score   support\n",
            "\n",
            "       13.45       0.04      0.04      0.04        25\n",
            " 14.15714289       0.00      0.00      0.00         0\n",
            " 15.10000009       0.00      0.00      0.00         0\n",
            " 15.33571439       0.00      0.00      0.00         3\n",
            " 15.57142869       0.16      0.16      0.16        19\n",
            " 15.80714299       0.00      0.00      0.00         6\n",
            " 16.04285729       0.00      0.00      0.00         2\n",
            " 16.27857159       0.00      0.00      0.00         0\n",
            " 16.51428589       0.14      0.20      0.17         5\n",
            "        31.7       0.08      0.08      0.08        24\n",
            "    41.11143       0.00      0.00      0.00         1\n",
            "    41.48786       0.00      0.00      0.00         7\n",
            "    44.54929       0.18      0.19      0.18        31\n",
            "\n",
            "    accuracy                           0.11       123\n",
            "   macro avg       0.05      0.05      0.05       123\n",
            "weighted avg       0.10      0.11      0.10       123\n",
            "\n",
            "The confusion matrix for Fish Length is: [[ 1  0  0  0  0  0  0  0  0 24  0  0  0]\n",
            " [ 0  0  0  0  0  0  0  0  0  0  0  0  0]\n",
            " [ 0  0  0  0  0  0  0  0  0  0  0  0  0]\n",
            " [ 0  0  0  0  0  0  0  0  0  0  0  3  0]\n",
            " [ 0  0  0  0  3  0  0  0  0  0  0  0 16]\n",
            " [ 0  0  0  0  0  0  0  0  0  0  0  0  6]\n",
            " [ 0  0  0  0  0  0  0  0  0  0  0  0  2]\n",
            " [ 0  0  0  0  0  0  0  0  0  0  0  0  0]\n",
            " [ 0  0  0  0  0  0  0  0  1  0  0  0  4]\n",
            " [22  0  0  0  0  0  0  0  0  2  0  0  0]\n",
            " [ 0  1  0  0  0  0  0  0  0  0  0  0  0]\n",
            " [ 0  0  1  6  0  0  0  0  0  0  0  0  0]\n",
            " [ 0  0  0  0 16  2  0  1  6  0  0  0  6]]\n",
            "The classification report for Fish Weight is:               precision    recall  f1-score   support\n",
            "\n",
            "       263.0       0.08      0.08      0.08        24\n",
            "        27.6       0.04      0.04      0.04        25\n",
            " 33.70713429       0.00      0.00      0.00         0\n",
            " 41.84997429       0.00      0.00      0.00         0\n",
            " 43.88568429       0.00      0.00      0.00         3\n",
            " 45.92139429       0.16      0.16      0.16        19\n",
            " 47.95710429       0.00      0.00      0.00         6\n",
            " 49.99281429       0.00      0.00      0.00         2\n",
            " 52.02852429       0.00      0.00      0.00         0\n",
            " 54.06423429       0.14      0.20      0.17         5\n",
            "    601.8071       0.00      0.00      0.00         1\n",
            "    617.4929       0.00      0.00      0.00         7\n",
            "    689.1429       0.18      0.19      0.18        31\n",
            "\n",
            "    accuracy                           0.11       123\n",
            "   macro avg       0.05      0.05      0.05       123\n",
            "weighted avg       0.10      0.11      0.10       123\n",
            "\n",
            "The confusion matrix for Fish Weight is: [[ 2 22  0  0  0  0  0  0  0  0  0  0  0]\n",
            " [24  1  0  0  0  0  0  0  0  0  0  0  0]\n",
            " [ 0  0  0  0  0  0  0  0  0  0  0  0  0]\n",
            " [ 0  0  0  0  0  0  0  0  0  0  0  0  0]\n",
            " [ 0  0  0  0  0  0  0  0  0  0  0  3  0]\n",
            " [ 0  0  0  0  0  3  0  0  0  0  0  0 16]\n",
            " [ 0  0  0  0  0  0  0  0  0  0  0  0  6]\n",
            " [ 0  0  0  0  0  0  0  0  0  0  0  0  2]\n",
            " [ 0  0  0  0  0  0  0  0  0  0  0  0  0]\n",
            " [ 0  0  0  0  0  0  0  0  0  1  0  0  4]\n",
            " [ 0  0  1  0  0  0  0  0  0  0  0  0  0]\n",
            " [ 0  0  0  1  6  0  0  0  0  0  0  0  0]\n",
            " [ 0  0  0  0  0 16  2  0  1  6  0  0  6]]\n"
          ]
        },
        {
          "output_type": "stream",
          "name": "stderr",
          "text": [
            "/usr/local/lib/python3.8/dist-packages/sklearn/metrics/_classification.py:1318: UndefinedMetricWarning: Precision and F-score are ill-defined and being set to 0.0 in labels with no predicted samples. Use `zero_division` parameter to control this behavior.\n",
            "  _warn_prf(average, modifier, msg_start, len(result))\n",
            "/usr/local/lib/python3.8/dist-packages/sklearn/metrics/_classification.py:1318: UndefinedMetricWarning: Recall and F-score are ill-defined and being set to 0.0 in labels with no true samples. Use `zero_division` parameter to control this behavior.\n",
            "  _warn_prf(average, modifier, msg_start, len(result))\n",
            "/usr/local/lib/python3.8/dist-packages/sklearn/metrics/_classification.py:1318: UndefinedMetricWarning: Precision and F-score are ill-defined and being set to 0.0 in labels with no predicted samples. Use `zero_division` parameter to control this behavior.\n",
            "  _warn_prf(average, modifier, msg_start, len(result))\n",
            "/usr/local/lib/python3.8/dist-packages/sklearn/metrics/_classification.py:1318: UndefinedMetricWarning: Recall and F-score are ill-defined and being set to 0.0 in labels with no true samples. Use `zero_division` parameter to control this behavior.\n",
            "  _warn_prf(average, modifier, msg_start, len(result))\n",
            "/usr/local/lib/python3.8/dist-packages/sklearn/metrics/_classification.py:1318: UndefinedMetricWarning: Precision and F-score are ill-defined and being set to 0.0 in labels with no predicted samples. Use `zero_division` parameter to control this behavior.\n",
            "  _warn_prf(average, modifier, msg_start, len(result))\n",
            "/usr/local/lib/python3.8/dist-packages/sklearn/metrics/_classification.py:1318: UndefinedMetricWarning: Recall and F-score are ill-defined and being set to 0.0 in labels with no true samples. Use `zero_division` parameter to control this behavior.\n",
            "  _warn_prf(average, modifier, msg_start, len(result))\n",
            "/usr/local/lib/python3.8/dist-packages/sklearn/metrics/_classification.py:1318: UndefinedMetricWarning: Precision and F-score are ill-defined and being set to 0.0 in labels with no predicted samples. Use `zero_division` parameter to control this behavior.\n",
            "  _warn_prf(average, modifier, msg_start, len(result))\n",
            "/usr/local/lib/python3.8/dist-packages/sklearn/metrics/_classification.py:1318: UndefinedMetricWarning: Recall and F-score are ill-defined and being set to 0.0 in labels with no true samples. Use `zero_division` parameter to control this behavior.\n",
            "  _warn_prf(average, modifier, msg_start, len(result))\n",
            "/usr/local/lib/python3.8/dist-packages/sklearn/metrics/_classification.py:1318: UndefinedMetricWarning: Precision and F-score are ill-defined and being set to 0.0 in labels with no predicted samples. Use `zero_division` parameter to control this behavior.\n",
            "  _warn_prf(average, modifier, msg_start, len(result))\n",
            "/usr/local/lib/python3.8/dist-packages/sklearn/metrics/_classification.py:1318: UndefinedMetricWarning: Recall and F-score are ill-defined and being set to 0.0 in labels with no true samples. Use `zero_division` parameter to control this behavior.\n",
            "  _warn_prf(average, modifier, msg_start, len(result))\n",
            "/usr/local/lib/python3.8/dist-packages/sklearn/metrics/_classification.py:1318: UndefinedMetricWarning: Precision and F-score are ill-defined and being set to 0.0 in labels with no predicted samples. Use `zero_division` parameter to control this behavior.\n",
            "  _warn_prf(average, modifier, msg_start, len(result))\n",
            "/usr/local/lib/python3.8/dist-packages/sklearn/metrics/_classification.py:1318: UndefinedMetricWarning: Recall and F-score are ill-defined and being set to 0.0 in labels with no true samples. Use `zero_division` parameter to control this behavior.\n",
            "  _warn_prf(average, modifier, msg_start, len(result))\n"
          ]
        }
      ]
    },
    {
      "cell_type": "markdown",
      "source": [
        "5) K Nearest Neighbors"
      ],
      "metadata": {
        "id": "9qN7Ep5mE9IR"
      }
    },
    {
      "cell_type": "code",
      "source": [
        "model=KNeighborsClassifier()\n",
        "data=model.fit(X_train,Y1_train)\n",
        "Y1_predict=data.predict(X_test)\n",
        "print(\"The classification report for Fish Length is:\",classification_report(Y1_test,Y1_predict))\n",
        "print(\"The confusion matrix for Fish Length is:\",confusion_matrix(Y1_test,Y1_predict))\n",
        "data=model.fit(X_train,Y2_train)\n",
        "Y2_predict=data.predict(X_test)\n",
        "print(\"The classification report for Fish Weight is:\",classification_report(Y2_test,Y2_predict))\n",
        "print(\"The confusion matrix for Fish Weight is:\",confusion_matrix(Y2_test,Y2_predict))"
      ],
      "metadata": {
        "colab": {
          "base_uri": "https://localhost:8080/"
        },
        "id": "jwI3MN3PE431",
        "outputId": "a71e621e-b587-4643-d964-a1dbc04227d0"
      },
      "execution_count": 19,
      "outputs": [
        {
          "output_type": "stream",
          "name": "stdout",
          "text": [
            "The classification report for Fish Length is:               precision    recall  f1-score   support\n",
            "\n",
            "       13.45       0.15      0.16      0.16        25\n",
            " 15.33571439       0.00      0.00      0.00         3\n",
            " 15.57142869       0.21      0.21      0.21        19\n",
            " 15.80714299       0.00      0.00      0.00         6\n",
            " 16.04285729       0.00      0.00      0.00         2\n",
            " 16.27857159       0.00      0.00      0.00         0\n",
            " 16.51428589       0.12      0.20      0.15         5\n",
            "        31.7       0.13      0.12      0.13        24\n",
            "    41.11143       1.00      1.00      1.00         1\n",
            "    41.48786       0.00      0.00      0.00         7\n",
            "    44.54929       0.21      0.23      0.22        31\n",
            "\n",
            "    accuracy                           0.16       123\n",
            "   macro avg       0.17      0.17      0.17       123\n",
            "weighted avg       0.15      0.16      0.16       123\n",
            "\n",
            "The confusion matrix for Fish Length is: [[ 4  0  0  0  0  0  1 20  0  0  0]\n",
            " [ 1  0  0  0  0  0  0  0  0  2  0]\n",
            " [ 0  0  4  0  0  0  0  0  0  0 15]\n",
            " [ 0  0  0  0  0  0  0  0  0  0  6]\n",
            " [ 0  0  0  0  0  0  0  0  0  0  2]\n",
            " [ 0  0  0  0  0  0  0  0  0  0  0]\n",
            " [ 0  0  0  0  0  0  1  0  0  0  4]\n",
            " [21  0  0  0  0  0  0  3  0  0  0]\n",
            " [ 0  0  0  0  0  0  0  0  1  0  0]\n",
            " [ 0  7  0  0  0  0  0  0  0  0  0]\n",
            " [ 0  0 15  2  0  1  6  0  0  0  7]]\n",
            "The classification report for Fish Weight is:               precision    recall  f1-score   support\n",
            "\n",
            "       263.0       0.14      0.17      0.15        24\n",
            "        27.6       0.17      0.16      0.16        25\n",
            " 43.88568429       0.00      0.00      0.00         3\n",
            " 45.92139429       0.21      0.21      0.21        19\n",
            " 47.95710429       0.00      0.00      0.00         6\n",
            " 49.99281429       0.00      0.00      0.00         2\n",
            " 52.02852429       0.00      0.00      0.00         0\n",
            " 54.06423429       0.20      0.20      0.20         5\n",
            "    601.8071       1.00      1.00      1.00         1\n",
            "    617.4929       0.00      0.00      0.00         7\n",
            "    689.1429       0.21      0.23      0.22        31\n",
            "\n",
            "    accuracy                           0.17       123\n",
            "   macro avg       0.18      0.18      0.18       123\n",
            "weighted avg       0.16      0.17      0.17       123\n",
            "\n",
            "The confusion matrix for Fish Weight is: [[ 4 20  0  0  0  0  0  0  0  0  0]\n",
            " [21  4  0  0  0  0  0  0  0  0  0]\n",
            " [ 1  0  0  0  0  0  0  0  0  2  0]\n",
            " [ 0  0  0  4  0  0  0  0  0  0 15]\n",
            " [ 0  0  0  0  0  0  0  0  0  0  6]\n",
            " [ 0  0  0  0  0  0  0  0  0  0  2]\n",
            " [ 0  0  0  0  0  0  0  0  0  0  0]\n",
            " [ 0  0  0  0  0  0  0  1  0  0  4]\n",
            " [ 0  0  0  0  0  0  0  0  1  0  0]\n",
            " [ 0  0  7  0  0  0  0  0  0  0  0]\n",
            " [ 2  0  0 15  2  0  1  4  0  0  7]]\n"
          ]
        },
        {
          "output_type": "stream",
          "name": "stderr",
          "text": [
            "/usr/local/lib/python3.8/dist-packages/sklearn/metrics/_classification.py:1318: UndefinedMetricWarning: Precision and F-score are ill-defined and being set to 0.0 in labels with no predicted samples. Use `zero_division` parameter to control this behavior.\n",
            "  _warn_prf(average, modifier, msg_start, len(result))\n",
            "/usr/local/lib/python3.8/dist-packages/sklearn/metrics/_classification.py:1318: UndefinedMetricWarning: Recall and F-score are ill-defined and being set to 0.0 in labels with no true samples. Use `zero_division` parameter to control this behavior.\n",
            "  _warn_prf(average, modifier, msg_start, len(result))\n",
            "/usr/local/lib/python3.8/dist-packages/sklearn/metrics/_classification.py:1318: UndefinedMetricWarning: Precision and F-score are ill-defined and being set to 0.0 in labels with no predicted samples. Use `zero_division` parameter to control this behavior.\n",
            "  _warn_prf(average, modifier, msg_start, len(result))\n",
            "/usr/local/lib/python3.8/dist-packages/sklearn/metrics/_classification.py:1318: UndefinedMetricWarning: Recall and F-score are ill-defined and being set to 0.0 in labels with no true samples. Use `zero_division` parameter to control this behavior.\n",
            "  _warn_prf(average, modifier, msg_start, len(result))\n",
            "/usr/local/lib/python3.8/dist-packages/sklearn/metrics/_classification.py:1318: UndefinedMetricWarning: Precision and F-score are ill-defined and being set to 0.0 in labels with no predicted samples. Use `zero_division` parameter to control this behavior.\n",
            "  _warn_prf(average, modifier, msg_start, len(result))\n",
            "/usr/local/lib/python3.8/dist-packages/sklearn/metrics/_classification.py:1318: UndefinedMetricWarning: Recall and F-score are ill-defined and being set to 0.0 in labels with no true samples. Use `zero_division` parameter to control this behavior.\n",
            "  _warn_prf(average, modifier, msg_start, len(result))\n",
            "/usr/local/lib/python3.8/dist-packages/sklearn/metrics/_classification.py:1318: UndefinedMetricWarning: Precision and F-score are ill-defined and being set to 0.0 in labels with no predicted samples. Use `zero_division` parameter to control this behavior.\n",
            "  _warn_prf(average, modifier, msg_start, len(result))\n",
            "/usr/local/lib/python3.8/dist-packages/sklearn/metrics/_classification.py:1318: UndefinedMetricWarning: Recall and F-score are ill-defined and being set to 0.0 in labels with no true samples. Use `zero_division` parameter to control this behavior.\n",
            "  _warn_prf(average, modifier, msg_start, len(result))\n",
            "/usr/local/lib/python3.8/dist-packages/sklearn/metrics/_classification.py:1318: UndefinedMetricWarning: Precision and F-score are ill-defined and being set to 0.0 in labels with no predicted samples. Use `zero_division` parameter to control this behavior.\n",
            "  _warn_prf(average, modifier, msg_start, len(result))\n",
            "/usr/local/lib/python3.8/dist-packages/sklearn/metrics/_classification.py:1318: UndefinedMetricWarning: Recall and F-score are ill-defined and being set to 0.0 in labels with no true samples. Use `zero_division` parameter to control this behavior.\n",
            "  _warn_prf(average, modifier, msg_start, len(result))\n",
            "/usr/local/lib/python3.8/dist-packages/sklearn/metrics/_classification.py:1318: UndefinedMetricWarning: Precision and F-score are ill-defined and being set to 0.0 in labels with no predicted samples. Use `zero_division` parameter to control this behavior.\n",
            "  _warn_prf(average, modifier, msg_start, len(result))\n",
            "/usr/local/lib/python3.8/dist-packages/sklearn/metrics/_classification.py:1318: UndefinedMetricWarning: Recall and F-score are ill-defined and being set to 0.0 in labels with no true samples. Use `zero_division` parameter to control this behavior.\n",
            "  _warn_prf(average, modifier, msg_start, len(result))\n"
          ]
        }
      ]
    },
    {
      "cell_type": "markdown",
      "source": [
        "6) Ada Boost Classifier"
      ],
      "metadata": {
        "id": "q4xPkrxRFDro"
      }
    },
    {
      "cell_type": "code",
      "source": [
        "model=AdaBoostClassifier()\n",
        "data=model.fit(X_train,Y1_train)\n",
        "Y1_predict=data.predict(X_test)\n",
        "print(\"The classification report for Fish Length is:\",classification_report(Y1_test,Y1_predict))\n",
        "print(\"The confusion matrix for Fish Length is:\",confusion_matrix(Y1_test,Y1_predict))\n",
        "data=model.fit(X_train,Y2_train)\n",
        "Y2_predict=data.predict(X_test)\n",
        "print(\"The classification report for Fish Weight is:\",classification_report(Y2_test,Y2_predict))\n",
        "print(\"The confusion matrix for Fish Weight is:\",confusion_matrix(Y2_test,Y2_predict))"
      ],
      "metadata": {
        "colab": {
          "base_uri": "https://localhost:8080/"
        },
        "id": "w5yuYkCKFAXK",
        "outputId": "4c13c13f-4e07-4c25-9fd1-3836d47723b3"
      },
      "execution_count": 20,
      "outputs": [
        {
          "output_type": "stream",
          "name": "stdout",
          "text": [
            "The classification report for Fish Length is:               precision    recall  f1-score   support\n",
            "\n",
            "       13.45       0.00      0.00      0.00        25\n",
            " 14.15714289       0.00      0.00      0.00         0\n",
            " 15.33571439       0.00      0.00      0.00         3\n",
            " 15.57142869       0.00      0.00      0.00        19\n",
            " 15.80714299       0.00      0.00      0.00         6\n",
            " 16.04285729       0.00      0.00      0.00         2\n",
            " 16.51428589       0.00      0.00      0.00         5\n",
            "        31.7       0.41      1.00      0.58        24\n",
            "    41.11143       0.00      0.00      0.00         1\n",
            "    41.48786       0.00      0.00      0.00         7\n",
            "    44.54929       0.49      1.00      0.66        31\n",
            "\n",
            "    accuracy                           0.45       123\n",
            "   macro avg       0.08      0.18      0.11       123\n",
            "weighted avg       0.20      0.45      0.28       123\n",
            "\n",
            "The confusion matrix for Fish Length is: [[ 0  0  0  0  0  0  0 25  0  0  0]\n",
            " [ 0  0  0  0  0  0  0  0  0  0  0]\n",
            " [ 0  0  0  0  0  0  0  3  0  0  0]\n",
            " [ 0  0  0  0  0  0  0  0  0  0 19]\n",
            " [ 0  0  0  0  0  0  0  0  0  0  6]\n",
            " [ 0  0  0  0  0  0  0  0  0  0  2]\n",
            " [ 0  0  0  0  0  0  0  0  0  0  5]\n",
            " [ 0  0  0  0  0  0  0 24  0  0  0]\n",
            " [ 0  1  0  0  0  0  0  0  0  0  0]\n",
            " [ 0  0  0  0  0  0  0  7  0  0  0]\n",
            " [ 0  0  0  0  0  0  0  0  0  0 31]]\n",
            "The classification report for Fish Weight is:               precision    recall  f1-score   support\n",
            "\n",
            "       263.0       0.41      1.00      0.58        24\n",
            "        27.6       0.00      0.00      0.00        25\n",
            " 33.70713429       0.00      0.00      0.00         0\n",
            " 43.88568429       0.00      0.00      0.00         3\n",
            " 45.92139429       0.00      0.00      0.00        19\n",
            " 47.95710429       0.00      0.00      0.00         6\n",
            " 49.99281429       0.00      0.00      0.00         2\n",
            " 54.06423429       0.00      0.00      0.00         5\n",
            "    601.8071       0.00      0.00      0.00         1\n",
            "    617.4929       0.00      0.00      0.00         7\n",
            "    689.1429       0.49      1.00      0.66        31\n",
            "\n",
            "    accuracy                           0.45       123\n",
            "   macro avg       0.08      0.18      0.11       123\n",
            "weighted avg       0.20      0.45      0.28       123\n",
            "\n",
            "The confusion matrix for Fish Weight is: [[24  0  0  0  0  0  0  0  0  0  0]\n",
            " [25  0  0  0  0  0  0  0  0  0  0]\n",
            " [ 0  0  0  0  0  0  0  0  0  0  0]\n",
            " [ 3  0  0  0  0  0  0  0  0  0  0]\n",
            " [ 0  0  0  0  0  0  0  0  0  0 19]\n",
            " [ 0  0  0  0  0  0  0  0  0  0  6]\n",
            " [ 0  0  0  0  0  0  0  0  0  0  2]\n",
            " [ 0  0  0  0  0  0  0  0  0  0  5]\n",
            " [ 0  0  1  0  0  0  0  0  0  0  0]\n",
            " [ 7  0  0  0  0  0  0  0  0  0  0]\n",
            " [ 0  0  0  0  0  0  0  0  0  0 31]]\n"
          ]
        },
        {
          "output_type": "stream",
          "name": "stderr",
          "text": [
            "/usr/local/lib/python3.8/dist-packages/sklearn/metrics/_classification.py:1318: UndefinedMetricWarning: Precision and F-score are ill-defined and being set to 0.0 in labels with no predicted samples. Use `zero_division` parameter to control this behavior.\n",
            "  _warn_prf(average, modifier, msg_start, len(result))\n",
            "/usr/local/lib/python3.8/dist-packages/sklearn/metrics/_classification.py:1318: UndefinedMetricWarning: Recall and F-score are ill-defined and being set to 0.0 in labels with no true samples. Use `zero_division` parameter to control this behavior.\n",
            "  _warn_prf(average, modifier, msg_start, len(result))\n",
            "/usr/local/lib/python3.8/dist-packages/sklearn/metrics/_classification.py:1318: UndefinedMetricWarning: Precision and F-score are ill-defined and being set to 0.0 in labels with no predicted samples. Use `zero_division` parameter to control this behavior.\n",
            "  _warn_prf(average, modifier, msg_start, len(result))\n",
            "/usr/local/lib/python3.8/dist-packages/sklearn/metrics/_classification.py:1318: UndefinedMetricWarning: Recall and F-score are ill-defined and being set to 0.0 in labels with no true samples. Use `zero_division` parameter to control this behavior.\n",
            "  _warn_prf(average, modifier, msg_start, len(result))\n",
            "/usr/local/lib/python3.8/dist-packages/sklearn/metrics/_classification.py:1318: UndefinedMetricWarning: Precision and F-score are ill-defined and being set to 0.0 in labels with no predicted samples. Use `zero_division` parameter to control this behavior.\n",
            "  _warn_prf(average, modifier, msg_start, len(result))\n",
            "/usr/local/lib/python3.8/dist-packages/sklearn/metrics/_classification.py:1318: UndefinedMetricWarning: Recall and F-score are ill-defined and being set to 0.0 in labels with no true samples. Use `zero_division` parameter to control this behavior.\n",
            "  _warn_prf(average, modifier, msg_start, len(result))\n",
            "/usr/local/lib/python3.8/dist-packages/sklearn/metrics/_classification.py:1318: UndefinedMetricWarning: Precision and F-score are ill-defined and being set to 0.0 in labels with no predicted samples. Use `zero_division` parameter to control this behavior.\n",
            "  _warn_prf(average, modifier, msg_start, len(result))\n",
            "/usr/local/lib/python3.8/dist-packages/sklearn/metrics/_classification.py:1318: UndefinedMetricWarning: Recall and F-score are ill-defined and being set to 0.0 in labels with no true samples. Use `zero_division` parameter to control this behavior.\n",
            "  _warn_prf(average, modifier, msg_start, len(result))\n",
            "/usr/local/lib/python3.8/dist-packages/sklearn/metrics/_classification.py:1318: UndefinedMetricWarning: Precision and F-score are ill-defined and being set to 0.0 in labels with no predicted samples. Use `zero_division` parameter to control this behavior.\n",
            "  _warn_prf(average, modifier, msg_start, len(result))\n",
            "/usr/local/lib/python3.8/dist-packages/sklearn/metrics/_classification.py:1318: UndefinedMetricWarning: Recall and F-score are ill-defined and being set to 0.0 in labels with no true samples. Use `zero_division` parameter to control this behavior.\n",
            "  _warn_prf(average, modifier, msg_start, len(result))\n",
            "/usr/local/lib/python3.8/dist-packages/sklearn/metrics/_classification.py:1318: UndefinedMetricWarning: Precision and F-score are ill-defined and being set to 0.0 in labels with no predicted samples. Use `zero_division` parameter to control this behavior.\n",
            "  _warn_prf(average, modifier, msg_start, len(result))\n",
            "/usr/local/lib/python3.8/dist-packages/sklearn/metrics/_classification.py:1318: UndefinedMetricWarning: Recall and F-score are ill-defined and being set to 0.0 in labels with no true samples. Use `zero_division` parameter to control this behavior.\n",
            "  _warn_prf(average, modifier, msg_start, len(result))\n"
          ]
        }
      ]
    },
    {
      "cell_type": "markdown",
      "source": [
        "7) Extra Trees Classifier"
      ],
      "metadata": {
        "id": "mSI5n8gsFJxX"
      }
    },
    {
      "cell_type": "code",
      "source": [
        "model=ExtraTreesClassifier()\n",
        "data=model.fit(X_train,Y1_train)\n",
        "Y1_predict=data.predict(X_test)\n",
        "print(\"The classification report for Fish Length is:\",classification_report(Y1_test,Y1_predict))\n",
        "print(\"The confusion matrix for Fish Length is:\",confusion_matrix(Y1_test,Y1_predict))\n",
        "data=model.fit(X_train,Y2_train)\n",
        "Y2_predict=data.predict(X_test)\n",
        "print(\"The classification report for Fish Weight is:\",classification_report(Y2_test,Y2_predict))\n",
        "print(\"The confusion matrix for Fish Weight is:\",confusion_matrix(Y2_test,Y2_predict))"
      ],
      "metadata": {
        "colab": {
          "base_uri": "https://localhost:8080/"
        },
        "id": "2Z8xq-EQFHBs",
        "outputId": "9294d7cc-2e89-4680-b10c-6f52a9f7a931"
      },
      "execution_count": 21,
      "outputs": [
        {
          "output_type": "stream",
          "name": "stdout",
          "text": [
            "The classification report for Fish Length is:               precision    recall  f1-score   support\n",
            "\n",
            "       13.45       0.04      0.04      0.04        25\n",
            " 14.15714289       0.00      0.00      0.00         0\n",
            " 15.10000009       0.00      0.00      0.00         0\n",
            " 15.33571439       0.00      0.00      0.00         3\n",
            " 15.57142869       0.16      0.16      0.16        19\n",
            " 15.80714299       0.00      0.00      0.00         6\n",
            " 16.04285729       0.00      0.00      0.00         2\n",
            " 16.27857159       0.00      0.00      0.00         0\n",
            " 16.51428589       0.14      0.20      0.17         5\n",
            "        31.7       0.08      0.08      0.08        24\n",
            "    41.11143       0.00      0.00      0.00         1\n",
            "    41.48786       0.00      0.00      0.00         7\n",
            "    44.54929       0.18      0.19      0.18        31\n",
            "\n",
            "    accuracy                           0.11       123\n",
            "   macro avg       0.05      0.05      0.05       123\n",
            "weighted avg       0.10      0.11      0.10       123\n",
            "\n",
            "The confusion matrix for Fish Length is: [[ 1  0  0  0  0  0  0  0  0 24  0  0  0]\n",
            " [ 0  0  0  0  0  0  0  0  0  0  0  0  0]\n",
            " [ 0  0  0  0  0  0  0  0  0  0  0  0  0]\n",
            " [ 0  0  0  0  0  0  0  0  0  0  0  3  0]\n",
            " [ 0  0  0  0  3  0  0  0  0  0  0  0 16]\n",
            " [ 0  0  0  0  0  0  0  0  0  0  0  0  6]\n",
            " [ 0  0  0  0  0  0  0  0  0  0  0  0  2]\n",
            " [ 0  0  0  0  0  0  0  0  0  0  0  0  0]\n",
            " [ 0  0  0  0  0  0  0  0  1  0  0  0  4]\n",
            " [22  0  0  0  0  0  0  0  0  2  0  0  0]\n",
            " [ 0  1  0  0  0  0  0  0  0  0  0  0  0]\n",
            " [ 0  0  1  6  0  0  0  0  0  0  0  0  0]\n",
            " [ 0  0  0  0 16  2  0  1  6  0  0  0  6]]\n",
            "The classification report for Fish Weight is:               precision    recall  f1-score   support\n",
            "\n",
            "       263.0       0.08      0.08      0.08        24\n",
            "        27.6       0.04      0.04      0.04        25\n",
            " 33.70713429       0.00      0.00      0.00         0\n",
            " 41.84997429       0.00      0.00      0.00         0\n",
            " 43.88568429       0.00      0.00      0.00         3\n",
            " 45.92139429       0.16      0.16      0.16        19\n",
            " 47.95710429       0.00      0.00      0.00         6\n",
            " 49.99281429       0.00      0.00      0.00         2\n",
            " 52.02852429       0.00      0.00      0.00         0\n",
            " 54.06423429       0.14      0.20      0.17         5\n",
            "    601.8071       0.00      0.00      0.00         1\n",
            "    617.4929       0.00      0.00      0.00         7\n",
            "    689.1429       0.18      0.19      0.18        31\n",
            "\n",
            "    accuracy                           0.11       123\n",
            "   macro avg       0.05      0.05      0.05       123\n",
            "weighted avg       0.10      0.11      0.10       123\n",
            "\n",
            "The confusion matrix for Fish Weight is: [[ 2 22  0  0  0  0  0  0  0  0  0  0  0]\n",
            " [24  1  0  0  0  0  0  0  0  0  0  0  0]\n",
            " [ 0  0  0  0  0  0  0  0  0  0  0  0  0]\n",
            " [ 0  0  0  0  0  0  0  0  0  0  0  0  0]\n",
            " [ 0  0  0  0  0  0  0  0  0  0  0  3  0]\n",
            " [ 0  0  0  0  0  3  0  0  0  0  0  0 16]\n",
            " [ 0  0  0  0  0  0  0  0  0  0  0  0  6]\n",
            " [ 0  0  0  0  0  0  0  0  0  0  0  0  2]\n",
            " [ 0  0  0  0  0  0  0  0  0  0  0  0  0]\n",
            " [ 0  0  0  0  0  0  0  0  0  1  0  0  4]\n",
            " [ 0  0  1  0  0  0  0  0  0  0  0  0  0]\n",
            " [ 0  0  0  1  6  0  0  0  0  0  0  0  0]\n",
            " [ 0  0  0  0  0 16  2  0  1  6  0  0  6]]\n"
          ]
        },
        {
          "output_type": "stream",
          "name": "stderr",
          "text": [
            "/usr/local/lib/python3.8/dist-packages/sklearn/metrics/_classification.py:1318: UndefinedMetricWarning: Precision and F-score are ill-defined and being set to 0.0 in labels with no predicted samples. Use `zero_division` parameter to control this behavior.\n",
            "  _warn_prf(average, modifier, msg_start, len(result))\n",
            "/usr/local/lib/python3.8/dist-packages/sklearn/metrics/_classification.py:1318: UndefinedMetricWarning: Recall and F-score are ill-defined and being set to 0.0 in labels with no true samples. Use `zero_division` parameter to control this behavior.\n",
            "  _warn_prf(average, modifier, msg_start, len(result))\n",
            "/usr/local/lib/python3.8/dist-packages/sklearn/metrics/_classification.py:1318: UndefinedMetricWarning: Precision and F-score are ill-defined and being set to 0.0 in labels with no predicted samples. Use `zero_division` parameter to control this behavior.\n",
            "  _warn_prf(average, modifier, msg_start, len(result))\n",
            "/usr/local/lib/python3.8/dist-packages/sklearn/metrics/_classification.py:1318: UndefinedMetricWarning: Recall and F-score are ill-defined and being set to 0.0 in labels with no true samples. Use `zero_division` parameter to control this behavior.\n",
            "  _warn_prf(average, modifier, msg_start, len(result))\n",
            "/usr/local/lib/python3.8/dist-packages/sklearn/metrics/_classification.py:1318: UndefinedMetricWarning: Precision and F-score are ill-defined and being set to 0.0 in labels with no predicted samples. Use `zero_division` parameter to control this behavior.\n",
            "  _warn_prf(average, modifier, msg_start, len(result))\n",
            "/usr/local/lib/python3.8/dist-packages/sklearn/metrics/_classification.py:1318: UndefinedMetricWarning: Recall and F-score are ill-defined and being set to 0.0 in labels with no true samples. Use `zero_division` parameter to control this behavior.\n",
            "  _warn_prf(average, modifier, msg_start, len(result))\n",
            "/usr/local/lib/python3.8/dist-packages/sklearn/metrics/_classification.py:1318: UndefinedMetricWarning: Precision and F-score are ill-defined and being set to 0.0 in labels with no predicted samples. Use `zero_division` parameter to control this behavior.\n",
            "  _warn_prf(average, modifier, msg_start, len(result))\n",
            "/usr/local/lib/python3.8/dist-packages/sklearn/metrics/_classification.py:1318: UndefinedMetricWarning: Recall and F-score are ill-defined and being set to 0.0 in labels with no true samples. Use `zero_division` parameter to control this behavior.\n",
            "  _warn_prf(average, modifier, msg_start, len(result))\n",
            "/usr/local/lib/python3.8/dist-packages/sklearn/metrics/_classification.py:1318: UndefinedMetricWarning: Precision and F-score are ill-defined and being set to 0.0 in labels with no predicted samples. Use `zero_division` parameter to control this behavior.\n",
            "  _warn_prf(average, modifier, msg_start, len(result))\n",
            "/usr/local/lib/python3.8/dist-packages/sklearn/metrics/_classification.py:1318: UndefinedMetricWarning: Recall and F-score are ill-defined and being set to 0.0 in labels with no true samples. Use `zero_division` parameter to control this behavior.\n",
            "  _warn_prf(average, modifier, msg_start, len(result))\n",
            "/usr/local/lib/python3.8/dist-packages/sklearn/metrics/_classification.py:1318: UndefinedMetricWarning: Precision and F-score are ill-defined and being set to 0.0 in labels with no predicted samples. Use `zero_division` parameter to control this behavior.\n",
            "  _warn_prf(average, modifier, msg_start, len(result))\n",
            "/usr/local/lib/python3.8/dist-packages/sklearn/metrics/_classification.py:1318: UndefinedMetricWarning: Recall and F-score are ill-defined and being set to 0.0 in labels with no true samples. Use `zero_division` parameter to control this behavior.\n",
            "  _warn_prf(average, modifier, msg_start, len(result))\n"
          ]
        }
      ]
    },
    {
      "cell_type": "markdown",
      "source": [
        "8) Gradient Boosting Classifier"
      ],
      "metadata": {
        "id": "sFB8CLt-FPdE"
      }
    },
    {
      "cell_type": "code",
      "source": [
        "model=GradientBoostingClassifier()\n",
        "data=model.fit(X_train,Y1_train)\n",
        "Y1_predict=data.predict(X_test)\n",
        "print(\"The classification report for Fish Length is:\",classification_report(Y1_test,Y1_predict))\n",
        "print(\"The confusion matrix for Fish Length is:\",confusion_matrix(Y1_test,Y1_predict))\n",
        "data=model.fit(X_train,Y2_train)\n",
        "Y2_predict=data.predict(X_test)\n",
        "print(\"The classification report for Fish Weight is:\",classification_report(Y2_test,Y2_predict))\n",
        "print(\"The confusion matrix for Fish Weight is:\",confusion_matrix(Y2_test,Y2_predict))"
      ],
      "metadata": {
        "colab": {
          "base_uri": "https://localhost:8080/"
        },
        "id": "Zr2OMc-TFMtl",
        "outputId": "bdd5f9e1-1985-4b69-b9e1-a2587cc70b83"
      },
      "execution_count": 22,
      "outputs": [
        {
          "output_type": "stream",
          "name": "stderr",
          "text": [
            "/usr/local/lib/python3.8/dist-packages/sklearn/metrics/_classification.py:1318: UndefinedMetricWarning: Precision and F-score are ill-defined and being set to 0.0 in labels with no predicted samples. Use `zero_division` parameter to control this behavior.\n",
            "  _warn_prf(average, modifier, msg_start, len(result))\n",
            "/usr/local/lib/python3.8/dist-packages/sklearn/metrics/_classification.py:1318: UndefinedMetricWarning: Recall and F-score are ill-defined and being set to 0.0 in labels with no true samples. Use `zero_division` parameter to control this behavior.\n",
            "  _warn_prf(average, modifier, msg_start, len(result))\n",
            "/usr/local/lib/python3.8/dist-packages/sklearn/metrics/_classification.py:1318: UndefinedMetricWarning: Precision and F-score are ill-defined and being set to 0.0 in labels with no predicted samples. Use `zero_division` parameter to control this behavior.\n",
            "  _warn_prf(average, modifier, msg_start, len(result))\n",
            "/usr/local/lib/python3.8/dist-packages/sklearn/metrics/_classification.py:1318: UndefinedMetricWarning: Recall and F-score are ill-defined and being set to 0.0 in labels with no true samples. Use `zero_division` parameter to control this behavior.\n",
            "  _warn_prf(average, modifier, msg_start, len(result))\n",
            "/usr/local/lib/python3.8/dist-packages/sklearn/metrics/_classification.py:1318: UndefinedMetricWarning: Precision and F-score are ill-defined and being set to 0.0 in labels with no predicted samples. Use `zero_division` parameter to control this behavior.\n",
            "  _warn_prf(average, modifier, msg_start, len(result))\n",
            "/usr/local/lib/python3.8/dist-packages/sklearn/metrics/_classification.py:1318: UndefinedMetricWarning: Recall and F-score are ill-defined and being set to 0.0 in labels with no true samples. Use `zero_division` parameter to control this behavior.\n",
            "  _warn_prf(average, modifier, msg_start, len(result))\n"
          ]
        },
        {
          "output_type": "stream",
          "name": "stdout",
          "text": [
            "The classification report for Fish Length is:               precision    recall  f1-score   support\n",
            "\n",
            "       13.45       0.04      0.04      0.04        25\n",
            " 14.15714289       0.00      0.00      0.00         0\n",
            " 15.10000009       0.00      0.00      0.00         0\n",
            " 15.33571439       0.00      0.00      0.00         3\n",
            " 15.57142869       0.16      0.16      0.16        19\n",
            " 15.80714299       0.25      0.17      0.20         6\n",
            " 16.04285729       0.00      0.00      0.00         2\n",
            " 16.27857159       0.00      0.00      0.00         0\n",
            " 16.51428589       0.00      0.00      0.00         5\n",
            "        31.7       0.08      0.08      0.08        24\n",
            "    41.11143       0.00      0.00      0.00         1\n",
            "    41.48786       0.00      0.00      0.00         7\n",
            "    44.54929       0.18      0.19      0.18        31\n",
            "\n",
            "    accuracy                           0.11       123\n",
            "   macro avg       0.05      0.05      0.05       123\n",
            "weighted avg       0.10      0.11      0.10       123\n",
            "\n",
            "The confusion matrix for Fish Length is: [[ 1  0  0  0  0  0  0  0  0 24  0  0  0]\n",
            " [ 0  0  0  0  0  0  0  0  0  0  0  0  0]\n",
            " [ 0  0  0  0  0  0  0  0  0  0  0  0  0]\n",
            " [ 0  0  0  0  0  0  0  0  0  0  0  3  0]\n",
            " [ 0  0  0  0  3  0  0  0  0  0  0  0 16]\n",
            " [ 0  0  0  0  0  1  0  0  0  0  0  0  5]\n",
            " [ 0  0  0  0  0  0  0  0  0  0  0  0  2]\n",
            " [ 0  0  0  0  0  0  0  0  0  0  0  0  0]\n",
            " [ 0  0  0  0  0  0  0  0  0  0  0  0  5]\n",
            " [22  0  0  0  0  0  0  0  0  2  0  0  0]\n",
            " [ 0  1  0  0  0  0  0  0  0  0  0  0  0]\n",
            " [ 0  0  1  6  0  0  0  0  0  0  0  0  0]\n",
            " [ 0  0  0  0 16  3  0  1  5  0  0  0  6]]\n",
            "The classification report for Fish Weight is:               precision    recall  f1-score   support\n",
            "\n",
            "       263.0       0.04      0.04      0.04        24\n",
            "        27.6       0.08      0.08      0.08        25\n",
            " 33.70713429       0.00      0.00      0.00         0\n",
            " 41.84997429       0.00      0.00      0.00         0\n",
            " 43.88568429       0.00      0.00      0.00         3\n",
            " 45.92139429       0.16      0.16      0.16        19\n",
            " 47.95710429       0.25      0.17      0.20         6\n",
            " 49.99281429       0.00      0.00      0.00         2\n",
            " 52.02852429       0.00      0.00      0.00         0\n",
            " 54.06423429       0.00      0.00      0.00         5\n",
            "    601.8071       0.00      0.00      0.00         1\n",
            "    617.4929       0.00      0.00      0.00         7\n",
            "    689.1429       0.18      0.19      0.18        31\n",
            "\n",
            "    accuracy                           0.11       123\n",
            "   macro avg       0.05      0.05      0.05       123\n",
            "weighted avg       0.11      0.11      0.11       123\n",
            "\n",
            "The confusion matrix for Fish Weight is: [[ 1 23  0  0  0  0  0  0  0  0  0  0  0]\n",
            " [23  2  0  0  0  0  0  0  0  0  0  0  0]\n",
            " [ 0  0  0  0  0  0  0  0  0  0  0  0  0]\n",
            " [ 0  0  0  0  0  0  0  0  0  0  0  0  0]\n",
            " [ 0  0  0  0  0  0  0  0  0  0  0  3  0]\n",
            " [ 0  0  0  0  0  3  0  0  0  0  0  0 16]\n",
            " [ 0  0  0  0  0  0  1  0  0  0  0  0  5]\n",
            " [ 0  0  0  0  0  0  0  0  0  0  0  0  2]\n",
            " [ 0  0  0  0  0  0  0  0  0  0  0  0  0]\n",
            " [ 0  0  0  0  0  0  0  0  0  0  0  0  5]\n",
            " [ 0  0  1  0  0  0  0  0  0  0  0  0  0]\n",
            " [ 0  0  0  1  6  0  0  0  0  0  0  0  0]\n",
            " [ 0  0  0  0  0 16  3  0  1  5  0  0  6]]\n"
          ]
        },
        {
          "output_type": "stream",
          "name": "stderr",
          "text": [
            "/usr/local/lib/python3.8/dist-packages/sklearn/metrics/_classification.py:1318: UndefinedMetricWarning: Precision and F-score are ill-defined and being set to 0.0 in labels with no predicted samples. Use `zero_division` parameter to control this behavior.\n",
            "  _warn_prf(average, modifier, msg_start, len(result))\n",
            "/usr/local/lib/python3.8/dist-packages/sklearn/metrics/_classification.py:1318: UndefinedMetricWarning: Recall and F-score are ill-defined and being set to 0.0 in labels with no true samples. Use `zero_division` parameter to control this behavior.\n",
            "  _warn_prf(average, modifier, msg_start, len(result))\n",
            "/usr/local/lib/python3.8/dist-packages/sklearn/metrics/_classification.py:1318: UndefinedMetricWarning: Precision and F-score are ill-defined and being set to 0.0 in labels with no predicted samples. Use `zero_division` parameter to control this behavior.\n",
            "  _warn_prf(average, modifier, msg_start, len(result))\n",
            "/usr/local/lib/python3.8/dist-packages/sklearn/metrics/_classification.py:1318: UndefinedMetricWarning: Recall and F-score are ill-defined and being set to 0.0 in labels with no true samples. Use `zero_division` parameter to control this behavior.\n",
            "  _warn_prf(average, modifier, msg_start, len(result))\n",
            "/usr/local/lib/python3.8/dist-packages/sklearn/metrics/_classification.py:1318: UndefinedMetricWarning: Precision and F-score are ill-defined and being set to 0.0 in labels with no predicted samples. Use `zero_division` parameter to control this behavior.\n",
            "  _warn_prf(average, modifier, msg_start, len(result))\n",
            "/usr/local/lib/python3.8/dist-packages/sklearn/metrics/_classification.py:1318: UndefinedMetricWarning: Recall and F-score are ill-defined and being set to 0.0 in labels with no true samples. Use `zero_division` parameter to control this behavior.\n",
            "  _warn_prf(average, modifier, msg_start, len(result))\n"
          ]
        }
      ]
    },
    {
      "cell_type": "markdown",
      "source": [
        "9) Naive Bayes Classifier"
      ],
      "metadata": {
        "id": "aC6jaqycFVhw"
      }
    },
    {
      "cell_type": "code",
      "source": [
        "model=MultinomialNB()\n",
        "data=model.fit(X_train,Y1_train)\n",
        "Y1_predict=data.predict(X_test)\n",
        "print(\"The classification report for Fish Length is:\",classification_report(Y1_test,Y1_predict))\n",
        "print(\"The confusion matrix for Fish Length is:\",confusion_matrix(Y1_test,Y1_predict))\n",
        "data=model.fit(X_train,Y2_train)\n",
        "Y2_predict=data.predict(X_test)\n",
        "print(\"The classification report for Fish Weight is:\",classification_report(Y2_test,Y2_predict))\n",
        "print(\"The confusion matrix for Fish Weight is:\",confusion_matrix(Y2_test,Y2_predict))"
      ],
      "metadata": {
        "colab": {
          "base_uri": "https://localhost:8080/"
        },
        "id": "mOtu0jA3FTAW",
        "outputId": "a51fdd1a-b847-4dde-e7ce-cd3b57f75e7c"
      },
      "execution_count": 23,
      "outputs": [
        {
          "output_type": "stream",
          "name": "stdout",
          "text": [
            "The classification report for Fish Length is:               precision    recall  f1-score   support\n",
            "\n",
            "       13.45       0.00      0.00      0.00        25\n",
            " 15.33571439       0.00      0.00      0.00         3\n",
            " 15.57142869       0.00      0.00      0.00        19\n",
            " 15.80714299       0.00      0.00      0.00         6\n",
            " 16.04285729       0.00      0.00      0.00         2\n",
            " 16.51428589       0.00      0.00      0.00         5\n",
            "        31.7       0.00      0.00      0.00        24\n",
            "    41.11143       0.00      0.00      0.00         1\n",
            "    41.48786       0.00      0.00      0.00         7\n",
            "    44.54929       0.24      0.94      0.38        31\n",
            "\n",
            "    accuracy                           0.24       123\n",
            "   macro avg       0.02      0.09      0.04       123\n",
            "weighted avg       0.06      0.24      0.10       123\n",
            "\n",
            "The confusion matrix for Fish Length is: [[ 0  0  0  0  0  0  1  0  0 24]\n",
            " [ 0  0  0  0  0  0  0  0  0  3]\n",
            " [ 0  0  0  0  0  0  0  0  0 19]\n",
            " [ 0  0  0  0  0  0  0  0  0  6]\n",
            " [ 0  0  0  0  0  0  0  0  0  2]\n",
            " [ 0  0  0  0  0  0  0  0  0  5]\n",
            " [ 0  0  0  0  0  0  0  0  0 24]\n",
            " [ 0  0  0  0  0  0  0  0  0  1]\n",
            " [ 0  0  0  0  0  0  0  0  0  7]\n",
            " [ 0  0  0  0  0  0  2  0  0 29]]\n",
            "The classification report for Fish Weight is:               precision    recall  f1-score   support\n",
            "\n",
            "       263.0       0.00      0.00      0.00        24\n",
            "        27.6       0.00      0.00      0.00        25\n",
            " 43.88568429       0.00      0.00      0.00         3\n",
            " 45.92139429       0.00      0.00      0.00        19\n",
            " 47.95710429       0.00      0.00      0.00         6\n",
            " 49.99281429       0.00      0.00      0.00         2\n",
            " 54.06423429       0.00      0.00      0.00         5\n",
            "    601.8071       0.00      0.00      0.00         1\n",
            "    617.4929       0.00      0.00      0.00         7\n",
            "    689.1429       0.24      0.94      0.38        31\n",
            "\n",
            "    accuracy                           0.24       123\n",
            "   macro avg       0.02      0.09      0.04       123\n",
            "weighted avg       0.06      0.24      0.10       123\n",
            "\n",
            "The confusion matrix for Fish Weight is: [[ 0  0  0  0  0  0  0  0  0 24]\n",
            " [ 1  0  0  0  0  0  0  0  0 24]\n",
            " [ 0  0  0  0  0  0  0  0  0  3]\n",
            " [ 0  0  0  0  0  0  0  0  0 19]\n",
            " [ 0  0  0  0  0  0  0  0  0  6]\n",
            " [ 0  0  0  0  0  0  0  0  0  2]\n",
            " [ 0  0  0  0  0  0  0  0  0  5]\n",
            " [ 0  0  0  0  0  0  0  0  0  1]\n",
            " [ 0  0  0  0  0  0  0  0  0  7]\n",
            " [ 2  0  0  0  0  0  0  0  0 29]]\n"
          ]
        },
        {
          "output_type": "stream",
          "name": "stderr",
          "text": [
            "/usr/local/lib/python3.8/dist-packages/sklearn/metrics/_classification.py:1318: UndefinedMetricWarning: Precision and F-score are ill-defined and being set to 0.0 in labels with no predicted samples. Use `zero_division` parameter to control this behavior.\n",
            "  _warn_prf(average, modifier, msg_start, len(result))\n",
            "/usr/local/lib/python3.8/dist-packages/sklearn/metrics/_classification.py:1318: UndefinedMetricWarning: Precision and F-score are ill-defined and being set to 0.0 in labels with no predicted samples. Use `zero_division` parameter to control this behavior.\n",
            "  _warn_prf(average, modifier, msg_start, len(result))\n",
            "/usr/local/lib/python3.8/dist-packages/sklearn/metrics/_classification.py:1318: UndefinedMetricWarning: Precision and F-score are ill-defined and being set to 0.0 in labels with no predicted samples. Use `zero_division` parameter to control this behavior.\n",
            "  _warn_prf(average, modifier, msg_start, len(result))\n",
            "/usr/local/lib/python3.8/dist-packages/sklearn/metrics/_classification.py:1318: UndefinedMetricWarning: Precision and F-score are ill-defined and being set to 0.0 in labels with no predicted samples. Use `zero_division` parameter to control this behavior.\n",
            "  _warn_prf(average, modifier, msg_start, len(result))\n",
            "/usr/local/lib/python3.8/dist-packages/sklearn/metrics/_classification.py:1318: UndefinedMetricWarning: Precision and F-score are ill-defined and being set to 0.0 in labels with no predicted samples. Use `zero_division` parameter to control this behavior.\n",
            "  _warn_prf(average, modifier, msg_start, len(result))\n",
            "/usr/local/lib/python3.8/dist-packages/sklearn/metrics/_classification.py:1318: UndefinedMetricWarning: Precision and F-score are ill-defined and being set to 0.0 in labels with no predicted samples. Use `zero_division` parameter to control this behavior.\n",
            "  _warn_prf(average, modifier, msg_start, len(result))\n"
          ]
        }
      ]
    }
  ]
}